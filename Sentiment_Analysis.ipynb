{
 "cells": [
  {
   "cell_type": "code",
   "execution_count": 1,
   "metadata": {},
   "outputs": [],
   "source": [
    "import pandas as pd\n",
    "import numpy as np"
   ]
  },
  {
   "cell_type": "code",
   "execution_count": 2,
   "metadata": {},
   "outputs": [
    {
     "data": {
      "text/html": [
       "<div>\n",
       "<style scoped>\n",
       "    .dataframe tbody tr th:only-of-type {\n",
       "        vertical-align: middle;\n",
       "    }\n",
       "\n",
       "    .dataframe tbody tr th {\n",
       "        vertical-align: top;\n",
       "    }\n",
       "\n",
       "    .dataframe thead th {\n",
       "        text-align: right;\n",
       "    }\n",
       "</style>\n",
       "<table border=\"1\" class=\"dataframe\">\n",
       "  <thead>\n",
       "    <tr style=\"text-align: right;\">\n",
       "      <th></th>\n",
       "      <th>Unnamed: 0</th>\n",
       "      <th>statement</th>\n",
       "      <th>status</th>\n",
       "    </tr>\n",
       "  </thead>\n",
       "  <tbody>\n",
       "    <tr>\n",
       "      <th>32476</th>\n",
       "      <td>32476</td>\n",
       "      <td>that's rude.</td>\n",
       "      <td>Normal</td>\n",
       "    </tr>\n",
       "    <tr>\n",
       "      <th>43022</th>\n",
       "      <td>43022</td>\n",
       "      <td>ugh just read on cnn that they found the cantu...</td>\n",
       "      <td>Normal</td>\n",
       "    </tr>\n",
       "    <tr>\n",
       "      <th>42663</th>\n",
       "      <td>42663</td>\n",
       "      <td>tacce dang i ll get house off itunes i hear it...</td>\n",
       "      <td>Normal</td>\n",
       "    </tr>\n",
       "    <tr>\n",
       "      <th>28110</th>\n",
       "      <td>28110</td>\n",
       "      <td>That could be defeated by National Post printi...</td>\n",
       "      <td>Normal</td>\n",
       "    </tr>\n",
       "    <tr>\n",
       "      <th>36781</th>\n",
       "      <td>36781</td>\n",
       "      <td>loves the weather and goes on a bike tour with...</td>\n",
       "      <td>Normal</td>\n",
       "    </tr>\n",
       "  </tbody>\n",
       "</table>\n",
       "</div>"
      ],
      "text/plain": [
       "       Unnamed: 0                                          statement  status\n",
       "32476       32476                                       that's rude.  Normal\n",
       "43022       43022  ugh just read on cnn that they found the cantu...  Normal\n",
       "42663       42663  tacce dang i ll get house off itunes i hear it...  Normal\n",
       "28110       28110  That could be defeated by National Post printi...  Normal\n",
       "36781       36781  loves the weather and goes on a bike tour with...  Normal"
      ]
     },
     "execution_count": 2,
     "metadata": {},
     "output_type": "execute_result"
    }
   ],
   "source": [
    "df = pd.read_csv('/Users/dhaanusk/Desktop/NLP/Combined Data.csv')\n",
    "df.sample(5)"
   ]
  },
  {
   "cell_type": "code",
   "execution_count": 3,
   "metadata": {},
   "outputs": [
    {
     "data": {
      "text/plain": [
       "'status'"
      ]
     },
     "execution_count": 3,
     "metadata": {},
     "output_type": "execute_result"
    }
   ],
   "source": [
    "df.columns.values[2]"
   ]
  },
  {
   "cell_type": "code",
   "execution_count": 4,
   "metadata": {},
   "outputs": [],
   "source": [
    "df.columns.values[2] = 'Label'"
   ]
  },
  {
   "cell_type": "code",
   "execution_count": 5,
   "metadata": {},
   "outputs": [],
   "source": [
    "df.columns.values[1] = 'Text'"
   ]
  },
  {
   "cell_type": "code",
   "execution_count": 6,
   "metadata": {},
   "outputs": [
    {
     "name": "stdout",
     "output_type": "stream",
     "text": [
      "Index(['Unnamed: 0', 'Text', 'Label'], dtype='object')\n"
     ]
    }
   ],
   "source": [
    "df.columns.values[2] = 'Label'  # Rename the column at index 2\n",
    "df.columns = df.columns.str.strip()  # Clean up any spaces, just in case\n",
    "print(df.columns)  # Check if the column is correctly renamed\n"
   ]
  },
  {
   "cell_type": "code",
   "execution_count": 7,
   "metadata": {},
   "outputs": [
    {
     "data": {
      "text/plain": [
       "Label\n",
       "Normal                  16351\n",
       "Depression              15404\n",
       "Suicidal                10653\n",
       "Anxiety                  3888\n",
       "Bipolar                  2877\n",
       "Stress                   2669\n",
       "Personality disorder     1201\n",
       "Name: count, dtype: int64"
      ]
     },
     "execution_count": 7,
     "metadata": {},
     "output_type": "execute_result"
    }
   ],
   "source": [
    "df['Label'].value_counts()"
   ]
  },
  {
   "cell_type": "code",
   "execution_count": 8,
   "metadata": {},
   "outputs": [],
   "source": [
    "classes_to_keep = [\"Normal\", \"Depression\", \"Suicidal\"]\n",
    "\n",
    "# Filter the dataset to keep only the selected classes\n",
    "df_filtered = df[df['Label'].isin(classes_to_keep)]"
   ]
  },
  {
   "cell_type": "code",
   "execution_count": 9,
   "metadata": {},
   "outputs": [
    {
     "data": {
      "text/html": [
       "<div>\n",
       "<style scoped>\n",
       "    .dataframe tbody tr th:only-of-type {\n",
       "        vertical-align: middle;\n",
       "    }\n",
       "\n",
       "    .dataframe tbody tr th {\n",
       "        vertical-align: top;\n",
       "    }\n",
       "\n",
       "    .dataframe thead th {\n",
       "        text-align: right;\n",
       "    }\n",
       "</style>\n",
       "<table border=\"1\" class=\"dataframe\">\n",
       "  <thead>\n",
       "    <tr style=\"text-align: right;\">\n",
       "      <th></th>\n",
       "      <th>Unnamed: 0</th>\n",
       "      <th>Text</th>\n",
       "      <th>Label</th>\n",
       "    </tr>\n",
       "  </thead>\n",
       "  <tbody>\n",
       "    <tr>\n",
       "      <th>733</th>\n",
       "      <td>733</td>\n",
       "      <td>Gr gr dreaming of ex crush to be my game, God</td>\n",
       "      <td>Normal</td>\n",
       "    </tr>\n",
       "    <tr>\n",
       "      <th>734</th>\n",
       "      <td>734</td>\n",
       "      <td>wkwkwk what a joke</td>\n",
       "      <td>Normal</td>\n",
       "    </tr>\n",
       "    <tr>\n",
       "      <th>735</th>\n",
       "      <td>735</td>\n",
       "      <td>Leaves are also standby in front of the PC ......</td>\n",
       "      <td>Normal</td>\n",
       "    </tr>\n",
       "    <tr>\n",
       "      <th>736</th>\n",
       "      <td>736</td>\n",
       "      <td>Thank God even though it's just a ride through</td>\n",
       "      <td>Normal</td>\n",
       "    </tr>\n",
       "    <tr>\n",
       "      <th>737</th>\n",
       "      <td>737</td>\n",
       "      <td>wedding teaser concept using the song day6 - o...</td>\n",
       "      <td>Normal</td>\n",
       "    </tr>\n",
       "    <tr>\n",
       "      <th>...</th>\n",
       "      <td>...</td>\n",
       "      <td>...</td>\n",
       "      <td>...</td>\n",
       "    </tr>\n",
       "    <tr>\n",
       "      <th>48283</th>\n",
       "      <td>48283</td>\n",
       "      <td>solutions So, when I have my real bad downs th...</td>\n",
       "      <td>Depression</td>\n",
       "    </tr>\n",
       "    <tr>\n",
       "      <th>48284</th>\n",
       "      <td>48284</td>\n",
       "      <td>I’m pretty sure I’m depressed.. Ive been feeli...</td>\n",
       "      <td>Depression</td>\n",
       "    </tr>\n",
       "    <tr>\n",
       "      <th>48285</th>\n",
       "      <td>48285</td>\n",
       "      <td>I can’t be bothered anymore. I’m a 22 year old...</td>\n",
       "      <td>Depression</td>\n",
       "    </tr>\n",
       "    <tr>\n",
       "      <th>48286</th>\n",
       "      <td>48286</td>\n",
       "      <td>Depression feels like you’re drowning and ther...</td>\n",
       "      <td>Depression</td>\n",
       "    </tr>\n",
       "    <tr>\n",
       "      <th>48287</th>\n",
       "      <td>48287</td>\n",
       "      <td>mental hospital- payment and ward logistic que...</td>\n",
       "      <td>Depression</td>\n",
       "    </tr>\n",
       "  </tbody>\n",
       "</table>\n",
       "<p>42408 rows × 3 columns</p>\n",
       "</div>"
      ],
      "text/plain": [
       "       Unnamed: 0                                               Text  \\\n",
       "733           733      Gr gr dreaming of ex crush to be my game, God   \n",
       "734           734                                 wkwkwk what a joke   \n",
       "735           735  Leaves are also standby in front of the PC ......   \n",
       "736           736     Thank God even though it's just a ride through   \n",
       "737           737  wedding teaser concept using the song day6 - o...   \n",
       "...           ...                                                ...   \n",
       "48283       48283  solutions So, when I have my real bad downs th...   \n",
       "48284       48284  I’m pretty sure I’m depressed.. Ive been feeli...   \n",
       "48285       48285  I can’t be bothered anymore. I’m a 22 year old...   \n",
       "48286       48286  Depression feels like you’re drowning and ther...   \n",
       "48287       48287  mental hospital- payment and ward logistic que...   \n",
       "\n",
       "            Label  \n",
       "733        Normal  \n",
       "734        Normal  \n",
       "735        Normal  \n",
       "736        Normal  \n",
       "737        Normal  \n",
       "...           ...  \n",
       "48283  Depression  \n",
       "48284  Depression  \n",
       "48285  Depression  \n",
       "48286  Depression  \n",
       "48287  Depression  \n",
       "\n",
       "[42408 rows x 3 columns]"
      ]
     },
     "execution_count": 9,
     "metadata": {},
     "output_type": "execute_result"
    }
   ],
   "source": [
    "df_filtered"
   ]
  },
  {
   "cell_type": "code",
   "execution_count": 10,
   "metadata": {},
   "outputs": [
    {
     "data": {
      "text/plain": [
       "Label\n",
       "Normal        16351\n",
       "Depression    15404\n",
       "Suicidal      10653\n",
       "Name: count, dtype: int64"
      ]
     },
     "execution_count": 10,
     "metadata": {},
     "output_type": "execute_result"
    }
   ],
   "source": [
    "df_filtered['Label'].value_counts()"
   ]
  },
  {
   "cell_type": "code",
   "execution_count": 11,
   "metadata": {},
   "outputs": [],
   "source": [
    "df = df_filtered"
   ]
  },
  {
   "cell_type": "code",
   "execution_count": 12,
   "metadata": {},
   "outputs": [
    {
     "data": {
      "text/plain": [
       "Label\n",
       "Normal        16351\n",
       "Depression    15404\n",
       "Suicidal      10653\n",
       "Name: count, dtype: int64"
      ]
     },
     "execution_count": 12,
     "metadata": {},
     "output_type": "execute_result"
    }
   ],
   "source": [
    "df['Label'].value_counts()"
   ]
  },
  {
   "cell_type": "code",
   "execution_count": 13,
   "metadata": {},
   "outputs": [],
   "source": [
    "# df[df['Label']==\"Irrelevant\"]"
   ]
  },
  {
   "cell_type": "code",
   "execution_count": 14,
   "metadata": {},
   "outputs": [],
   "source": [
    "# df[df['Label']==\"Positive\"].shape"
   ]
  },
  {
   "cell_type": "code",
   "execution_count": 15,
   "metadata": {},
   "outputs": [
    {
     "data": {
      "text/plain": [
       "(42408, 3)"
      ]
     },
     "execution_count": 15,
     "metadata": {},
     "output_type": "execute_result"
    }
   ],
   "source": [
    "df.shape"
   ]
  },
  {
   "cell_type": "code",
   "execution_count": 16,
   "metadata": {},
   "outputs": [],
   "source": [
    "# df = df[df['Label'] != 'Irrelevant']"
   ]
  },
  {
   "cell_type": "code",
   "execution_count": 17,
   "metadata": {},
   "outputs": [
    {
     "data": {
      "text/plain": [
       "(42408, 3)"
      ]
     },
     "execution_count": 17,
     "metadata": {},
     "output_type": "execute_result"
    }
   ],
   "source": [
    "df.shape"
   ]
  },
  {
   "cell_type": "code",
   "execution_count": 18,
   "metadata": {},
   "outputs": [
    {
     "data": {
      "text/plain": [
       "array(['Normal', 'Depression', 'Suicidal'], dtype=object)"
      ]
     },
     "execution_count": 18,
     "metadata": {},
     "output_type": "execute_result"
    }
   ],
   "source": [
    "df['Label'].unique()"
   ]
  },
  {
   "cell_type": "code",
   "execution_count": 19,
   "metadata": {},
   "outputs": [
    {
     "data": {
      "text/plain": [
       "0"
      ]
     },
     "execution_count": 19,
     "metadata": {},
     "output_type": "execute_result"
    }
   ],
   "source": [
    "len(df[df['Label']=='Positive'])"
   ]
  },
  {
   "cell_type": "code",
   "execution_count": 20,
   "metadata": {},
   "outputs": [
    {
     "data": {
      "text/plain": [
       "0"
      ]
     },
     "execution_count": 20,
     "metadata": {},
     "output_type": "execute_result"
    }
   ],
   "source": [
    "len(df[df['Label']=='Negative'])"
   ]
  },
  {
   "cell_type": "code",
   "execution_count": 21,
   "metadata": {},
   "outputs": [
    {
     "data": {
      "text/plain": [
       "0"
      ]
     },
     "execution_count": 21,
     "metadata": {},
     "output_type": "execute_result"
    }
   ],
   "source": [
    "len(df[df['Label']=='Neutral'])"
   ]
  },
  {
   "cell_type": "markdown",
   "metadata": {},
   "source": [
    "**Preprocessing**"
   ]
  },
  {
   "cell_type": "code",
   "execution_count": 22,
   "metadata": {},
   "outputs": [
    {
     "data": {
      "text/plain": [
       "Unnamed: 0    0\n",
       "Text          9\n",
       "Label         0\n",
       "dtype: int64"
      ]
     },
     "execution_count": 22,
     "metadata": {},
     "output_type": "execute_result"
    }
   ],
   "source": [
    "df.isna().sum()"
   ]
  },
  {
   "cell_type": "code",
   "execution_count": 23,
   "metadata": {},
   "outputs": [],
   "source": [
    "#since we are dealing with text data, and the size of null values are less compared to its volume, so it is better to drop those\n",
    "df = df.dropna()"
   ]
  },
  {
   "cell_type": "code",
   "execution_count": 24,
   "metadata": {},
   "outputs": [
    {
     "data": {
      "text/plain": [
       "Unnamed: 0    0\n",
       "Text          0\n",
       "Label         0\n",
       "dtype: int64"
      ]
     },
     "execution_count": 24,
     "metadata": {},
     "output_type": "execute_result"
    }
   ],
   "source": [
    "df.isna().sum()"
   ]
  },
  {
   "cell_type": "code",
   "execution_count": 25,
   "metadata": {},
   "outputs": [
    {
     "name": "stderr",
     "output_type": "stream",
     "text": [
      "/var/folders/xz/l46mlrsn47s9vsqd6zyhp5680000gn/T/ipykernel_2653/2124400671.py:1: SettingWithCopyWarning: \n",
      "A value is trying to be set on a copy of a slice from a DataFrame.\n",
      "Try using .loc[row_indexer,col_indexer] = value instead\n",
      "\n",
      "See the caveats in the documentation: https://pandas.pydata.org/pandas-docs/stable/user_guide/indexing.html#returning-a-view-versus-a-copy\n",
      "  df['Text'] = df['Text'].str.lower()\n"
     ]
    }
   ],
   "source": [
    "df['Text'] = df['Text'].str.lower()"
   ]
  },
  {
   "cell_type": "code",
   "execution_count": 26,
   "metadata": {},
   "outputs": [
    {
     "data": {
      "text/plain": [
       "12146    just wanted someone to talk to. for the last t...\n",
       "22587    i cannot fucking kill myself because my family...\n",
       "25413    so i already applied to amazon but all their s...\n",
       "Name: Text, dtype: object"
      ]
     },
     "execution_count": 26,
     "metadata": {},
     "output_type": "execute_result"
    }
   ],
   "source": [
    "df['Text'].sample(3)"
   ]
  },
  {
   "cell_type": "markdown",
   "metadata": {},
   "source": [
    "Using Beautiful Soup from bs4 to remove any html/web link tags and extract only the text data inside it"
   ]
  },
  {
   "cell_type": "code",
   "execution_count": 27,
   "metadata": {},
   "outputs": [],
   "source": [
    "from bs4 import BeautifulSoup"
   ]
  },
  {
   "cell_type": "code",
   "execution_count": 28,
   "metadata": {},
   "outputs": [],
   "source": [
    "def htmlext(text):\n",
    "  soup = BeautifulSoup(text, 'html.parser')\n",
    "  return soup.get_text()\n",
    "  "
   ]
  },
  {
   "cell_type": "markdown",
   "metadata": {},
   "source": [
    "Using re(Regular Expression) to remove the https/web link in a comment"
   ]
  },
  {
   "cell_type": "code",
   "execution_count": 29,
   "metadata": {},
   "outputs": [],
   "source": []
  },
  {
   "cell_type": "code",
   "execution_count": 30,
   "metadata": {},
   "outputs": [],
   "source": [
    "def remove_url(text):\n",
    "  return re.sub(r'http\\S+|www\\S+', '', text)"
   ]
  },
  {
   "cell_type": "markdown",
   "metadata": {},
   "source": [
    "The .loc[] indexer ensures that you're modifying the DataFrame directly and not a temporary view. This way, pandas will avoid the SettingWithCopyWarning."
   ]
  },
  {
   "cell_type": "code",
   "execution_count": 31,
   "metadata": {},
   "outputs": [],
   "source": [
    "df.loc[:, 'Text'] = df['Text'].apply(remove_url)"
   ]
  },
  {
   "cell_type": "code",
   "execution_count": 32,
   "metadata": {},
   "outputs": [
    {
     "data": {
      "text/plain": [
       "733          gr gr dreaming of ex crush to be my game, god\n",
       "734                                     wkwkwk what a joke\n",
       "735      leaves are also standby in front of the pc ......\n",
       "736         thank god even though it's just a ride through\n",
       "737      wedding teaser concept using the song day6 - o...\n",
       "                               ...                        \n",
       "48283    solutions so, when i have my real bad downs th...\n",
       "48284    i’m pretty sure i’m depressed.. ive been feeli...\n",
       "48285    i can’t be bothered anymore. i’m a 22 year old...\n",
       "48286    depression feels like you’re drowning and ther...\n",
       "48287    mental hospital- payment and ward logistic que...\n",
       "Name: Text, Length: 42399, dtype: object"
      ]
     },
     "execution_count": 32,
     "metadata": {},
     "output_type": "execute_result"
    }
   ],
   "source": [
    "df.loc[:, 'Text']"
   ]
  },
  {
   "cell_type": "markdown",
   "metadata": {},
   "source": [
    "Removing Punctuactions using string"
   ]
  },
  {
   "cell_type": "code",
   "execution_count": 33,
   "metadata": {},
   "outputs": [],
   "source": [
    "ts"
   ]
  },
  {
   "cell_type": "code",
   "execution_count": 34,
   "metadata": {},
   "outputs": [
    {
     "data": {
      "text/plain": [
       "'!\"#$%&\\'()*+,-./:;<=>?@[\\\\]^_`{|}~'"
      ]
     },
     "execution_count": 34,
     "metadata": {},
     "output_type": "execute_result"
    }
   ],
   "source": [
    "string.punctuation"
   ]
  },
  {
   "cell_type": "code",
   "execution_count": 35,
   "metadata": {},
   "outputs": [],
   "source": [
    "punct = string.punctuation"
   ]
  },
  {
   "cell_type": "code",
   "execution_count": 36,
   "metadata": {},
   "outputs": [],
   "source": [
    "def rem_punct(text):\n",
    "  return text.translate(str.maketrans('','', punct))"
   ]
  },
  {
   "cell_type": "code",
   "execution_count": 37,
   "metadata": {},
   "outputs": [],
   "source": [
    "df.loc[:, 'Text'] = df['Text'].apply(rem_punct)"
   ]
  },
  {
   "cell_type": "code",
   "execution_count": 38,
   "metadata": {},
   "outputs": [
    {
     "data": {
      "text/plain": [
       "733           gr gr dreaming of ex crush to be my game god\n",
       "734                                     wkwkwk what a joke\n",
       "735      leaves are also standby in front of the pc  be...\n",
       "736          thank god even though its just a ride through\n",
       "737      wedding teaser concept using the song day6  on...\n",
       "                               ...                        \n",
       "48283    solutions so when i have my real bad downs the...\n",
       "48284    i’m pretty sure i’m depressed ive been feeling...\n",
       "48285    i can’t be bothered anymore i’m a 22 year old ...\n",
       "48286    depression feels like you’re drowning and ther...\n",
       "48287    mental hospital payment and ward logistic ques...\n",
       "Name: Text, Length: 42399, dtype: object"
      ]
     },
     "execution_count": 38,
     "metadata": {},
     "output_type": "execute_result"
    }
   ],
   "source": [
    "df['Text']"
   ]
  },
  {
   "cell_type": "markdown",
   "metadata": {},
   "source": [
    "Handling Chatwords"
   ]
  },
  {
   "cell_type": "code",
   "execution_count": 39,
   "metadata": {},
   "outputs": [],
   "source": [
    "chat_words = {\n",
    "    \"AFAIK\": \"As Far As I Know\",\n",
    "    \"AFK\": \"Away From Keyboard\",\n",
    "    \"ASAP\": \"As Soon As Possible\",\n",
    "    \"ATK\": \"At The Keyboard\",\n",
    "    \"ATM\": \"At The Moment\",\n",
    "    \"A3\": \"Anytime, Anywhere, Anyplace\",\n",
    "    \"BAK\": \"Back At Keyboard\",\n",
    "    \"BBL\": \"Be Back Later\",\n",
    "    \"BBS\": \"Be Back Soon\",\n",
    "    \"BFN\": \"Bye For Now\",\n",
    "    \"B4N\": \"Bye For Now\",\n",
    "    \"BRB\": \"Be Right Back\",\n",
    "    \"BRT\": \"Be Right There\",\n",
    "    \"BTW\": \"By The Way\",\n",
    "    \"B4\": \"Before\",\n",
    "    \"B4N\": \"Bye For Now\",\n",
    "    \"CU\": \"See You\",\n",
    "    \"CUL8R\": \"See You Later\",\n",
    "    \"CYA\": \"See You\",\n",
    "    \"FAQ\": \"Frequently Asked Questions\",\n",
    "    \"FC\": \"Fingers Crossed\",\n",
    "    \"FWIW\": \"For What It's Worth\",\n",
    "    \"FYI\": \"For Your Information\",\n",
    "    \"GAL\": \"Get A Life\",\n",
    "    \"GG\": \"Good Game\",\n",
    "    \"GN\": \"Good Night\",\n",
    "    \"GMTA\": \"Great Minds Think Alike\",\n",
    "    \"GR8\": \"Great!\",\n",
    "    \"G9\": \"Genius\",\n",
    "    \"IC\": \"I See\",\n",
    "    \"ICQ\": \"I Seek you (also a chat program)\",\n",
    "    \"ILU\": \"ILU: I Love You\",\n",
    "    \"IMHO\": \"In My Honest/Humble Opinion\",\n",
    "    \"IMO\": \"In My Opinion\",\n",
    "    \"IOW\": \"In Other Words\",\n",
    "    \"IRL\": \"In Real Life\",\n",
    "    \"KISS\": \"Keep It Simple, Stupid\",\n",
    "    \"LDR\": \"Long Distance Relationship\",\n",
    "    \"LMAO\": \"Laugh My A.. Off\",\n",
    "    \"LOL\": \"Laughing Out Loud\",\n",
    "    \"LTNS\": \"Long Time No See\",\n",
    "    \"L8R\": \"Later\",\n",
    "    \"MTE\": \"My Thoughts Exactly\",\n",
    "    \"M8\": \"Mate\",\n",
    "    \"NRN\": \"No Reply Necessary\",\n",
    "    \"OIC\": \"Oh I See\",\n",
    "    \"PITA\": \"Pain In The A..\",\n",
    "    \"PRT\": \"Party\",\n",
    "    \"PRW\": \"Parents Are Watching\",\n",
    "    \"QPSA?\": \"Que Pasa?\",\n",
    "    \"ROFL\": \"Rolling On The Floor Laughing\",\n",
    "    \"ROFLOL\": \"Rolling On The Floor Laughing Out Loud\",\n",
    "    \"ROTFLMAO\": \"Rolling On The Floor Laughing My A.. Off\",\n",
    "    \"SK8\": \"Skate\",\n",
    "    \"STATS\": \"Your sex and age\",\n",
    "    \"ASL\": \"Age, Sex, Location\",\n",
    "    \"THX\": \"Thank You\",\n",
    "    \"TTFN\": \"Ta-Ta For Now!\",\n",
    "    \"TTYL\": \"Talk To You Later\",\n",
    "    \"U\": \"You\",\n",
    "    \"U2\": \"You Too\",\n",
    "    \"U4E\": \"Yours For Ever\",\n",
    "    \"WB\": \"Welcome Back\",\n",
    "    \"WTF\": \"What The F...\",\n",
    "    \"WTG\": \"Way To Go!\",\n",
    "    \"WUF\": \"Where Are You From?\",\n",
    "    \"W8\": \"Wait...\",\n",
    "    \"7K\": \"Sick:-D Laugher\",\n",
    "    \"TFW\": \"That feeling when\",\n",
    "    \"MFW\": \"My face when\",\n",
    "    \"MRW\": \"My reaction when\",\n",
    "    \"IFYP\": \"I feel your pain\",\n",
    "    \"TNTL\": \"Trying not to laugh\",\n",
    "    \"JK\": \"Just kidding\",\n",
    "    \"IDC\": \"I don't care\",\n",
    "    \"ILY\": \"I love you\",\n",
    "    \"IMU\": \"I miss you\",\n",
    "    \"ADIH\": \"Another day in hell\",\n",
    "    \"ZZZ\": \"Sleeping, bored, tired\",\n",
    "    \"WYWH\": \"Wish you were here\",\n",
    "    \"TIME\": \"Tears in my eyes\",\n",
    "    \"BAE\": \"Before anyone else\",\n",
    "    \"FIMH\": \"Forever in my heart\",\n",
    "    \"BSAAW\": \"Big smile and a wink\",\n",
    "    \"BWL\": \"Bursting with laughter\",\n",
    "    \"BFF\": \"Best friends forever\",\n",
    "    \"CSL\": \"Can't stop laughing\"\n",
    "}"
   ]
  },
  {
   "cell_type": "code",
   "execution_count": 40,
   "metadata": {},
   "outputs": [],
   "source": [
    "def rep_cw(text):\n",
    "  words = text.split()\n",
    "  for i, word in enumerate(words):\n",
    "    if word.lower() in chat_words:\n",
    "      word[i] = chat_words[word.lower()]\n",
    "  return ' '.join(words)"
   ]
  },
  {
   "cell_type": "code",
   "execution_count": 41,
   "metadata": {},
   "outputs": [],
   "source": [
    "df.loc[:, 'Text'] = df['Text'].apply(rep_cw)"
   ]
  },
  {
   "cell_type": "code",
   "execution_count": 42,
   "metadata": {},
   "outputs": [
    {
     "data": {
      "text/html": [
       "<div>\n",
       "<style scoped>\n",
       "    .dataframe tbody tr th:only-of-type {\n",
       "        vertical-align: middle;\n",
       "    }\n",
       "\n",
       "    .dataframe tbody tr th {\n",
       "        vertical-align: top;\n",
       "    }\n",
       "\n",
       "    .dataframe thead th {\n",
       "        text-align: right;\n",
       "    }\n",
       "</style>\n",
       "<table border=\"1\" class=\"dataframe\">\n",
       "  <thead>\n",
       "    <tr style=\"text-align: right;\">\n",
       "      <th></th>\n",
       "      <th>Unnamed: 0</th>\n",
       "      <th>Text</th>\n",
       "      <th>Label</th>\n",
       "    </tr>\n",
       "  </thead>\n",
       "  <tbody>\n",
       "    <tr>\n",
       "      <th>733</th>\n",
       "      <td>733</td>\n",
       "      <td>gr gr dreaming of ex crush to be my game god</td>\n",
       "      <td>Normal</td>\n",
       "    </tr>\n",
       "    <tr>\n",
       "      <th>734</th>\n",
       "      <td>734</td>\n",
       "      <td>wkwkwk what a joke</td>\n",
       "      <td>Normal</td>\n",
       "    </tr>\n",
       "    <tr>\n",
       "      <th>735</th>\n",
       "      <td>735</td>\n",
       "      <td>leaves are also standby in front of the pc bec...</td>\n",
       "      <td>Normal</td>\n",
       "    </tr>\n",
       "    <tr>\n",
       "      <th>736</th>\n",
       "      <td>736</td>\n",
       "      <td>thank god even though its just a ride through</td>\n",
       "      <td>Normal</td>\n",
       "    </tr>\n",
       "    <tr>\n",
       "      <th>737</th>\n",
       "      <td>737</td>\n",
       "      <td>wedding teaser concept using the song day6 onl...</td>\n",
       "      <td>Normal</td>\n",
       "    </tr>\n",
       "    <tr>\n",
       "      <th>...</th>\n",
       "      <td>...</td>\n",
       "      <td>...</td>\n",
       "      <td>...</td>\n",
       "    </tr>\n",
       "    <tr>\n",
       "      <th>48283</th>\n",
       "      <td>48283</td>\n",
       "      <td>solutions so when i have my real bad downs the...</td>\n",
       "      <td>Depression</td>\n",
       "    </tr>\n",
       "    <tr>\n",
       "      <th>48284</th>\n",
       "      <td>48284</td>\n",
       "      <td>i’m pretty sure i’m depressed ive been feeling...</td>\n",
       "      <td>Depression</td>\n",
       "    </tr>\n",
       "    <tr>\n",
       "      <th>48285</th>\n",
       "      <td>48285</td>\n",
       "      <td>i can’t be bothered anymore i’m a 22 year old ...</td>\n",
       "      <td>Depression</td>\n",
       "    </tr>\n",
       "    <tr>\n",
       "      <th>48286</th>\n",
       "      <td>48286</td>\n",
       "      <td>depression feels like you’re drowning and ther...</td>\n",
       "      <td>Depression</td>\n",
       "    </tr>\n",
       "    <tr>\n",
       "      <th>48287</th>\n",
       "      <td>48287</td>\n",
       "      <td>mental hospital payment and ward logistic ques...</td>\n",
       "      <td>Depression</td>\n",
       "    </tr>\n",
       "  </tbody>\n",
       "</table>\n",
       "<p>42399 rows × 3 columns</p>\n",
       "</div>"
      ],
      "text/plain": [
       "       Unnamed: 0                                               Text  \\\n",
       "733           733       gr gr dreaming of ex crush to be my game god   \n",
       "734           734                                 wkwkwk what a joke   \n",
       "735           735  leaves are also standby in front of the pc bec...   \n",
       "736           736      thank god even though its just a ride through   \n",
       "737           737  wedding teaser concept using the song day6 onl...   \n",
       "...           ...                                                ...   \n",
       "48283       48283  solutions so when i have my real bad downs the...   \n",
       "48284       48284  i’m pretty sure i’m depressed ive been feeling...   \n",
       "48285       48285  i can’t be bothered anymore i’m a 22 year old ...   \n",
       "48286       48286  depression feels like you’re drowning and ther...   \n",
       "48287       48287  mental hospital payment and ward logistic ques...   \n",
       "\n",
       "            Label  \n",
       "733        Normal  \n",
       "734        Normal  \n",
       "735        Normal  \n",
       "736        Normal  \n",
       "737        Normal  \n",
       "...           ...  \n",
       "48283  Depression  \n",
       "48284  Depression  \n",
       "48285  Depression  \n",
       "48286  Depression  \n",
       "48287  Depression  \n",
       "\n",
       "[42399 rows x 3 columns]"
      ]
     },
     "execution_count": 42,
     "metadata": {},
     "output_type": "execute_result"
    }
   ],
   "source": [
    "df"
   ]
  },
  {
   "cell_type": "code",
   "execution_count": 43,
   "metadata": {},
   "outputs": [
    {
     "data": {
      "text/plain": [
       "2230                                                perdon\n",
       "19839    i just found this one amp i do not know how i ...\n",
       "16551    it never gets better it certainly will not get...\n",
       "47865    trouble with school hello i’m in my fourth yea...\n",
       "18819    i am realy struggling to do anything at the mo...\n",
       "Name: Text, dtype: object"
      ]
     },
     "execution_count": 43,
     "metadata": {},
     "output_type": "execute_result"
    }
   ],
   "source": [
    "df['Text'].sample(5)"
   ]
  },
  {
   "cell_type": "markdown",
   "metadata": {},
   "source": [
    "Removing stop words from the texts (I'm gonna try with and without removing stop words)"
   ]
  },
  {
   "cell_type": "code",
   "execution_count": 44,
   "metadata": {},
   "outputs": [],
   "source": [
    "# pip install nltK"
   ]
  },
  {
   "cell_type": "code",
   "execution_count": 45,
   "metadata": {},
   "outputs": [],
   "source": [
    "import nltk"
   ]
  },
  {
   "cell_type": "code",
   "execution_count": 5,
   "metadata": {},
   "outputs": [],
   "source": [
    "import ssl\n",
    "\n",
    "# Disable SSL certificate verification\n",
    "ssl._create_default_https_context = ssl._create_unverified_context"
   ]
  },
  {
   "cell_type": "code",
   "execution_count": 47,
   "metadata": {},
   "outputs": [
    {
     "name": "stderr",
     "output_type": "stream",
     "text": [
      "[nltk_data] Downloading package stopwords to\n",
      "[nltk_data]     /Users/dhaanusk/nltk_data...\n",
      "[nltk_data]   Package stopwords is already up-to-date!\n"
     ]
    },
    {
     "data": {
      "text/plain": [
       "True"
      ]
     },
     "execution_count": 47,
     "metadata": {},
     "output_type": "execute_result"
    }
   ],
   "source": [
    "import nltk\n",
    "nltk.download('stopwords')\n"
   ]
  },
  {
   "cell_type": "code",
   "execution_count": 48,
   "metadata": {},
   "outputs": [
    {
     "name": "stdout",
     "output_type": "stream",
     "text": [
      "{'can', 'into', 'over', \"you'll\", 've', \"don't\", 'each', 'before', 'at', 'shouldn', 'as', 'he', 'how', \"mightn't\", 'again', 't', 'itself', 'off', 'so', \"mustn't\", \"you'd\", 'while', 'very', 's', 'my', 'our', \"weren't\", 'being', 'hasn', \"won't\", 'until', 'yourselves', 'did', 'that', 'weren', 'd', 'just', 'have', \"should've\", \"isn't\", 'am', 'what', 'own', 'with', 'more', 'whom', \"wouldn't\", 'but', 'out', 'through', 'between', 'she', 'where', 'didn', 'than', \"didn't\", 'ours', 'about', 'down', 'be', \"hasn't\", 'such', \"hadn't\", 'up', 'here', \"doesn't\", 'couldn', 'yours', 'herself', 'themselves', \"that'll\", 'do', 'all', 'won', 'or', 'when', 'same', 'now', 're', 'mustn', 'does', 'not', 'is', 'an', 'most', 'both', 'aren', 'yourself', 'too', 'they', 'a', \"it's\", 'isn', \"you're\", 'of', 'will', 'myself', 'was', 'y', 'who', 'those', 'their', \"haven't\", 'you', 'any', 'few', 'which', 'for', \"you've\", 'wouldn', 'were', 'its', 'needn', 'ain', 'doesn', 'theirs', 'further', 'against', 'her', 'nor', 'this', 'only', 'no', 'under', 'because', 'ourselves', 'been', 'and', 'we', 'doing', 'shan', 'll', 'it', 'ma', 'once', 'from', 'why', 'haven', 'has', 'some', 'other', 'in', 'himself', 'him', 'had', 'on', 'don', \"wasn't\", 'are', 'wasn', 'm', 'during', 'to', \"she's\", 'after', 'them', 'having', 'hers', \"shan't\", \"shouldn't\", \"needn't\", 'i', 'these', 'if', 'your', \"couldn't\", 'mightn', \"aren't\", 'by', 'then', 'the', 'below', 'me', 'should', 'above', 'there', 'o', 'his', 'hadn'}\n"
     ]
    },
    {
     "name": "stderr",
     "output_type": "stream",
     "text": [
      "[nltk_data] Downloading package stopwords to\n",
      "[nltk_data]     /Users/dhaanusk/nltk_data...\n",
      "[nltk_data]   Package stopwords is already up-to-date!\n"
     ]
    }
   ],
   "source": [
    "import nltk\n",
    "from nltk.corpus import stopwords\n",
    "\n",
    "# Download stopwords if you haven't already\n",
    "nltk.download('stopwords')\n",
    "\n",
    "# Get English stopwords from NLTK\n",
    "stop_words = set(stopwords.words('english'))\n",
    "\n",
    "print(stop_words)\n"
   ]
  },
  {
   "cell_type": "code",
   "execution_count": 49,
   "metadata": {},
   "outputs": [
    {
     "data": {
      "text/html": [
       "<div>\n",
       "<style scoped>\n",
       "    .dataframe tbody tr th:only-of-type {\n",
       "        vertical-align: middle;\n",
       "    }\n",
       "\n",
       "    .dataframe tbody tr th {\n",
       "        vertical-align: top;\n",
       "    }\n",
       "\n",
       "    .dataframe thead th {\n",
       "        text-align: right;\n",
       "    }\n",
       "</style>\n",
       "<table border=\"1\" class=\"dataframe\">\n",
       "  <thead>\n",
       "    <tr style=\"text-align: right;\">\n",
       "      <th></th>\n",
       "      <th>Unnamed: 0</th>\n",
       "      <th>Text</th>\n",
       "      <th>Label</th>\n",
       "    </tr>\n",
       "  </thead>\n",
       "  <tbody>\n",
       "    <tr>\n",
       "      <th>733</th>\n",
       "      <td>733</td>\n",
       "      <td>gr gr dreaming of ex crush to be my game god</td>\n",
       "      <td>Normal</td>\n",
       "    </tr>\n",
       "    <tr>\n",
       "      <th>734</th>\n",
       "      <td>734</td>\n",
       "      <td>wkwkwk what a joke</td>\n",
       "      <td>Normal</td>\n",
       "    </tr>\n",
       "    <tr>\n",
       "      <th>735</th>\n",
       "      <td>735</td>\n",
       "      <td>leaves are also standby in front of the pc bec...</td>\n",
       "      <td>Normal</td>\n",
       "    </tr>\n",
       "    <tr>\n",
       "      <th>736</th>\n",
       "      <td>736</td>\n",
       "      <td>thank god even though its just a ride through</td>\n",
       "      <td>Normal</td>\n",
       "    </tr>\n",
       "    <tr>\n",
       "      <th>737</th>\n",
       "      <td>737</td>\n",
       "      <td>wedding teaser concept using the song day6 onl...</td>\n",
       "      <td>Normal</td>\n",
       "    </tr>\n",
       "    <tr>\n",
       "      <th>...</th>\n",
       "      <td>...</td>\n",
       "      <td>...</td>\n",
       "      <td>...</td>\n",
       "    </tr>\n",
       "    <tr>\n",
       "      <th>48283</th>\n",
       "      <td>48283</td>\n",
       "      <td>solutions so when i have my real bad downs the...</td>\n",
       "      <td>Depression</td>\n",
       "    </tr>\n",
       "    <tr>\n",
       "      <th>48284</th>\n",
       "      <td>48284</td>\n",
       "      <td>i’m pretty sure i’m depressed ive been feeling...</td>\n",
       "      <td>Depression</td>\n",
       "    </tr>\n",
       "    <tr>\n",
       "      <th>48285</th>\n",
       "      <td>48285</td>\n",
       "      <td>i can’t be bothered anymore i’m a 22 year old ...</td>\n",
       "      <td>Depression</td>\n",
       "    </tr>\n",
       "    <tr>\n",
       "      <th>48286</th>\n",
       "      <td>48286</td>\n",
       "      <td>depression feels like you’re drowning and ther...</td>\n",
       "      <td>Depression</td>\n",
       "    </tr>\n",
       "    <tr>\n",
       "      <th>48287</th>\n",
       "      <td>48287</td>\n",
       "      <td>mental hospital payment and ward logistic ques...</td>\n",
       "      <td>Depression</td>\n",
       "    </tr>\n",
       "  </tbody>\n",
       "</table>\n",
       "<p>42399 rows × 3 columns</p>\n",
       "</div>"
      ],
      "text/plain": [
       "       Unnamed: 0                                               Text  \\\n",
       "733           733       gr gr dreaming of ex crush to be my game god   \n",
       "734           734                                 wkwkwk what a joke   \n",
       "735           735  leaves are also standby in front of the pc bec...   \n",
       "736           736      thank god even though its just a ride through   \n",
       "737           737  wedding teaser concept using the song day6 onl...   \n",
       "...           ...                                                ...   \n",
       "48283       48283  solutions so when i have my real bad downs the...   \n",
       "48284       48284  i’m pretty sure i’m depressed ive been feeling...   \n",
       "48285       48285  i can’t be bothered anymore i’m a 22 year old ...   \n",
       "48286       48286  depression feels like you’re drowning and ther...   \n",
       "48287       48287  mental hospital payment and ward logistic ques...   \n",
       "\n",
       "            Label  \n",
       "733        Normal  \n",
       "734        Normal  \n",
       "735        Normal  \n",
       "736        Normal  \n",
       "737        Normal  \n",
       "...           ...  \n",
       "48283  Depression  \n",
       "48284  Depression  \n",
       "48285  Depression  \n",
       "48286  Depression  \n",
       "48287  Depression  \n",
       "\n",
       "[42399 rows x 3 columns]"
      ]
     },
     "execution_count": 49,
     "metadata": {},
     "output_type": "execute_result"
    }
   ],
   "source": [
    "df"
   ]
  },
  {
   "cell_type": "code",
   "execution_count": null,
   "metadata": {},
   "outputs": [],
   "source": []
  },
  {
   "cell_type": "code",
   "execution_count": 50,
   "metadata": {},
   "outputs": [],
   "source": [
    "def remove_stopwords(text):\n",
    "    words = text.split()\n",
    "    filtered_words = [word for word in words if word.lower() not in stop_words]\n",
    "    return ' '.join(filtered_words)\n",
    "\n",
    "df.loc[:, 'Text'] = df['Text'].apply(remove_stopwords)"
   ]
  },
  {
   "cell_type": "code",
   "execution_count": 51,
   "metadata": {},
   "outputs": [
    {
     "data": {
      "text/plain": [
       "733                       gr gr dreaming ex crush game god\n",
       "734                                            wkwkwk joke\n",
       "735       leaves also standby front pc office longer leave\n",
       "736                             thank god even though ride\n",
       "737      wedding teaser concept using song day6 sounds ...\n",
       "                               ...                        \n",
       "48283    solutions real bad downs isnt way pull usually...\n",
       "48284    i’m pretty sure i’m depressed ive feeling way ...\n",
       "48285    can’t bothered anymore i’m 22 year old male re...\n",
       "48286    depression feels like you’re drowning way i’m ...\n",
       "48287    mental hospital payment ward logistic question...\n",
       "Name: Text, Length: 42399, dtype: object"
      ]
     },
     "execution_count": 51,
     "metadata": {},
     "output_type": "execute_result"
    }
   ],
   "source": [
    "df['Text']"
   ]
  },
  {
   "cell_type": "markdown",
   "metadata": {},
   "source": [
    "Removing Emojis"
   ]
  },
  {
   "cell_type": "code",
   "execution_count": 52,
   "metadata": {},
   "outputs": [],
   "source": [
    "# pip install emoji"
   ]
  },
  {
   "cell_type": "code",
   "execution_count": 53,
   "metadata": {},
   "outputs": [],
   "source": [
    "import emoji"
   ]
  },
  {
   "cell_type": "code",
   "execution_count": 54,
   "metadata": {},
   "outputs": [],
   "source": [
    "def remove_emojis(text):\n",
    "    return emoji.demojize(text)\n",
    "\n",
    "df.loc[:,'Text'] = df['Text'].apply(remove_emojis)"
   ]
  },
  {
   "cell_type": "markdown",
   "metadata": {},
   "source": [
    "Lemmatizing texts"
   ]
  },
  {
   "cell_type": "code",
   "execution_count": 55,
   "metadata": {},
   "outputs": [],
   "source": [
    "from nltk.stem import WordNetLemmatizer"
   ]
  },
  {
   "cell_type": "code",
   "execution_count": 56,
   "metadata": {},
   "outputs": [
    {
     "name": "stderr",
     "output_type": "stream",
     "text": [
      "[nltk_data] Downloading package wordnet to\n",
      "[nltk_data]     /Users/dhaanusk/nltk_data...\n",
      "[nltk_data]   Package wordnet is already up-to-date!\n"
     ]
    },
    {
     "data": {
      "text/plain": [
       "True"
      ]
     },
     "execution_count": 56,
     "metadata": {},
     "output_type": "execute_result"
    }
   ],
   "source": [
    "import nltk\n",
    "nltk.download('wordnet')"
   ]
  },
  {
   "cell_type": "code",
   "execution_count": 57,
   "metadata": {},
   "outputs": [
    {
     "name": "stderr",
     "output_type": "stream",
     "text": [
      "/var/folders/xz/l46mlrsn47s9vsqd6zyhp5680000gn/T/ipykernel_2653/1535849666.py:3: SettingWithCopyWarning: \n",
      "A value is trying to be set on a copy of a slice from a DataFrame.\n",
      "Try using .loc[row_indexer,col_indexer] = value instead\n",
      "\n",
      "See the caveats in the documentation: https://pandas.pydata.org/pandas-docs/stable/user_guide/indexing.html#returning-a-view-versus-a-copy\n",
      "  df['Text_lemmatized'] = df['Text'].apply(lambda x: ' '.join([wordnet_lemmatizer.lemmatize(word , pos='v') for word in x.split()]))\n"
     ]
    }
   ],
   "source": [
    "wordnet_lemmatizer = WordNetLemmatizer()\n",
    "\n",
    "df['Text_lemmatized'] = df['Text'].apply(lambda x: ' '.join([wordnet_lemmatizer.lemmatize(word , pos='v') for word in x.split()]))"
   ]
  },
  {
   "cell_type": "code",
   "execution_count": 58,
   "metadata": {},
   "outputs": [
    {
     "data": {
      "text/html": [
       "<div>\n",
       "<style scoped>\n",
       "    .dataframe tbody tr th:only-of-type {\n",
       "        vertical-align: middle;\n",
       "    }\n",
       "\n",
       "    .dataframe tbody tr th {\n",
       "        vertical-align: top;\n",
       "    }\n",
       "\n",
       "    .dataframe thead th {\n",
       "        text-align: right;\n",
       "    }\n",
       "</style>\n",
       "<table border=\"1\" class=\"dataframe\">\n",
       "  <thead>\n",
       "    <tr style=\"text-align: right;\">\n",
       "      <th></th>\n",
       "      <th>Unnamed: 0</th>\n",
       "      <th>Text</th>\n",
       "      <th>Label</th>\n",
       "      <th>Text_lemmatized</th>\n",
       "    </tr>\n",
       "  </thead>\n",
       "  <tbody>\n",
       "    <tr>\n",
       "      <th>733</th>\n",
       "      <td>733</td>\n",
       "      <td>gr gr dreaming ex crush game god</td>\n",
       "      <td>Normal</td>\n",
       "      <td>gr gr dream ex crush game god</td>\n",
       "    </tr>\n",
       "    <tr>\n",
       "      <th>734</th>\n",
       "      <td>734</td>\n",
       "      <td>wkwkwk joke</td>\n",
       "      <td>Normal</td>\n",
       "      <td>wkwkwk joke</td>\n",
       "    </tr>\n",
       "    <tr>\n",
       "      <th>735</th>\n",
       "      <td>735</td>\n",
       "      <td>leaves also standby front pc office longer leave</td>\n",
       "      <td>Normal</td>\n",
       "      <td>leave also standby front pc office longer leave</td>\n",
       "    </tr>\n",
       "    <tr>\n",
       "      <th>736</th>\n",
       "      <td>736</td>\n",
       "      <td>thank god even though ride</td>\n",
       "      <td>Normal</td>\n",
       "      <td>thank god even though ride</td>\n",
       "    </tr>\n",
       "    <tr>\n",
       "      <th>737</th>\n",
       "      <td>737</td>\n",
       "      <td>wedding teaser concept using song day6 sounds ...</td>\n",
       "      <td>Normal</td>\n",
       "      <td>wed teaser concept use song day6 sound good ga...</td>\n",
       "    </tr>\n",
       "    <tr>\n",
       "      <th>...</th>\n",
       "      <td>...</td>\n",
       "      <td>...</td>\n",
       "      <td>...</td>\n",
       "      <td>...</td>\n",
       "    </tr>\n",
       "    <tr>\n",
       "      <th>48283</th>\n",
       "      <td>48283</td>\n",
       "      <td>solutions real bad downs isnt way pull usually...</td>\n",
       "      <td>Depression</td>\n",
       "      <td>solutions real bad down isnt way pull usually ...</td>\n",
       "    </tr>\n",
       "    <tr>\n",
       "      <th>48284</th>\n",
       "      <td>48284</td>\n",
       "      <td>i’m pretty sure i’m depressed ive feeling way ...</td>\n",
       "      <td>Depression</td>\n",
       "      <td>i’m pretty sure i’m depress ive feel way almos...</td>\n",
       "    </tr>\n",
       "    <tr>\n",
       "      <th>48285</th>\n",
       "      <td>48285</td>\n",
       "      <td>can’t bothered anymore i’m 22 year old male re...</td>\n",
       "      <td>Depression</td>\n",
       "      <td>can’t bother anymore i’m 22 year old male real...</td>\n",
       "    </tr>\n",
       "    <tr>\n",
       "      <th>48286</th>\n",
       "      <td>48286</td>\n",
       "      <td>depression feels like you’re drowning way i’m ...</td>\n",
       "      <td>Depression</td>\n",
       "      <td>depression feel like you’re drown way i’m drow...</td>\n",
       "    </tr>\n",
       "    <tr>\n",
       "      <th>48287</th>\n",
       "      <td>48287</td>\n",
       "      <td>mental hospital payment ward logistic question...</td>\n",
       "      <td>Depression</td>\n",
       "      <td>mental hospital payment ward logistic question...</td>\n",
       "    </tr>\n",
       "  </tbody>\n",
       "</table>\n",
       "<p>42399 rows × 4 columns</p>\n",
       "</div>"
      ],
      "text/plain": [
       "       Unnamed: 0                                               Text  \\\n",
       "733           733                   gr gr dreaming ex crush game god   \n",
       "734           734                                        wkwkwk joke   \n",
       "735           735   leaves also standby front pc office longer leave   \n",
       "736           736                         thank god even though ride   \n",
       "737           737  wedding teaser concept using song day6 sounds ...   \n",
       "...           ...                                                ...   \n",
       "48283       48283  solutions real bad downs isnt way pull usually...   \n",
       "48284       48284  i’m pretty sure i’m depressed ive feeling way ...   \n",
       "48285       48285  can’t bothered anymore i’m 22 year old male re...   \n",
       "48286       48286  depression feels like you’re drowning way i’m ...   \n",
       "48287       48287  mental hospital payment ward logistic question...   \n",
       "\n",
       "            Label                                    Text_lemmatized  \n",
       "733        Normal                      gr gr dream ex crush game god  \n",
       "734        Normal                                        wkwkwk joke  \n",
       "735        Normal    leave also standby front pc office longer leave  \n",
       "736        Normal                         thank god even though ride  \n",
       "737        Normal  wed teaser concept use song day6 sound good ga...  \n",
       "...           ...                                                ...  \n",
       "48283  Depression  solutions real bad down isnt way pull usually ...  \n",
       "48284  Depression  i’m pretty sure i’m depress ive feel way almos...  \n",
       "48285  Depression  can’t bother anymore i’m 22 year old male real...  \n",
       "48286  Depression  depression feel like you’re drown way i’m drow...  \n",
       "48287  Depression  mental hospital payment ward logistic question...  \n",
       "\n",
       "[42399 rows x 4 columns]"
      ]
     },
     "execution_count": 58,
     "metadata": {},
     "output_type": "execute_result"
    }
   ],
   "source": [
    "df"
   ]
  },
  {
   "cell_type": "markdown",
   "metadata": {},
   "source": [
    "Alright pre-processing done now splitting features and target values"
   ]
  },
  {
   "cell_type": "code",
   "execution_count": 59,
   "metadata": {},
   "outputs": [],
   "source": [
    "X = df['Text_lemmatized']\n",
    "y = df['Label']"
   ]
  },
  {
   "cell_type": "code",
   "execution_count": 60,
   "metadata": {},
   "outputs": [],
   "source": [
    "from sklearn.model_selection import train_test_split"
   ]
  },
  {
   "cell_type": "code",
   "execution_count": 61,
   "metadata": {},
   "outputs": [],
   "source": [
    "X_train, X_test, y_train, y_test = train_test_split(X, y, test_size=0.2, random_state=42)"
   ]
  },
  {
   "cell_type": "markdown",
   "metadata": {},
   "source": [
    "Now Tokenizing and padding sequences"
   ]
  },
  {
   "cell_type": "code",
   "execution_count": 62,
   "metadata": {},
   "outputs": [
    {
     "data": {
      "text/plain": [
       "8445     tyson fury countless champion get would easier...\n",
       "8660     like terrible life anything get go stun hike f...\n",
       "10747    hate well see person cause pain worse way avoi...\n",
       "43598                                       feel ill sorry\n",
       "2304     may allah make easy husband affairs pg samplin...\n",
       "                               ...                        \n",
       "20952    cut wrists lot throughout life never deep cut ...\n",
       "2309                 im mood ask money another level anger\n",
       "10867                           soon ill finally free soon\n",
       "37238                                                 hate\n",
       "27364    help get kid area tan ability practice strong ...\n",
       "Name: Text_lemmatized, Length: 8480, dtype: object"
      ]
     },
     "execution_count": 62,
     "metadata": {},
     "output_type": "execute_result"
    }
   ],
   "source": [
    "X_test"
   ]
  },
  {
   "cell_type": "code",
   "execution_count": 63,
   "metadata": {},
   "outputs": [
    {
     "data": {
      "text/plain": [
       "28756    commiserate shitty exes stress 3 weeks ago dat...\n",
       "36974                    iâm tire live regular life ð¤£\n",
       "48102    feel like loser break almost 30 years old im 2...\n",
       "6080                             life never felt uncertain\n",
       "42029    kutner mean know something wa go happen someon...\n",
       "                               ...                        \n",
       "7005     sound quite stupid know last couple days prepa...\n",
       "12024    cannot anymore feel alone feel like voice drow...\n",
       "42355    go nice tomorrow rain come back nice weather b...\n",
       "1594     28 ramadan 1442 h still time us carry zakat fi...\n",
       "16535    enough die 8i die 9i die 10i death 12but delay...\n",
       "Name: Text_lemmatized, Length: 33919, dtype: object"
      ]
     },
     "execution_count": 63,
     "metadata": {},
     "output_type": "execute_result"
    }
   ],
   "source": [
    "X_train"
   ]
  },
  {
   "cell_type": "code",
   "execution_count": 64,
   "metadata": {},
   "outputs": [],
   "source": [
    "from sklearn.feature_extraction.text import CountVectorizer\n"
   ]
  },
  {
   "cell_type": "code",
   "execution_count": 65,
   "metadata": {},
   "outputs": [],
   "source": [
    "count = CountVectorizer(ngram_range=(2,2))"
   ]
  },
  {
   "cell_type": "code",
   "execution_count": 66,
   "metadata": {},
   "outputs": [],
   "source": [
    "X_tr = count.fit_transform(X_train)"
   ]
  },
  {
   "cell_type": "code",
   "execution_count": 68,
   "metadata": {},
   "outputs": [
    {
     "data": {
      "text/plain": [
       "(33919, 653181)"
      ]
     },
     "execution_count": 68,
     "metadata": {},
     "output_type": "execute_result"
    }
   ],
   "source": [
    "X_tr.shape"
   ]
  },
  {
   "cell_type": "code",
   "execution_count": 69,
   "metadata": {},
   "outputs": [],
   "source": [
    "from sklearn.ensemble import RandomForestClassifier"
   ]
  },
  {
   "cell_type": "code",
   "execution_count": 72,
   "metadata": {},
   "outputs": [],
   "source": [
    "rc = RandomForestClassifier(n_estimators=200, criterion='entropy', n_jobs=-1)"
   ]
  },
  {
   "cell_type": "code",
   "execution_count": 73,
   "metadata": {},
   "outputs": [
    {
     "data": {
      "text/html": [
       "<style>#sk-container-id-1 {\n",
       "  /* Definition of color scheme common for light and dark mode */\n",
       "  --sklearn-color-text: #000;\n",
       "  --sklearn-color-text-muted: #666;\n",
       "  --sklearn-color-line: gray;\n",
       "  /* Definition of color scheme for unfitted estimators */\n",
       "  --sklearn-color-unfitted-level-0: #fff5e6;\n",
       "  --sklearn-color-unfitted-level-1: #f6e4d2;\n",
       "  --sklearn-color-unfitted-level-2: #ffe0b3;\n",
       "  --sklearn-color-unfitted-level-3: chocolate;\n",
       "  /* Definition of color scheme for fitted estimators */\n",
       "  --sklearn-color-fitted-level-0: #f0f8ff;\n",
       "  --sklearn-color-fitted-level-1: #d4ebff;\n",
       "  --sklearn-color-fitted-level-2: #b3dbfd;\n",
       "  --sklearn-color-fitted-level-3: cornflowerblue;\n",
       "\n",
       "  /* Specific color for light theme */\n",
       "  --sklearn-color-text-on-default-background: var(--sg-text-color, var(--theme-code-foreground, var(--jp-content-font-color1, black)));\n",
       "  --sklearn-color-background: var(--sg-background-color, var(--theme-background, var(--jp-layout-color0, white)));\n",
       "  --sklearn-color-border-box: var(--sg-text-color, var(--theme-code-foreground, var(--jp-content-font-color1, black)));\n",
       "  --sklearn-color-icon: #696969;\n",
       "\n",
       "  @media (prefers-color-scheme: dark) {\n",
       "    /* Redefinition of color scheme for dark theme */\n",
       "    --sklearn-color-text-on-default-background: var(--sg-text-color, var(--theme-code-foreground, var(--jp-content-font-color1, white)));\n",
       "    --sklearn-color-background: var(--sg-background-color, var(--theme-background, var(--jp-layout-color0, #111)));\n",
       "    --sklearn-color-border-box: var(--sg-text-color, var(--theme-code-foreground, var(--jp-content-font-color1, white)));\n",
       "    --sklearn-color-icon: #878787;\n",
       "  }\n",
       "}\n",
       "\n",
       "#sk-container-id-1 {\n",
       "  color: var(--sklearn-color-text);\n",
       "}\n",
       "\n",
       "#sk-container-id-1 pre {\n",
       "  padding: 0;\n",
       "}\n",
       "\n",
       "#sk-container-id-1 input.sk-hidden--visually {\n",
       "  border: 0;\n",
       "  clip: rect(1px 1px 1px 1px);\n",
       "  clip: rect(1px, 1px, 1px, 1px);\n",
       "  height: 1px;\n",
       "  margin: -1px;\n",
       "  overflow: hidden;\n",
       "  padding: 0;\n",
       "  position: absolute;\n",
       "  width: 1px;\n",
       "}\n",
       "\n",
       "#sk-container-id-1 div.sk-dashed-wrapped {\n",
       "  border: 1px dashed var(--sklearn-color-line);\n",
       "  margin: 0 0.4em 0.5em 0.4em;\n",
       "  box-sizing: border-box;\n",
       "  padding-bottom: 0.4em;\n",
       "  background-color: var(--sklearn-color-background);\n",
       "}\n",
       "\n",
       "#sk-container-id-1 div.sk-container {\n",
       "  /* jupyter's `normalize.less` sets `[hidden] { display: none; }`\n",
       "     but bootstrap.min.css set `[hidden] { display: none !important; }`\n",
       "     so we also need the `!important` here to be able to override the\n",
       "     default hidden behavior on the sphinx rendered scikit-learn.org.\n",
       "     See: https://github.com/scikit-learn/scikit-learn/issues/21755 */\n",
       "  display: inline-block !important;\n",
       "  position: relative;\n",
       "}\n",
       "\n",
       "#sk-container-id-1 div.sk-text-repr-fallback {\n",
       "  display: none;\n",
       "}\n",
       "\n",
       "div.sk-parallel-item,\n",
       "div.sk-serial,\n",
       "div.sk-item {\n",
       "  /* draw centered vertical line to link estimators */\n",
       "  background-image: linear-gradient(var(--sklearn-color-text-on-default-background), var(--sklearn-color-text-on-default-background));\n",
       "  background-size: 2px 100%;\n",
       "  background-repeat: no-repeat;\n",
       "  background-position: center center;\n",
       "}\n",
       "\n",
       "/* Parallel-specific style estimator block */\n",
       "\n",
       "#sk-container-id-1 div.sk-parallel-item::after {\n",
       "  content: \"\";\n",
       "  width: 100%;\n",
       "  border-bottom: 2px solid var(--sklearn-color-text-on-default-background);\n",
       "  flex-grow: 1;\n",
       "}\n",
       "\n",
       "#sk-container-id-1 div.sk-parallel {\n",
       "  display: flex;\n",
       "  align-items: stretch;\n",
       "  justify-content: center;\n",
       "  background-color: var(--sklearn-color-background);\n",
       "  position: relative;\n",
       "}\n",
       "\n",
       "#sk-container-id-1 div.sk-parallel-item {\n",
       "  display: flex;\n",
       "  flex-direction: column;\n",
       "}\n",
       "\n",
       "#sk-container-id-1 div.sk-parallel-item:first-child::after {\n",
       "  align-self: flex-end;\n",
       "  width: 50%;\n",
       "}\n",
       "\n",
       "#sk-container-id-1 div.sk-parallel-item:last-child::after {\n",
       "  align-self: flex-start;\n",
       "  width: 50%;\n",
       "}\n",
       "\n",
       "#sk-container-id-1 div.sk-parallel-item:only-child::after {\n",
       "  width: 0;\n",
       "}\n",
       "\n",
       "/* Serial-specific style estimator block */\n",
       "\n",
       "#sk-container-id-1 div.sk-serial {\n",
       "  display: flex;\n",
       "  flex-direction: column;\n",
       "  align-items: center;\n",
       "  background-color: var(--sklearn-color-background);\n",
       "  padding-right: 1em;\n",
       "  padding-left: 1em;\n",
       "}\n",
       "\n",
       "\n",
       "/* Toggleable style: style used for estimator/Pipeline/ColumnTransformer box that is\n",
       "clickable and can be expanded/collapsed.\n",
       "- Pipeline and ColumnTransformer use this feature and define the default style\n",
       "- Estimators will overwrite some part of the style using the `sk-estimator` class\n",
       "*/\n",
       "\n",
       "/* Pipeline and ColumnTransformer style (default) */\n",
       "\n",
       "#sk-container-id-1 div.sk-toggleable {\n",
       "  /* Default theme specific background. It is overwritten whether we have a\n",
       "  specific estimator or a Pipeline/ColumnTransformer */\n",
       "  background-color: var(--sklearn-color-background);\n",
       "}\n",
       "\n",
       "/* Toggleable label */\n",
       "#sk-container-id-1 label.sk-toggleable__label {\n",
       "  cursor: pointer;\n",
       "  display: flex;\n",
       "  width: 100%;\n",
       "  margin-bottom: 0;\n",
       "  padding: 0.5em;\n",
       "  box-sizing: border-box;\n",
       "  text-align: center;\n",
       "  align-items: start;\n",
       "  justify-content: space-between;\n",
       "  gap: 0.5em;\n",
       "}\n",
       "\n",
       "#sk-container-id-1 label.sk-toggleable__label .caption {\n",
       "  font-size: 0.6rem;\n",
       "  font-weight: lighter;\n",
       "  color: var(--sklearn-color-text-muted);\n",
       "}\n",
       "\n",
       "#sk-container-id-1 label.sk-toggleable__label-arrow:before {\n",
       "  /* Arrow on the left of the label */\n",
       "  content: \"▸\";\n",
       "  float: left;\n",
       "  margin-right: 0.25em;\n",
       "  color: var(--sklearn-color-icon);\n",
       "}\n",
       "\n",
       "#sk-container-id-1 label.sk-toggleable__label-arrow:hover:before {\n",
       "  color: var(--sklearn-color-text);\n",
       "}\n",
       "\n",
       "/* Toggleable content - dropdown */\n",
       "\n",
       "#sk-container-id-1 div.sk-toggleable__content {\n",
       "  max-height: 0;\n",
       "  max-width: 0;\n",
       "  overflow: hidden;\n",
       "  text-align: left;\n",
       "  /* unfitted */\n",
       "  background-color: var(--sklearn-color-unfitted-level-0);\n",
       "}\n",
       "\n",
       "#sk-container-id-1 div.sk-toggleable__content.fitted {\n",
       "  /* fitted */\n",
       "  background-color: var(--sklearn-color-fitted-level-0);\n",
       "}\n",
       "\n",
       "#sk-container-id-1 div.sk-toggleable__content pre {\n",
       "  margin: 0.2em;\n",
       "  border-radius: 0.25em;\n",
       "  color: var(--sklearn-color-text);\n",
       "  /* unfitted */\n",
       "  background-color: var(--sklearn-color-unfitted-level-0);\n",
       "}\n",
       "\n",
       "#sk-container-id-1 div.sk-toggleable__content.fitted pre {\n",
       "  /* unfitted */\n",
       "  background-color: var(--sklearn-color-fitted-level-0);\n",
       "}\n",
       "\n",
       "#sk-container-id-1 input.sk-toggleable__control:checked~div.sk-toggleable__content {\n",
       "  /* Expand drop-down */\n",
       "  max-height: 200px;\n",
       "  max-width: 100%;\n",
       "  overflow: auto;\n",
       "}\n",
       "\n",
       "#sk-container-id-1 input.sk-toggleable__control:checked~label.sk-toggleable__label-arrow:before {\n",
       "  content: \"▾\";\n",
       "}\n",
       "\n",
       "/* Pipeline/ColumnTransformer-specific style */\n",
       "\n",
       "#sk-container-id-1 div.sk-label input.sk-toggleable__control:checked~label.sk-toggleable__label {\n",
       "  color: var(--sklearn-color-text);\n",
       "  background-color: var(--sklearn-color-unfitted-level-2);\n",
       "}\n",
       "\n",
       "#sk-container-id-1 div.sk-label.fitted input.sk-toggleable__control:checked~label.sk-toggleable__label {\n",
       "  background-color: var(--sklearn-color-fitted-level-2);\n",
       "}\n",
       "\n",
       "/* Estimator-specific style */\n",
       "\n",
       "/* Colorize estimator box */\n",
       "#sk-container-id-1 div.sk-estimator input.sk-toggleable__control:checked~label.sk-toggleable__label {\n",
       "  /* unfitted */\n",
       "  background-color: var(--sklearn-color-unfitted-level-2);\n",
       "}\n",
       "\n",
       "#sk-container-id-1 div.sk-estimator.fitted input.sk-toggleable__control:checked~label.sk-toggleable__label {\n",
       "  /* fitted */\n",
       "  background-color: var(--sklearn-color-fitted-level-2);\n",
       "}\n",
       "\n",
       "#sk-container-id-1 div.sk-label label.sk-toggleable__label,\n",
       "#sk-container-id-1 div.sk-label label {\n",
       "  /* The background is the default theme color */\n",
       "  color: var(--sklearn-color-text-on-default-background);\n",
       "}\n",
       "\n",
       "/* On hover, darken the color of the background */\n",
       "#sk-container-id-1 div.sk-label:hover label.sk-toggleable__label {\n",
       "  color: var(--sklearn-color-text);\n",
       "  background-color: var(--sklearn-color-unfitted-level-2);\n",
       "}\n",
       "\n",
       "/* Label box, darken color on hover, fitted */\n",
       "#sk-container-id-1 div.sk-label.fitted:hover label.sk-toggleable__label.fitted {\n",
       "  color: var(--sklearn-color-text);\n",
       "  background-color: var(--sklearn-color-fitted-level-2);\n",
       "}\n",
       "\n",
       "/* Estimator label */\n",
       "\n",
       "#sk-container-id-1 div.sk-label label {\n",
       "  font-family: monospace;\n",
       "  font-weight: bold;\n",
       "  display: inline-block;\n",
       "  line-height: 1.2em;\n",
       "}\n",
       "\n",
       "#sk-container-id-1 div.sk-label-container {\n",
       "  text-align: center;\n",
       "}\n",
       "\n",
       "/* Estimator-specific */\n",
       "#sk-container-id-1 div.sk-estimator {\n",
       "  font-family: monospace;\n",
       "  border: 1px dotted var(--sklearn-color-border-box);\n",
       "  border-radius: 0.25em;\n",
       "  box-sizing: border-box;\n",
       "  margin-bottom: 0.5em;\n",
       "  /* unfitted */\n",
       "  background-color: var(--sklearn-color-unfitted-level-0);\n",
       "}\n",
       "\n",
       "#sk-container-id-1 div.sk-estimator.fitted {\n",
       "  /* fitted */\n",
       "  background-color: var(--sklearn-color-fitted-level-0);\n",
       "}\n",
       "\n",
       "/* on hover */\n",
       "#sk-container-id-1 div.sk-estimator:hover {\n",
       "  /* unfitted */\n",
       "  background-color: var(--sklearn-color-unfitted-level-2);\n",
       "}\n",
       "\n",
       "#sk-container-id-1 div.sk-estimator.fitted:hover {\n",
       "  /* fitted */\n",
       "  background-color: var(--sklearn-color-fitted-level-2);\n",
       "}\n",
       "\n",
       "/* Specification for estimator info (e.g. \"i\" and \"?\") */\n",
       "\n",
       "/* Common style for \"i\" and \"?\" */\n",
       "\n",
       ".sk-estimator-doc-link,\n",
       "a:link.sk-estimator-doc-link,\n",
       "a:visited.sk-estimator-doc-link {\n",
       "  float: right;\n",
       "  font-size: smaller;\n",
       "  line-height: 1em;\n",
       "  font-family: monospace;\n",
       "  background-color: var(--sklearn-color-background);\n",
       "  border-radius: 1em;\n",
       "  height: 1em;\n",
       "  width: 1em;\n",
       "  text-decoration: none !important;\n",
       "  margin-left: 0.5em;\n",
       "  text-align: center;\n",
       "  /* unfitted */\n",
       "  border: var(--sklearn-color-unfitted-level-1) 1pt solid;\n",
       "  color: var(--sklearn-color-unfitted-level-1);\n",
       "}\n",
       "\n",
       ".sk-estimator-doc-link.fitted,\n",
       "a:link.sk-estimator-doc-link.fitted,\n",
       "a:visited.sk-estimator-doc-link.fitted {\n",
       "  /* fitted */\n",
       "  border: var(--sklearn-color-fitted-level-1) 1pt solid;\n",
       "  color: var(--sklearn-color-fitted-level-1);\n",
       "}\n",
       "\n",
       "/* On hover */\n",
       "div.sk-estimator:hover .sk-estimator-doc-link:hover,\n",
       ".sk-estimator-doc-link:hover,\n",
       "div.sk-label-container:hover .sk-estimator-doc-link:hover,\n",
       ".sk-estimator-doc-link:hover {\n",
       "  /* unfitted */\n",
       "  background-color: var(--sklearn-color-unfitted-level-3);\n",
       "  color: var(--sklearn-color-background);\n",
       "  text-decoration: none;\n",
       "}\n",
       "\n",
       "div.sk-estimator.fitted:hover .sk-estimator-doc-link.fitted:hover,\n",
       ".sk-estimator-doc-link.fitted:hover,\n",
       "div.sk-label-container:hover .sk-estimator-doc-link.fitted:hover,\n",
       ".sk-estimator-doc-link.fitted:hover {\n",
       "  /* fitted */\n",
       "  background-color: var(--sklearn-color-fitted-level-3);\n",
       "  color: var(--sklearn-color-background);\n",
       "  text-decoration: none;\n",
       "}\n",
       "\n",
       "/* Span, style for the box shown on hovering the info icon */\n",
       ".sk-estimator-doc-link span {\n",
       "  display: none;\n",
       "  z-index: 9999;\n",
       "  position: relative;\n",
       "  font-weight: normal;\n",
       "  right: .2ex;\n",
       "  padding: .5ex;\n",
       "  margin: .5ex;\n",
       "  width: min-content;\n",
       "  min-width: 20ex;\n",
       "  max-width: 50ex;\n",
       "  color: var(--sklearn-color-text);\n",
       "  box-shadow: 2pt 2pt 4pt #999;\n",
       "  /* unfitted */\n",
       "  background: var(--sklearn-color-unfitted-level-0);\n",
       "  border: .5pt solid var(--sklearn-color-unfitted-level-3);\n",
       "}\n",
       "\n",
       ".sk-estimator-doc-link.fitted span {\n",
       "  /* fitted */\n",
       "  background: var(--sklearn-color-fitted-level-0);\n",
       "  border: var(--sklearn-color-fitted-level-3);\n",
       "}\n",
       "\n",
       ".sk-estimator-doc-link:hover span {\n",
       "  display: block;\n",
       "}\n",
       "\n",
       "/* \"?\"-specific style due to the `<a>` HTML tag */\n",
       "\n",
       "#sk-container-id-1 a.estimator_doc_link {\n",
       "  float: right;\n",
       "  font-size: 1rem;\n",
       "  line-height: 1em;\n",
       "  font-family: monospace;\n",
       "  background-color: var(--sklearn-color-background);\n",
       "  border-radius: 1rem;\n",
       "  height: 1rem;\n",
       "  width: 1rem;\n",
       "  text-decoration: none;\n",
       "  /* unfitted */\n",
       "  color: var(--sklearn-color-unfitted-level-1);\n",
       "  border: var(--sklearn-color-unfitted-level-1) 1pt solid;\n",
       "}\n",
       "\n",
       "#sk-container-id-1 a.estimator_doc_link.fitted {\n",
       "  /* fitted */\n",
       "  border: var(--sklearn-color-fitted-level-1) 1pt solid;\n",
       "  color: var(--sklearn-color-fitted-level-1);\n",
       "}\n",
       "\n",
       "/* On hover */\n",
       "#sk-container-id-1 a.estimator_doc_link:hover {\n",
       "  /* unfitted */\n",
       "  background-color: var(--sklearn-color-unfitted-level-3);\n",
       "  color: var(--sklearn-color-background);\n",
       "  text-decoration: none;\n",
       "}\n",
       "\n",
       "#sk-container-id-1 a.estimator_doc_link.fitted:hover {\n",
       "  /* fitted */\n",
       "  background-color: var(--sklearn-color-fitted-level-3);\n",
       "}\n",
       "</style><div id=\"sk-container-id-1\" class=\"sk-top-container\"><div class=\"sk-text-repr-fallback\"><pre>RandomForestClassifier(criterion=&#x27;entropy&#x27;, n_estimators=200, n_jobs=-1)</pre><b>In a Jupyter environment, please rerun this cell to show the HTML representation or trust the notebook. <br />On GitHub, the HTML representation is unable to render, please try loading this page with nbviewer.org.</b></div><div class=\"sk-container\" hidden><div class=\"sk-item\"><div class=\"sk-estimator fitted sk-toggleable\"><input class=\"sk-toggleable__control sk-hidden--visually\" id=\"sk-estimator-id-1\" type=\"checkbox\" checked><label for=\"sk-estimator-id-1\" class=\"sk-toggleable__label fitted sk-toggleable__label-arrow\"><div><div>RandomForestClassifier</div></div><div><a class=\"sk-estimator-doc-link fitted\" rel=\"noreferrer\" target=\"_blank\" href=\"https://scikit-learn.org/1.6/modules/generated/sklearn.ensemble.RandomForestClassifier.html\">?<span>Documentation for RandomForestClassifier</span></a><span class=\"sk-estimator-doc-link fitted\">i<span>Fitted</span></span></div></label><div class=\"sk-toggleable__content fitted\"><pre>RandomForestClassifier(criterion=&#x27;entropy&#x27;, n_estimators=200, n_jobs=-1)</pre></div> </div></div></div></div>"
      ],
      "text/plain": [
       "RandomForestClassifier(criterion='entropy', n_estimators=200, n_jobs=-1)"
      ]
     },
     "execution_count": 73,
     "metadata": {},
     "output_type": "execute_result"
    }
   ],
   "source": [
    "rc.fit(X_tr,y_train)"
   ]
  },
  {
   "cell_type": "code",
   "execution_count": 74,
   "metadata": {},
   "outputs": [],
   "source": [
    "X_test = count.transform(X_test)"
   ]
  },
  {
   "cell_type": "code",
   "execution_count": 75,
   "metadata": {},
   "outputs": [],
   "source": [
    "y_pred = rc.predict(X_test)"
   ]
  },
  {
   "cell_type": "code",
   "execution_count": 76,
   "metadata": {},
   "outputs": [
    {
     "name": "stdout",
     "output_type": "stream",
     "text": [
      "Accuracy: 0.7095518867924528\n"
     ]
    }
   ],
   "source": [
    "from sklearn.metrics import accuracy_score\n",
    "accuracy = accuracy_score(y_test, y_pred)\n",
    "print(f\"Accuracy: {accuracy}\")\n"
   ]
  },
  {
   "cell_type": "code",
   "execution_count": null,
   "metadata": {},
   "outputs": [],
   "source": [
    " "
   ]
  },
  {
   "cell_type": "code",
   "execution_count": null,
   "metadata": {},
   "outputs": [],
   "source": []
  },
  {
   "cell_type": "code",
   "execution_count": null,
   "metadata": {},
   "outputs": [],
   "source": []
  },
  {
   "cell_type": "code",
   "execution_count": null,
   "metadata": {},
   "outputs": [],
   "source": []
  },
  {
   "cell_type": "code",
   "execution_count": null,
   "metadata": {},
   "outputs": [],
   "source": []
  },
  {
   "cell_type": "code",
   "execution_count": null,
   "metadata": {},
   "outputs": [],
   "source": []
  },
  {
   "cell_type": "code",
   "execution_count": null,
   "metadata": {},
   "outputs": [],
   "source": []
  },
  {
   "cell_type": "code",
   "execution_count": null,
   "metadata": {},
   "outputs": [],
   "source": []
  },
  {
   "cell_type": "code",
   "execution_count": null,
   "metadata": {},
   "outputs": [],
   "source": []
  },
  {
   "cell_type": "code",
   "execution_count": null,
   "metadata": {},
   "outputs": [],
   "source": []
  },
  {
   "cell_type": "code",
   "execution_count": null,
   "metadata": {},
   "outputs": [],
   "source": []
  },
  {
   "cell_type": "code",
   "execution_count": 1,
   "metadata": {},
   "outputs": [],
   "source": [
    "import pandas as pd\n",
    "import numpy as np\n",
    "import matplotlib.pyplot as plt"
   ]
  },
  {
   "cell_type": "code",
   "execution_count": 2,
   "metadata": {},
   "outputs": [],
   "source": [
    "df = pd.read_csv(\"Combined Data.csv\")"
   ]
  },
  {
   "cell_type": "code",
   "execution_count": 3,
   "metadata": {},
   "outputs": [
    {
     "data": {
      "text/html": [
       "<div>\n",
       "<style scoped>\n",
       "    .dataframe tbody tr th:only-of-type {\n",
       "        vertical-align: middle;\n",
       "    }\n",
       "\n",
       "    .dataframe tbody tr th {\n",
       "        vertical-align: top;\n",
       "    }\n",
       "\n",
       "    .dataframe thead th {\n",
       "        text-align: right;\n",
       "    }\n",
       "</style>\n",
       "<table border=\"1\" class=\"dataframe\">\n",
       "  <thead>\n",
       "    <tr style=\"text-align: right;\">\n",
       "      <th></th>\n",
       "      <th>Unnamed: 0</th>\n",
       "      <th>statement</th>\n",
       "      <th>status</th>\n",
       "    </tr>\n",
       "  </thead>\n",
       "  <tbody>\n",
       "    <tr>\n",
       "      <th>0</th>\n",
       "      <td>0</td>\n",
       "      <td>oh my gosh</td>\n",
       "      <td>Anxiety</td>\n",
       "    </tr>\n",
       "    <tr>\n",
       "      <th>1</th>\n",
       "      <td>1</td>\n",
       "      <td>trouble sleeping, confused mind, restless hear...</td>\n",
       "      <td>Anxiety</td>\n",
       "    </tr>\n",
       "    <tr>\n",
       "      <th>2</th>\n",
       "      <td>2</td>\n",
       "      <td>All wrong, back off dear, forward doubt. Stay ...</td>\n",
       "      <td>Anxiety</td>\n",
       "    </tr>\n",
       "    <tr>\n",
       "      <th>3</th>\n",
       "      <td>3</td>\n",
       "      <td>I've shifted my focus to something else but I'...</td>\n",
       "      <td>Anxiety</td>\n",
       "    </tr>\n",
       "    <tr>\n",
       "      <th>4</th>\n",
       "      <td>4</td>\n",
       "      <td>I'm restless and restless, it's been a month n...</td>\n",
       "      <td>Anxiety</td>\n",
       "    </tr>\n",
       "    <tr>\n",
       "      <th>...</th>\n",
       "      <td>...</td>\n",
       "      <td>...</td>\n",
       "      <td>...</td>\n",
       "    </tr>\n",
       "    <tr>\n",
       "      <th>53038</th>\n",
       "      <td>53038</td>\n",
       "      <td>Nobody takes me seriously I’ve (24M) dealt wit...</td>\n",
       "      <td>Anxiety</td>\n",
       "    </tr>\n",
       "    <tr>\n",
       "      <th>53039</th>\n",
       "      <td>53039</td>\n",
       "      <td>selfishness  \"I don't feel very good, it's lik...</td>\n",
       "      <td>Anxiety</td>\n",
       "    </tr>\n",
       "    <tr>\n",
       "      <th>53040</th>\n",
       "      <td>53040</td>\n",
       "      <td>Is there any way to sleep better? I can't slee...</td>\n",
       "      <td>Anxiety</td>\n",
       "    </tr>\n",
       "    <tr>\n",
       "      <th>53041</th>\n",
       "      <td>53041</td>\n",
       "      <td>Public speaking tips? Hi, all. I have to give ...</td>\n",
       "      <td>Anxiety</td>\n",
       "    </tr>\n",
       "    <tr>\n",
       "      <th>53042</th>\n",
       "      <td>53042</td>\n",
       "      <td>I have really bad door anxiety! It's not about...</td>\n",
       "      <td>Anxiety</td>\n",
       "    </tr>\n",
       "  </tbody>\n",
       "</table>\n",
       "<p>53043 rows × 3 columns</p>\n",
       "</div>"
      ],
      "text/plain": [
       "       Unnamed: 0                                          statement   status\n",
       "0               0                                         oh my gosh  Anxiety\n",
       "1               1  trouble sleeping, confused mind, restless hear...  Anxiety\n",
       "2               2  All wrong, back off dear, forward doubt. Stay ...  Anxiety\n",
       "3               3  I've shifted my focus to something else but I'...  Anxiety\n",
       "4               4  I'm restless and restless, it's been a month n...  Anxiety\n",
       "...           ...                                                ...      ...\n",
       "53038       53038  Nobody takes me seriously I’ve (24M) dealt wit...  Anxiety\n",
       "53039       53039  selfishness  \"I don't feel very good, it's lik...  Anxiety\n",
       "53040       53040  Is there any way to sleep better? I can't slee...  Anxiety\n",
       "53041       53041  Public speaking tips? Hi, all. I have to give ...  Anxiety\n",
       "53042       53042  I have really bad door anxiety! It's not about...  Anxiety\n",
       "\n",
       "[53043 rows x 3 columns]"
      ]
     },
     "execution_count": 3,
     "metadata": {},
     "output_type": "execute_result"
    }
   ],
   "source": [
    "df"
   ]
  },
  {
   "cell_type": "code",
   "execution_count": 4,
   "metadata": {},
   "outputs": [],
   "source": [
    "df.drop(\"Unnamed: 0\",axis=1,inplace=True)"
   ]
  },
  {
   "cell_type": "code",
   "execution_count": 5,
   "metadata": {},
   "outputs": [
    {
     "data": {
      "text/html": [
       "<div>\n",
       "<style scoped>\n",
       "    .dataframe tbody tr th:only-of-type {\n",
       "        vertical-align: middle;\n",
       "    }\n",
       "\n",
       "    .dataframe tbody tr th {\n",
       "        vertical-align: top;\n",
       "    }\n",
       "\n",
       "    .dataframe thead th {\n",
       "        text-align: right;\n",
       "    }\n",
       "</style>\n",
       "<table border=\"1\" class=\"dataframe\">\n",
       "  <thead>\n",
       "    <tr style=\"text-align: right;\">\n",
       "      <th></th>\n",
       "      <th>statement</th>\n",
       "      <th>status</th>\n",
       "    </tr>\n",
       "  </thead>\n",
       "  <tbody>\n",
       "    <tr>\n",
       "      <th>0</th>\n",
       "      <td>oh my gosh</td>\n",
       "      <td>Anxiety</td>\n",
       "    </tr>\n",
       "    <tr>\n",
       "      <th>1</th>\n",
       "      <td>trouble sleeping, confused mind, restless hear...</td>\n",
       "      <td>Anxiety</td>\n",
       "    </tr>\n",
       "    <tr>\n",
       "      <th>2</th>\n",
       "      <td>All wrong, back off dear, forward doubt. Stay ...</td>\n",
       "      <td>Anxiety</td>\n",
       "    </tr>\n",
       "    <tr>\n",
       "      <th>3</th>\n",
       "      <td>I've shifted my focus to something else but I'...</td>\n",
       "      <td>Anxiety</td>\n",
       "    </tr>\n",
       "    <tr>\n",
       "      <th>4</th>\n",
       "      <td>I'm restless and restless, it's been a month n...</td>\n",
       "      <td>Anxiety</td>\n",
       "    </tr>\n",
       "    <tr>\n",
       "      <th>...</th>\n",
       "      <td>...</td>\n",
       "      <td>...</td>\n",
       "    </tr>\n",
       "    <tr>\n",
       "      <th>53038</th>\n",
       "      <td>Nobody takes me seriously I’ve (24M) dealt wit...</td>\n",
       "      <td>Anxiety</td>\n",
       "    </tr>\n",
       "    <tr>\n",
       "      <th>53039</th>\n",
       "      <td>selfishness  \"I don't feel very good, it's lik...</td>\n",
       "      <td>Anxiety</td>\n",
       "    </tr>\n",
       "    <tr>\n",
       "      <th>53040</th>\n",
       "      <td>Is there any way to sleep better? I can't slee...</td>\n",
       "      <td>Anxiety</td>\n",
       "    </tr>\n",
       "    <tr>\n",
       "      <th>53041</th>\n",
       "      <td>Public speaking tips? Hi, all. I have to give ...</td>\n",
       "      <td>Anxiety</td>\n",
       "    </tr>\n",
       "    <tr>\n",
       "      <th>53042</th>\n",
       "      <td>I have really bad door anxiety! It's not about...</td>\n",
       "      <td>Anxiety</td>\n",
       "    </tr>\n",
       "  </tbody>\n",
       "</table>\n",
       "<p>53043 rows × 2 columns</p>\n",
       "</div>"
      ],
      "text/plain": [
       "                                               statement   status\n",
       "0                                             oh my gosh  Anxiety\n",
       "1      trouble sleeping, confused mind, restless hear...  Anxiety\n",
       "2      All wrong, back off dear, forward doubt. Stay ...  Anxiety\n",
       "3      I've shifted my focus to something else but I'...  Anxiety\n",
       "4      I'm restless and restless, it's been a month n...  Anxiety\n",
       "...                                                  ...      ...\n",
       "53038  Nobody takes me seriously I’ve (24M) dealt wit...  Anxiety\n",
       "53039  selfishness  \"I don't feel very good, it's lik...  Anxiety\n",
       "53040  Is there any way to sleep better? I can't slee...  Anxiety\n",
       "53041  Public speaking tips? Hi, all. I have to give ...  Anxiety\n",
       "53042  I have really bad door anxiety! It's not about...  Anxiety\n",
       "\n",
       "[53043 rows x 2 columns]"
      ]
     },
     "execution_count": 5,
     "metadata": {},
     "output_type": "execute_result"
    }
   ],
   "source": [
    "df"
   ]
  },
  {
   "cell_type": "code",
   "execution_count": 6,
   "metadata": {},
   "outputs": [
    {
     "data": {
      "text/plain": [
       "statement    362\n",
       "status         0\n",
       "dtype: int64"
      ]
     },
     "execution_count": 6,
     "metadata": {},
     "output_type": "execute_result"
    }
   ],
   "source": [
    "df.isna().sum()"
   ]
  },
  {
   "cell_type": "code",
   "execution_count": 7,
   "metadata": {},
   "outputs": [],
   "source": [
    "df = df.dropna()"
   ]
  },
  {
   "cell_type": "code",
   "execution_count": 8,
   "metadata": {},
   "outputs": [
    {
     "data": {
      "text/plain": [
       "statement    0\n",
       "status       0\n",
       "dtype: int64"
      ]
     },
     "execution_count": 8,
     "metadata": {},
     "output_type": "execute_result"
    }
   ],
   "source": [
    "df.isna().sum()"
   ]
  },
  {
   "cell_type": "code",
   "execution_count": 9,
   "metadata": {},
   "outputs": [],
   "source": [
    "status_counts = df['status'].value_counts()"
   ]
  },
  {
   "cell_type": "code",
   "execution_count": 10,
   "metadata": {},
   "outputs": [
    {
     "data": {
      "image/png": "[encoded data removed]",
      "text/plain": [
       "<Figure size 1000x500 with 1 Axes>"
      ]
     },
     "metadata": {},
     "output_type": "display_data"
    }
   ],
   "source": [
    "plt.figure(figsize=(10, 5))\n",
    "plt.bar(status_counts.index, status_counts.values, color=['blue', 'orange'])\n",
    "plt.title('Distribution of Mental Health Statuses')\n",
    "plt.xlabel('Mental Health Status')\n",
    "plt.ylabel('Count')\n",
    "plt.xticks(rotation=45)\n",
    "plt.grid(axis='y')\n",
    "plt.tight_layout()\n",
    "plt.show()"
   ]
  },
  {
   "cell_type": "code",
   "execution_count": 11,
   "metadata": {},
   "outputs": [
    {
     "name": "stderr",
     "output_type": "stream",
     "text": [
      "/var/folders/xz/l46mlrsn47s9vsqd6zyhp5680000gn/T/ipykernel_7418/69736349.py:2: DeprecationWarning: DataFrameGroupBy.apply operated on the grouping columns. This behavior is deprecated, and in a future version of pandas the grouping columns will be excluded from the operation. Either pass `include_groups=False` to exclude the groupings or explicitly select the grouping columns after groupby to silence this warning.\n",
      "  sample_data = df.groupby('status').apply(lambda x:x.sample(n=sample, random_state=1)).reset_index(drop=True)\n"
     ]
    }
   ],
   "source": [
    "sample = 1\n",
    "sample_data = df.groupby('status').apply(lambda x:x.sample(n=sample, random_state=1)).reset_index(drop=True)"
   ]
  },
  {
   "cell_type": "code",
   "execution_count": 12,
   "metadata": {},
   "outputs": [
    {
     "name": "stdout",
     "output_type": "stream",
     "text": [
      "Status: Anxiety \n",
      "Statement: restive = restless, restless \n",
      "\n",
      "Status: Bipolar \n",
      "Statement: They They don’t like me when I’m depressed, they don’t like me when I’m manic\n",
      "Why does the way I act put everyone in a panic\n",
      "Fuck, this is the way that I am\n",
      "They just wanna medicate and slaughter the lamb\n",
      "\n",
      "I’m a pure soul\n",
      "My rhymes got that sick flow\n",
      "What you fronting for\n",
      "Mood like a revolving door\n",
      "\n",
      "And I don’t even care\n",
      "Used to smoke blunts and blow it in the air\n",
      "But they don’t like that either\n",
      "Had to give up the weed and the ether\n",
      "\n",
      "So here I am numb just the way you like me\n",
      "Won’t scare anyone won’t just do it like Nike\n",
      "So I’ll go through the motions\n",
      "Although they still have their notions\n",
      "\n",
      "Thought I would ride til I die\n",
      "In my dreams I can still fly\n",
      "Anything to feel alive\n",
      "But they took away my keys so I can’t drive\n",
      "\n",
      "So I guess I’ll express myself as a poet\n",
      "I’m still the shit don’t care if you know it\n",
      "Just another face in the crowd \n",
      "Hide me away in a shroud \n",
      "\n",
      "Status: Depression \n",
      "Statement: ive been struggling with my mental health for a really long time even throughout secondary school the only thing is ive always pushed it down and gotten away with achieving my academic expectation despite how im struggling ive never told anyone about my problem not even my mum i guess i never wanted to worry her and also took alot of pride in being able to handle myself and not needing help from anyone i guess the combination of leaving it untreated and uni stress ha made it get worse and worse to the point it spiralled out of control i dont know the last time i actually ate a meal rather than just snack food all day the light is broken in my bathroom and i cant call maintenance to fix it because of the state of my dorm i have a nocturnal sleeping schedule and i rarely shower or leave my room i cant apply for special circumstance and try to finish the year because i cant even get out of bed let alone catch up on load of work and missed assignment i really just need to go home and eliminate the stress in order to seek medical treatment and get better but i dont know how to break it to my mum because she think im perfectly fine like how doe it go from being completely okay to me being in a full blown crisis just like that for her it not that i dont think she ll understand but i feel like im a completely different person than who she see no idea of anyone will see this but id really appreciate some advice support because ive never spoken to anyone about my mental health and idk what to do \n",
      "\n",
      "Status: Normal \n",
      "Statement: Finished......... \n",
      "\n",
      "Status: Personality disorder \n",
      "Statement: Imagine having avpd in like 1960 There’s not much to be thankful for regarding avpd, but if I’m going to have avpd I’m at least glad I have it in the modern day. Imagine how hard it would’ve been in the past, nobody would understand, you wouldn’t be able to get a proper diagnosis or explanation for your mental health issues, and you’d be totally isolated seeing as there would be no technology and none of the escapism it provides. I’d be bored as fuck if I didn’t have video games and drugs I ordered online to cope with this shit. You probably would’ve been ostracised from your community and branded a freak, maybe even lobotomised or some shit if ur really unlucky. I’m so thankful I have tech and modern day understanding, i would be so fucked without it \n",
      "\n",
      "Status: Stress \n",
      "Statement: panic disorder with visual problems anyone out there that suffers from chronic stress, panic disorder and blurry vision? \n",
      "\n",
      "Status: Suicidal \n",
      "Statement: I think I am gunna sneak out tonight and do it maybe tommorow night idk. I am writing my notes Imma do it \n",
      "\n"
     ]
    }
   ],
   "source": [
    "for i, row in sample_data.iterrows():\n",
    "  print(\"Status:\" , row['status'], \"\\nStatement:\", row['statement'],\"\\n\")"
   ]
  },
  {
   "cell_type": "code",
   "execution_count": 13,
   "metadata": {},
   "outputs": [
    {
     "name": "stdout",
     "output_type": "stream",
     "text": [
      "<class 'pandas.core.frame.DataFrame'>\n",
      "Index: 52681 entries, 0 to 53042\n",
      "Data columns (total 2 columns):\n",
      " #   Column     Non-Null Count  Dtype \n",
      "---  ------     --------------  ----- \n",
      " 0   statement  52681 non-null  object\n",
      " 1   status     52681 non-null  object\n",
      "dtypes: object(2)\n",
      "memory usage: 1.2+ MB\n"
     ]
    }
   ],
   "source": [
    "df.info()"
   ]
  },
  {
   "cell_type": "code",
   "execution_count": 14,
   "metadata": {},
   "outputs": [
    {
     "name": "stderr",
     "output_type": "stream",
     "text": [
      "[nltk_data] Error loading punkt: <urlopen error [SSL:\n",
      "[nltk_data]     CERTIFICATE_VERIFY_FAILED] certificate verify failed:\n",
      "[nltk_data]     unable to get local issuer certificate (_ssl.c:1129)>\n"
     ]
    },
    {
     "data": {
      "text/plain": [
       "False"
      ]
     },
     "execution_count": 14,
     "metadata": {},
     "output_type": "execute_result"
    }
   ],
   "source": [
    "import nltk\n",
    "nltk.download('punkt')"
   ]
  },
  {
   "cell_type": "code",
   "execution_count": 15,
   "metadata": {},
   "outputs": [],
   "source": [
    "import nltk\n",
    "# nltk.download()"
   ]
  },
  {
   "cell_type": "code",
   "execution_count": 16,
   "metadata": {},
   "outputs": [],
   "source": [
    "from nltk.tokenize import sent_tokenize, word_tokenize\n",
    "def count_words(s):\n",
    "    if isinstance(s, str):\n",
    "        words = nltk.tokenize.word_tokenize(s, language='english', preserve_line=False)\n",
    "        return len(words)\n",
    "    return 0  \n",
    "\n",
    "def count_sentences(s):\n",
    "    if isinstance(s, str):\n",
    "        sentences = sent_tokenize(s)\n",
    "        return len(sentences) \n",
    "    return 0 "
   ]
  },
  {
   "cell_type": "code",
   "execution_count": 17,
   "metadata": {},
   "outputs": [
    {
     "name": "stderr",
     "output_type": "stream",
     "text": [
      "/var/folders/xz/l46mlrsn47s9vsqd6zyhp5680000gn/T/ipykernel_7418/179206705.py:1: SettingWithCopyWarning: \n",
      "A value is trying to be set on a copy of a slice from a DataFrame.\n",
      "Try using .loc[row_indexer,col_indexer] = value instead\n",
      "\n",
      "See the caveats in the documentation: https://pandas.pydata.org/pandas-docs/stable/user_guide/indexing.html#returning-a-view-versus-a-copy\n",
      "  df['num_words'] = df['statement'].apply(count_words)\n",
      "/var/folders/xz/l46mlrsn47s9vsqd6zyhp5680000gn/T/ipykernel_7418/179206705.py:2: SettingWithCopyWarning: \n",
      "A value is trying to be set on a copy of a slice from a DataFrame.\n",
      "Try using .loc[row_indexer,col_indexer] = value instead\n",
      "\n",
      "See the caveats in the documentation: https://pandas.pydata.org/pandas-docs/stable/user_guide/indexing.html#returning-a-view-versus-a-copy\n",
      "  df['num_sentences'] = df['statement'].apply(count_sentences)\n"
     ]
    }
   ],
   "source": [
    "df['num_words'] = df['statement'].apply(count_words)\n",
    "df['num_sentences'] = df['statement'].apply(count_sentences)"
   ]
  },
  {
   "cell_type": "code",
   "execution_count": 18,
   "metadata": {},
   "outputs": [
    {
     "data": {
      "text/html": [
       "<div>\n",
       "<style scoped>\n",
       "    .dataframe tbody tr th:only-of-type {\n",
       "        vertical-align: middle;\n",
       "    }\n",
       "\n",
       "    .dataframe tbody tr th {\n",
       "        vertical-align: top;\n",
       "    }\n",
       "\n",
       "    .dataframe thead th {\n",
       "        text-align: right;\n",
       "    }\n",
       "</style>\n",
       "<table border=\"1\" class=\"dataframe\">\n",
       "  <thead>\n",
       "    <tr style=\"text-align: right;\">\n",
       "      <th></th>\n",
       "      <th>statement</th>\n",
       "      <th>status</th>\n",
       "      <th>num_words</th>\n",
       "      <th>num_sentences</th>\n",
       "    </tr>\n",
       "  </thead>\n",
       "  <tbody>\n",
       "    <tr>\n",
       "      <th>0</th>\n",
       "      <td>oh my gosh</td>\n",
       "      <td>Anxiety</td>\n",
       "      <td>3</td>\n",
       "      <td>1</td>\n",
       "    </tr>\n",
       "    <tr>\n",
       "      <th>1</th>\n",
       "      <td>trouble sleeping, confused mind, restless hear...</td>\n",
       "      <td>Anxiety</td>\n",
       "      <td>13</td>\n",
       "      <td>2</td>\n",
       "    </tr>\n",
       "    <tr>\n",
       "      <th>2</th>\n",
       "      <td>All wrong, back off dear, forward doubt. Stay ...</td>\n",
       "      <td>Anxiety</td>\n",
       "      <td>17</td>\n",
       "      <td>2</td>\n",
       "    </tr>\n",
       "    <tr>\n",
       "      <th>3</th>\n",
       "      <td>I've shifted my focus to something else but I'...</td>\n",
       "      <td>Anxiety</td>\n",
       "      <td>13</td>\n",
       "      <td>1</td>\n",
       "    </tr>\n",
       "    <tr>\n",
       "      <th>4</th>\n",
       "      <td>I'm restless and restless, it's been a month n...</td>\n",
       "      <td>Anxiety</td>\n",
       "      <td>20</td>\n",
       "      <td>2</td>\n",
       "    </tr>\n",
       "    <tr>\n",
       "      <th>...</th>\n",
       "      <td>...</td>\n",
       "      <td>...</td>\n",
       "      <td>...</td>\n",
       "      <td>...</td>\n",
       "    </tr>\n",
       "    <tr>\n",
       "      <th>53038</th>\n",
       "      <td>Nobody takes me seriously I’ve (24M) dealt wit...</td>\n",
       "      <td>Anxiety</td>\n",
       "      <td>385</td>\n",
       "      <td>16</td>\n",
       "    </tr>\n",
       "    <tr>\n",
       "      <th>53039</th>\n",
       "      <td>selfishness  \"I don't feel very good, it's lik...</td>\n",
       "      <td>Anxiety</td>\n",
       "      <td>251</td>\n",
       "      <td>12</td>\n",
       "    </tr>\n",
       "    <tr>\n",
       "      <th>53040</th>\n",
       "      <td>Is there any way to sleep better? I can't slee...</td>\n",
       "      <td>Anxiety</td>\n",
       "      <td>22</td>\n",
       "      <td>2</td>\n",
       "    </tr>\n",
       "    <tr>\n",
       "      <th>53041</th>\n",
       "      <td>Public speaking tips? Hi, all. I have to give ...</td>\n",
       "      <td>Anxiety</td>\n",
       "      <td>94</td>\n",
       "      <td>6</td>\n",
       "    </tr>\n",
       "    <tr>\n",
       "      <th>53042</th>\n",
       "      <td>I have really bad door anxiety! It's not about...</td>\n",
       "      <td>Anxiety</td>\n",
       "      <td>90</td>\n",
       "      <td>3</td>\n",
       "    </tr>\n",
       "  </tbody>\n",
       "</table>\n",
       "<p>52681 rows × 4 columns</p>\n",
       "</div>"
      ],
      "text/plain": [
       "                                               statement   status  num_words  \\\n",
       "0                                             oh my gosh  Anxiety          3   \n",
       "1      trouble sleeping, confused mind, restless hear...  Anxiety         13   \n",
       "2      All wrong, back off dear, forward doubt. Stay ...  Anxiety         17   \n",
       "3      I've shifted my focus to something else but I'...  Anxiety         13   \n",
       "4      I'm restless and restless, it's been a month n...  Anxiety         20   \n",
       "...                                                  ...      ...        ...   \n",
       "53038  Nobody takes me seriously I’ve (24M) dealt wit...  Anxiety        385   \n",
       "53039  selfishness  \"I don't feel very good, it's lik...  Anxiety        251   \n",
       "53040  Is there any way to sleep better? I can't slee...  Anxiety         22   \n",
       "53041  Public speaking tips? Hi, all. I have to give ...  Anxiety         94   \n",
       "53042  I have really bad door anxiety! It's not about...  Anxiety         90   \n",
       "\n",
       "       num_sentences  \n",
       "0                  1  \n",
       "1                  2  \n",
       "2                  2  \n",
       "3                  1  \n",
       "4                  2  \n",
       "...              ...  \n",
       "53038             16  \n",
       "53039             12  \n",
       "53040              2  \n",
       "53041              6  \n",
       "53042              3  \n",
       "\n",
       "[52681 rows x 4 columns]"
      ]
     },
     "execution_count": 18,
     "metadata": {},
     "output_type": "execute_result"
    }
   ],
   "source": [
    "df"
   ]
  },
  {
   "cell_type": "code",
   "execution_count": 19,
   "metadata": {},
   "outputs": [],
   "source": [
    "import seaborn as sns"
   ]
  },
  {
   "cell_type": "code",
   "execution_count": 20,
   "metadata": {},
   "outputs": [],
   "source": [
    "word_counts = df.groupby('status')['num_words'].mean().reset_index()"
   ]
  },
  {
   "cell_type": "code",
   "execution_count": 21,
   "metadata": {},
   "outputs": [
    {
     "data": {
      "text/html": [
       "<div>\n",
       "<style scoped>\n",
       "    .dataframe tbody tr th:only-of-type {\n",
       "        vertical-align: middle;\n",
       "    }\n",
       "\n",
       "    .dataframe tbody tr th {\n",
       "        vertical-align: top;\n",
       "    }\n",
       "\n",
       "    .dataframe thead th {\n",
       "        text-align: right;\n",
       "    }\n",
       "</style>\n",
       "<table border=\"1\" class=\"dataframe\">\n",
       "  <thead>\n",
       "    <tr style=\"text-align: right;\">\n",
       "      <th></th>\n",
       "      <th>status</th>\n",
       "      <th>num_words</th>\n",
       "    </tr>\n",
       "  </thead>\n",
       "  <tbody>\n",
       "    <tr>\n",
       "      <th>0</th>\n",
       "      <td>Anxiety</td>\n",
       "      <td>167.179380</td>\n",
       "    </tr>\n",
       "    <tr>\n",
       "      <th>1</th>\n",
       "      <td>Bipolar</td>\n",
       "      <td>206.146921</td>\n",
       "    </tr>\n",
       "    <tr>\n",
       "      <th>2</th>\n",
       "      <td>Depression</td>\n",
       "      <td>182.698650</td>\n",
       "    </tr>\n",
       "    <tr>\n",
       "      <th>3</th>\n",
       "      <td>Normal</td>\n",
       "      <td>19.879826</td>\n",
       "    </tr>\n",
       "    <tr>\n",
       "      <th>4</th>\n",
       "      <td>Personality disorder</td>\n",
       "      <td>209.688022</td>\n",
       "    </tr>\n",
       "    <tr>\n",
       "      <th>5</th>\n",
       "      <td>Stress</td>\n",
       "      <td>133.441051</td>\n",
       "    </tr>\n",
       "    <tr>\n",
       "      <th>6</th>\n",
       "      <td>Suicidal</td>\n",
       "      <td>161.791682</td>\n",
       "    </tr>\n",
       "  </tbody>\n",
       "</table>\n",
       "</div>"
      ],
      "text/plain": [
       "                 status   num_words\n",
       "0               Anxiety  167.179380\n",
       "1               Bipolar  206.146921\n",
       "2            Depression  182.698650\n",
       "3                Normal   19.879826\n",
       "4  Personality disorder  209.688022\n",
       "5                Stress  133.441051\n",
       "6              Suicidal  161.791682"
      ]
     },
     "execution_count": 21,
     "metadata": {},
     "output_type": "execute_result"
    }
   ],
   "source": [
    "word_counts"
   ]
  },
  {
   "cell_type": "code",
   "execution_count": 22,
   "metadata": {},
   "outputs": [
    {
     "name": "stderr",
     "output_type": "stream",
     "text": [
      "/var/folders/xz/l46mlrsn47s9vsqd6zyhp5680000gn/T/ipykernel_7418/2392064068.py:2: FutureWarning: \n",
      "\n",
      "Passing `palette` without assigning `hue` is deprecated and will be removed in v0.14.0. Assign the `x` variable to `hue` and set `legend=False` for the same effect.\n",
      "\n",
      "  sns.barplot(data=word_counts, x='status', y='num_words', palette='viridis')\n"
     ]
    },
    {
     "data": {
      "image/png": "[encoded data removed]",
      "text/plain": [
       "<Figure size 1000x600 with 1 Axes>"
      ]
     },
     "metadata": {},
     "output_type": "display_data"
    }
   ],
   "source": [
    "plt.figure(figsize=(10, 6))\n",
    "sns.barplot(data=word_counts, x='status', y='num_words', palette='viridis')\n",
    "\n",
    "plt.title('Average Number of Words per Status Class')\n",
    "plt.xlabel('Status Class')\n",
    "plt.ylabel('Average Number of Words')\n",
    "plt.xticks(rotation=90)\n",
    "plt.ylim(0, word_counts['num_words'].max() + 1)\n",
    "\n",
    "plt.tight_layout()\n",
    "plt.show()"
   ]
  },
  {
   "cell_type": "code",
   "execution_count": 23,
   "metadata": {},
   "outputs": [
    {
     "data": {
      "image/png": "[encoded data removed]",
      "text/plain": [
       "<Figure size 2000x500 with 1 Axes>"
      ]
     },
     "metadata": {},
     "output_type": "display_data"
    }
   ],
   "source": [
    "plt.figure(figsize=(20, 5))\n",
    "\n",
    "# Histogram for number of words\n",
    "plt.subplot(1, 2, 1)\n",
    "sns.histplot(df['num_words'], bins=50, kde=True, color='blue')\n",
    "plt.title('Distribution of Number of Words')\n",
    "plt.xlabel('Number of Words')\n",
    "plt.ylabel('Frequency')\n",
    "\n",
    "\n",
    "# Show the plot\n",
    "plt.tight_layout()\n",
    "plt.show()"
   ]
  },
  {
   "cell_type": "code",
   "execution_count": 24,
   "metadata": {},
   "outputs": [
    {
     "data": {
      "image/png": "[encoded data removed]",
      "text/plain": [
       "<Figure size 2000x500 with 1 Axes>"
      ]
     },
     "metadata": {},
     "output_type": "display_data"
    }
   ],
   "source": [
    "plt.figure(figsize=(20, 5))\n",
    "# Histogram for number of sentences\n",
    "plt.subplot(1, 2, 2)\n",
    "sns.histplot(df['num_sentences'], bins=50, kde=True, color='orange')\n",
    "plt.title('Distribution of Number of Sentences')\n",
    "plt.xlabel('Number of Sentences')\n",
    "plt.ylabel('Frequency')\n",
    "\n",
    "plt.tight_layout()\n",
    "plt.show()"
   ]
  },
  {
   "cell_type": "code",
   "execution_count": 25,
   "metadata": {},
   "outputs": [],
   "source": [
    "# pip install plotly"
   ]
  },
  {
   "cell_type": "code",
   "execution_count": 26,
   "metadata": {},
   "outputs": [],
   "source": [
    "# pip install nbformat\n"
   ]
  },
  {
   "cell_type": "code",
   "execution_count": 28,
   "metadata": {},
   "outputs": [
    {
     "data": {
      "application/vnd.plotly.v1+json": {
       "config": {
        "plotlyServerURL": "https://plot.ly"
       },
       "data": [
        {
         "bingroup": "x",
         "hovertemplate": "Number of Words=%{x}<br>count=%{y}<extra></extra>",
         "legendgroup": "",
         "marker": {
          "color": "blue",
          "pattern": {
           "shape": ""
          }
         },
         "name": "",
         "nbinsx": 50,
         "orientation": "v",
         "showlegend": false,
         "type": "histogram",
         "x": {
          "bdata": "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",
          "dtype": "i2"
         },
         "xaxis": "x",
         "yaxis": "y"
        }
       ],
       "layout": {
        "barmode": "relative",
        "legend": {
         "tracegroupgap": 0
        },
        "template": {
         "data": {
          "bar": [
           {
            "error_x": {
             "color": "#2a3f5f"
            },
            "error_y": {
             "color": "#2a3f5f"
            },
            "marker": {
             "line": {
              "color": "#E5ECF6",
              "width": 0.5
             },
             "pattern": {
              "fillmode": "overlay",
              "size": 10,
              "solidity": 0.2
             }
            },
            "type": "bar"
           }
          ],
          "barpolar": [
           {
            "marker": {
             "line": {
              "color": "#E5ECF6",
              "width": 0.5
             },
             "pattern": {
              "fillmode": "overlay",
              "size": 10,
              "solidity": 0.2
             }
            },
            "type": "barpolar"
           }
          ],
          "carpet": [
           {
            "aaxis": {
             "endlinecolor": "#2a3f5f",
             "gridcolor": "white",
             "linecolor": "white",
             "minorgridcolor": "white",
             "startlinecolor": "#2a3f5f"
            },
            "baxis": {
             "endlinecolor": "#2a3f5f",
             "gridcolor": "white",
             "linecolor": "white",
             "minorgridcolor": "white",
             "startlinecolor": "#2a3f5f"
            },
            "type": "carpet"
           }
          ],
          "choropleth": [
           {
            "colorbar": {
             "outlinewidth": 0,
             "ticks": ""
            },
            "type": "choropleth"
           }
          ],
          "contour": [
           {
            "colorbar": {
             "outlinewidth": 0,
             "ticks": ""
            },
            "colorscale": [
             [
              0,
              "#0d0887"
             ],
             [
              0.1111111111111111,
              "#46039f"
             ],
             [
              0.2222222222222222,
              "#7201a8"
             ],
             [
              0.3333333333333333,
              "#9c179e"
             ],
             [
              0.4444444444444444,
              "#bd3786"
             ],
             [
              0.5555555555555556,
              "#d8576b"
             ],
             [
              0.6666666666666666,
              "#ed7953"
             ],
             [
              0.7777777777777778,
              "#fb9f3a"
             ],
             [
              0.8888888888888888,
              "#fdca26"
             ],
             [
              1,
              "#f0f921"
             ]
            ],
            "type": "contour"
           }
          ],
          "contourcarpet": [
           {
            "colorbar": {
             "outlinewidth": 0,
             "ticks": ""
            },
            "type": "contourcarpet"
           }
          ],
          "heatmap": [
           {
            "colorbar": {
             "outlinewidth": 0,
             "ticks": ""
            },
            "colorscale": [
             [
              0,
              "#0d0887"
             ],
             [
              0.1111111111111111,
              "#46039f"
             ],
             [
              0.2222222222222222,
              "#7201a8"
             ],
             [
              0.3333333333333333,
              "#9c179e"
             ],
             [
              0.4444444444444444,
              "#bd3786"
             ],
             [
              0.5555555555555556,
              "#d8576b"
             ],
             [
              0.6666666666666666,
              "#ed7953"
             ],
             [
              0.7777777777777778,
              "#fb9f3a"
             ],
             [
              0.8888888888888888,
              "#fdca26"
             ],
             [
              1,
              "#f0f921"
             ]
            ],
            "type": "heatmap"
           }
          ],
          "histogram": [
           {
            "marker": {
             "pattern": {
              "fillmode": "overlay",
              "size": 10,
              "solidity": 0.2
             }
            },
            "type": "histogram"
           }
          ],
          "histogram2d": [
           {
            "colorbar": {
             "outlinewidth": 0,
             "ticks": ""
            },
            "colorscale": [
             [
              0,
              "#0d0887"
             ],
             [
              0.1111111111111111,
              "#46039f"
             ],
             [
              0.2222222222222222,
              "#7201a8"
             ],
             [
              0.3333333333333333,
              "#9c179e"
             ],
             [
              0.4444444444444444,
              "#bd3786"
             ],
             [
              0.5555555555555556,
              "#d8576b"
             ],
             [
              0.6666666666666666,
              "#ed7953"
             ],
             [
              0.7777777777777778,
              "#fb9f3a"
             ],
             [
              0.8888888888888888,
              "#fdca26"
             ],
             [
              1,
              "#f0f921"
             ]
            ],
            "type": "histogram2d"
           }
          ],
          "histogram2dcontour": [
           {
            "colorbar": {
             "outlinewidth": 0,
             "ticks": ""
            },
            "colorscale": [
             [
              0,
              "#0d0887"
             ],
             [
              0.1111111111111111,
              "#46039f"
             ],
             [
              0.2222222222222222,
              "#7201a8"
             ],
             [
              0.3333333333333333,
              "#9c179e"
             ],
             [
              0.4444444444444444,
              "#bd3786"
             ],
             [
              0.5555555555555556,
              "#d8576b"
             ],
             [
              0.6666666666666666,
              "#ed7953"
             ],
             [
              0.7777777777777778,
              "#fb9f3a"
             ],
             [
              0.8888888888888888,
              "#fdca26"
             ],
             [
              1,
              "#f0f921"
             ]
            ],
            "type": "histogram2dcontour"
           }
          ],
          "mesh3d": [
           {
            "colorbar": {
             "outlinewidth": 0,
             "ticks": ""
            },
            "type": "mesh3d"
           }
          ],
          "parcoords": [
           {
            "line": {
             "colorbar": {
              "outlinewidth": 0,
              "ticks": ""
             }
            },
            "type": "parcoords"
           }
          ],
          "pie": [
           {
            "automargin": true,
            "type": "pie"
           }
          ],
          "scatter": [
           {
            "fillpattern": {
             "fillmode": "overlay",
             "size": 10,
             "solidity": 0.2
            },
            "type": "scatter"
           }
          ],
          "scatter3d": [
           {
            "line": {
             "colorbar": {
              "outlinewidth": 0,
              "ticks": ""
             }
            },
            "marker": {
             "colorbar": {
              "outlinewidth": 0,
              "ticks": ""
             }
            },
            "type": "scatter3d"
           }
          ],
          "scattercarpet": [
           {
            "marker": {
             "colorbar": {
              "outlinewidth": 0,
              "ticks": ""
             }
            },
            "type": "scattercarpet"
           }
          ],
          "scattergeo": [
           {
            "marker": {
             "colorbar": {
              "outlinewidth": 0,
              "ticks": ""
             }
            },
            "type": "scattergeo"
           }
          ],
          "scattergl": [
           {
            "marker": {
             "colorbar": {
              "outlinewidth": 0,
              "ticks": ""
             }
            },
            "type": "scattergl"
           }
          ],
          "scattermap": [
           {
            "marker": {
             "colorbar": {
              "outlinewidth": 0,
              "ticks": ""
             }
            },
            "type": "scattermap"
           }
          ],
          "scattermapbox": [
           {
            "marker": {
             "colorbar": {
              "outlinewidth": 0,
              "ticks": ""
             }
            },
            "type": "scattermapbox"
           }
          ],
          "scatterpolar": [
           {
            "marker": {
             "colorbar": {
              "outlinewidth": 0,
              "ticks": ""
             }
            },
            "type": "scatterpolar"
           }
          ],
          "scatterpolargl": [
           {
            "marker": {
             "colorbar": {
              "outlinewidth": 0,
              "ticks": ""
             }
            },
            "type": "scatterpolargl"
           }
          ],
          "scatterternary": [
           {
            "marker": {
             "colorbar": {
              "outlinewidth": 0,
              "ticks": ""
             }
            },
            "type": "scatterternary"
           }
          ],
          "surface": [
           {
            "colorbar": {
             "outlinewidth": 0,
             "ticks": ""
            },
            "colorscale": [
             [
              0,
              "#0d0887"
             ],
             [
              0.1111111111111111,
              "#46039f"
             ],
             [
              0.2222222222222222,
              "#7201a8"
             ],
             [
              0.3333333333333333,
              "#9c179e"
             ],
             [
              0.4444444444444444,
              "#bd3786"
             ],
             [
              0.5555555555555556,
              "#d8576b"
             ],
             [
              0.6666666666666666,
              "#ed7953"
             ],
             [
              0.7777777777777778,
              "#fb9f3a"
             ],
             [
              0.8888888888888888,
              "#fdca26"
             ],
             [
              1,
              "#f0f921"
             ]
            ],
            "type": "surface"
           }
          ],
          "table": [
           {
            "cells": {
             "fill": {
              "color": "#EBF0F8"
             },
             "line": {
              "color": "white"
             }
            },
            "header": {
             "fill": {
              "color": "#C8D4E3"
             },
             "line": {
              "color": "white"
             }
            },
            "type": "table"
           }
          ]
         },
         "layout": {
          "annotationdefaults": {
           "arrowcolor": "#2a3f5f",
           "arrowhead": 0,
           "arrowwidth": 1
          },
          "autotypenumbers": "strict",
          "coloraxis": {
           "colorbar": {
            "outlinewidth": 0,
            "ticks": ""
           }
          },
          "colorscale": {
           "diverging": [
            [
             0,
             "#8e0152"
            ],
            [
             0.1,
             "#c51b7d"
            ],
            [
             0.2,
             "#de77ae"
            ],
            [
             0.3,
             "#f1b6da"
            ],
            [
             0.4,
             "#fde0ef"
            ],
            [
             0.5,
             "#f7f7f7"
            ],
            [
             0.6,
             "#e6f5d0"
            ],
            [
             0.7,
             "#b8e186"
            ],
            [
             0.8,
             "#7fbc41"
            ],
            [
             0.9,
             "#4d9221"
            ],
            [
             1,
             "#276419"
            ]
           ],
           "sequential": [
            [
             0,
             "#0d0887"
            ],
            [
             0.1111111111111111,
             "#46039f"
            ],
            [
             0.2222222222222222,
             "#7201a8"
            ],
            [
             0.3333333333333333,
             "#9c179e"
            ],
            [
             0.4444444444444444,
             "#bd3786"
            ],
            [
             0.5555555555555556,
             "#d8576b"
            ],
            [
             0.6666666666666666,
             "#ed7953"
            ],
            [
             0.7777777777777778,
             "#fb9f3a"
            ],
            [
             0.8888888888888888,
             "#fdca26"
            ],
            [
             1,
             "#f0f921"
            ]
           ],
           "sequentialminus": [
            [
             0,
             "#0d0887"
            ],
            [
             0.1111111111111111,
             "#46039f"
            ],
            [
             0.2222222222222222,
             "#7201a8"
            ],
            [
             0.3333333333333333,
             "#9c179e"
            ],
            [
             0.4444444444444444,
             "#bd3786"
            ],
            [
             0.5555555555555556,
             "#d8576b"
            ],
            [
             0.6666666666666666,
             "#ed7953"
            ],
            [
             0.7777777777777778,
             "#fb9f3a"
            ],
            [
             0.8888888888888888,
             "#fdca26"
            ],
            [
             1,
             "#f0f921"
            ]
           ]
          },
          "colorway": [
           "#636efa",
           "#EF553B",
           "#00cc96",
           "#ab63fa",
           "#FFA15A",
           "#19d3f3",
           "#FF6692",
           "#B6E880",
           "#FF97FF",
           "#FECB52"
          ],
          "font": {
           "color": "#2a3f5f"
          },
          "geo": {
           "bgcolor": "white",
           "lakecolor": "white",
           "landcolor": "#E5ECF6",
           "showlakes": true,
           "showland": true,
           "subunitcolor": "white"
          },
          "hoverlabel": {
           "align": "left"
          },
          "hovermode": "closest",
          "mapbox": {
           "style": "light"
          },
          "paper_bgcolor": "white",
          "plot_bgcolor": "#E5ECF6",
          "polar": {
           "angularaxis": {
            "gridcolor": "white",
            "linecolor": "white",
            "ticks": ""
           },
           "bgcolor": "#E5ECF6",
           "radialaxis": {
            "gridcolor": "white",
            "linecolor": "white",
            "ticks": ""
           }
          },
          "scene": {
           "xaxis": {
            "backgroundcolor": "#E5ECF6",
            "gridcolor": "white",
            "gridwidth": 2,
            "linecolor": "white",
            "showbackground": true,
            "ticks": "",
            "zerolinecolor": "white"
           },
           "yaxis": {
            "backgroundcolor": "#E5ECF6",
            "gridcolor": "white",
            "gridwidth": 2,
            "linecolor": "white",
            "showbackground": true,
            "ticks": "",
            "zerolinecolor": "white"
           },
           "zaxis": {
            "backgroundcolor": "#E5ECF6",
            "gridcolor": "white",
            "gridwidth": 2,
            "linecolor": "white",
            "showbackground": true,
            "ticks": "",
            "zerolinecolor": "white"
           }
          },
          "shapedefaults": {
           "line": {
            "color": "#2a3f5f"
           }
          },
          "ternary": {
           "aaxis": {
            "gridcolor": "white",
            "linecolor": "white",
            "ticks": ""
           },
           "baxis": {
            "gridcolor": "white",
            "linecolor": "white",
            "ticks": ""
           },
           "bgcolor": "#E5ECF6",
           "caxis": {
            "gridcolor": "white",
            "linecolor": "white",
            "ticks": ""
           }
          },
          "title": {
           "x": 0.05
          },
          "xaxis": {
           "automargin": true,
           "gridcolor": "white",
           "linecolor": "white",
           "ticks": "",
           "title": {
            "standoff": 15
           },
           "zerolinecolor": "white",
           "zerolinewidth": 2
          },
          "yaxis": {
           "automargin": true,
           "gridcolor": "white",
           "linecolor": "white",
           "ticks": "",
           "title": {
            "standoff": 15
           },
           "zerolinecolor": "white",
           "zerolinewidth": 2
          }
         }
        },
        "title": {
         "text": "Distribution of Number of Words"
        },
        "xaxis": {
         "anchor": "y",
         "domain": [
          0,
          1
         ],
         "title": {
          "text": "Number of Words"
         }
        },
        "yaxis": {
         "anchor": "x",
         "domain": [
          0,
          1
         ],
         "title": {
          "text": "Frequency"
         }
        }
       }
      }
     },
     "metadata": {},
     "output_type": "display_data"
    }
   ],
   "source": [
    "import plotly.express as px\n",
    "\n",
    "fig = px.histogram(df, x='num_words', nbins=50, title='Distribution of Number of Words', \n",
    "                   color_discrete_sequence=['blue'], \n",
    "                   labels={'num_words': 'Number of Words', 'count': 'Frequency'})\n",
    "\n",
    "fig.update_layout(xaxis_title='Number of Words', yaxis_title='Frequency')\n",
    "fig.show()\n",
    "\n"
   ]
  },
  {
   "cell_type": "code",
   "execution_count": 29,
   "metadata": {},
   "outputs": [
    {
     "data": {
      "application/vnd.plotly.v1+json": {
       "config": {
        "plotlyServerURL": "https://plot.ly"
       },
       "data": [
        {
         "bingroup": "x",
         "hovertemplate": "Number of Sentences=%{x}<br>count=%{y}<extra></extra>",
         "legendgroup": "",
         "marker": {
          "color": "orange",
          "pattern": {
           "shape": ""
          }
         },
         "name": "",
         "nbinsx": 50,
         "orientation": "v",
         "showlegend": false,
         "type": "histogram",
         "x": {
          "bdata": "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",
          "dtype": "i2"
         },
         "xaxis": "x",
         "yaxis": "y"
        }
       ],
       "layout": {
        "barmode": "relative",
        "legend": {
         "tracegroupgap": 0
        },
        "template": {
         "data": {
          "bar": [
           {
            "error_x": {
             "color": "#2a3f5f"
            },
            "error_y": {
             "color": "#2a3f5f"
            },
            "marker": {
             "line": {
              "color": "#E5ECF6",
              "width": 0.5
             },
             "pattern": {
              "fillmode": "overlay",
              "size": 10,
              "solidity": 0.2
             }
            },
            "type": "bar"
           }
          ],
          "barpolar": [
           {
            "marker": {
             "line": {
              "color": "#E5ECF6",
              "width": 0.5
             },
             "pattern": {
              "fillmode": "overlay",
              "size": 10,
              "solidity": 0.2
             }
            },
            "type": "barpolar"
           }
          ],
          "carpet": [
           {
            "aaxis": {
             "endlinecolor": "#2a3f5f",
             "gridcolor": "white",
             "linecolor": "white",
             "minorgridcolor": "white",
             "startlinecolor": "#2a3f5f"
            },
            "baxis": {
             "endlinecolor": "#2a3f5f",
             "gridcolor": "white",
             "linecolor": "white",
             "minorgridcolor": "white",
             "startlinecolor": "#2a3f5f"
            },
            "type": "carpet"
           }
          ],
          "choropleth": [
           {
            "colorbar": {
             "outlinewidth": 0,
             "ticks": ""
            },
            "type": "choropleth"
           }
          ],
          "contour": [
           {
            "colorbar": {
             "outlinewidth": 0,
             "ticks": ""
            },
            "colorscale": [
             [
              0,
              "#0d0887"
             ],
             [
              0.1111111111111111,
              "#46039f"
             ],
             [
              0.2222222222222222,
              "#7201a8"
             ],
             [
              0.3333333333333333,
              "#9c179e"
             ],
             [
              0.4444444444444444,
              "#bd3786"
             ],
             [
              0.5555555555555556,
              "#d8576b"
             ],
             [
              0.6666666666666666,
              "#ed7953"
             ],
             [
              0.7777777777777778,
              "#fb9f3a"
             ],
             [
              0.8888888888888888,
              "#fdca26"
             ],
             [
              1,
              "#f0f921"
             ]
            ],
            "type": "contour"
           }
          ],
          "contourcarpet": [
           {
            "colorbar": {
             "outlinewidth": 0,
             "ticks": ""
            },
            "type": "contourcarpet"
           }
          ],
          "heatmap": [
           {
            "colorbar": {
             "outlinewidth": 0,
             "ticks": ""
            },
            "colorscale": [
             [
              0,
              "#0d0887"
             ],
             [
              0.1111111111111111,
              "#46039f"
             ],
             [
              0.2222222222222222,
              "#7201a8"
             ],
             [
              0.3333333333333333,
              "#9c179e"
             ],
             [
              0.4444444444444444,
              "#bd3786"
             ],
             [
              0.5555555555555556,
              "#d8576b"
             ],
             [
              0.6666666666666666,
              "#ed7953"
             ],
             [
              0.7777777777777778,
              "#fb9f3a"
             ],
             [
              0.8888888888888888,
              "#fdca26"
             ],
             [
              1,
              "#f0f921"
             ]
            ],
            "type": "heatmap"
           }
          ],
          "histogram": [
           {
            "marker": {
             "pattern": {
              "fillmode": "overlay",
              "size": 10,
              "solidity": 0.2
             }
            },
            "type": "histogram"
           }
          ],
          "histogram2d": [
           {
            "colorbar": {
             "outlinewidth": 0,
             "ticks": ""
            },
            "colorscale": [
             [
              0,
              "#0d0887"
             ],
             [
              0.1111111111111111,
              "#46039f"
             ],
             [
              0.2222222222222222,
              "#7201a8"
             ],
             [
              0.3333333333333333,
              "#9c179e"
             ],
             [
              0.4444444444444444,
              "#bd3786"
             ],
             [
              0.5555555555555556,
              "#d8576b"
             ],
             [
              0.6666666666666666,
              "#ed7953"
             ],
             [
              0.7777777777777778,
              "#fb9f3a"
             ],
             [
              0.8888888888888888,
              "#fdca26"
             ],
             [
              1,
              "#f0f921"
             ]
            ],
            "type": "histogram2d"
           }
          ],
          "histogram2dcontour": [
           {
            "colorbar": {
             "outlinewidth": 0,
             "ticks": ""
            },
            "colorscale": [
             [
              0,
              "#0d0887"
             ],
             [
              0.1111111111111111,
              "#46039f"
             ],
             [
              0.2222222222222222,
              "#7201a8"
             ],
             [
              0.3333333333333333,
              "#9c179e"
             ],
             [
              0.4444444444444444,
              "#bd3786"
             ],
             [
              0.5555555555555556,
              "#d8576b"
             ],
             [
              0.6666666666666666,
              "#ed7953"
             ],
             [
              0.7777777777777778,
              "#fb9f3a"
             ],
             [
              0.8888888888888888,
              "#fdca26"
             ],
             [
              1,
              "#f0f921"
             ]
            ],
            "type": "histogram2dcontour"
           }
          ],
          "mesh3d": [
           {
            "colorbar": {
             "outlinewidth": 0,
             "ticks": ""
            },
            "type": "mesh3d"
           }
          ],
          "parcoords": [
           {
            "line": {
             "colorbar": {
              "outlinewidth": 0,
              "ticks": ""
             }
            },
            "type": "parcoords"
           }
          ],
          "pie": [
           {
            "automargin": true,
            "type": "pie"
           }
          ],
          "scatter": [
           {
            "fillpattern": {
             "fillmode": "overlay",
             "size": 10,
             "solidity": 0.2
            },
            "type": "scatter"
           }
          ],
          "scatter3d": [
           {
            "line": {
             "colorbar": {
              "outlinewidth": 0,
              "ticks": ""
             }
            },
            "marker": {
             "colorbar": {
              "outlinewidth": 0,
              "ticks": ""
             }
            },
            "type": "scatter3d"
           }
          ],
          "scattercarpet": [
           {
            "marker": {
             "colorbar": {
              "outlinewidth": 0,
              "ticks": ""
             }
            },
            "type": "scattercarpet"
           }
          ],
          "scattergeo": [
           {
            "marker": {
             "colorbar": {
              "outlinewidth": 0,
              "ticks": ""
             }
            },
            "type": "scattergeo"
           }
          ],
          "scattergl": [
           {
            "marker": {
             "colorbar": {
              "outlinewidth": 0,
              "ticks": ""
             }
            },
            "type": "scattergl"
           }
          ],
          "scattermap": [
           {
            "marker": {
             "colorbar": {
              "outlinewidth": 0,
              "ticks": ""
             }
            },
            "type": "scattermap"
           }
          ],
          "scattermapbox": [
           {
            "marker": {
             "colorbar": {
              "outlinewidth": 0,
              "ticks": ""
             }
            },
            "type": "scattermapbox"
           }
          ],
          "scatterpolar": [
           {
            "marker": {
             "colorbar": {
              "outlinewidth": 0,
              "ticks": ""
             }
            },
            "type": "scatterpolar"
           }
          ],
          "scatterpolargl": [
           {
            "marker": {
             "colorbar": {
              "outlinewidth": 0,
              "ticks": ""
             }
            },
            "type": "scatterpolargl"
           }
          ],
          "scatterternary": [
           {
            "marker": {
             "colorbar": {
              "outlinewidth": 0,
              "ticks": ""
             }
            },
            "type": "scatterternary"
           }
          ],
          "surface": [
           {
            "colorbar": {
             "outlinewidth": 0,
             "ticks": ""
            },
            "colorscale": [
             [
              0,
              "#0d0887"
             ],
             [
              0.1111111111111111,
              "#46039f"
             ],
             [
              0.2222222222222222,
              "#7201a8"
             ],
             [
              0.3333333333333333,
              "#9c179e"
             ],
             [
              0.4444444444444444,
              "#bd3786"
             ],
             [
              0.5555555555555556,
              "#d8576b"
             ],
             [
              0.6666666666666666,
              "#ed7953"
             ],
             [
              0.7777777777777778,
              "#fb9f3a"
             ],
             [
              0.8888888888888888,
              "#fdca26"
             ],
             [
              1,
              "#f0f921"
             ]
            ],
            "type": "surface"
           }
          ],
          "table": [
           {
            "cells": {
             "fill": {
              "color": "#EBF0F8"
             },
             "line": {
              "color": "white"
             }
            },
            "header": {
             "fill": {
              "color": "#C8D4E3"
             },
             "line": {
              "color": "white"
             }
            },
            "type": "table"
           }
          ]
         },
         "layout": {
          "annotationdefaults": {
           "arrowcolor": "#2a3f5f",
           "arrowhead": 0,
           "arrowwidth": 1
          },
          "autotypenumbers": "strict",
          "coloraxis": {
           "colorbar": {
            "outlinewidth": 0,
            "ticks": ""
           }
          },
          "colorscale": {
           "diverging": [
            [
             0,
             "#8e0152"
            ],
            [
             0.1,
             "#c51b7d"
            ],
            [
             0.2,
             "#de77ae"
            ],
            [
             0.3,
             "#f1b6da"
            ],
            [
             0.4,
             "#fde0ef"
            ],
            [
             0.5,
             "#f7f7f7"
            ],
            [
             0.6,
             "#e6f5d0"
            ],
            [
             0.7,
             "#b8e186"
            ],
            [
             0.8,
             "#7fbc41"
            ],
            [
             0.9,
             "#4d9221"
            ],
            [
             1,
             "#276419"
            ]
           ],
           "sequential": [
            [
             0,
             "#0d0887"
            ],
            [
             0.1111111111111111,
             "#46039f"
            ],
            [
             0.2222222222222222,
             "#7201a8"
            ],
            [
             0.3333333333333333,
             "#9c179e"
            ],
            [
             0.4444444444444444,
             "#bd3786"
            ],
            [
             0.5555555555555556,
             "#d8576b"
            ],
            [
             0.6666666666666666,
             "#ed7953"
            ],
            [
             0.7777777777777778,
             "#fb9f3a"
            ],
            [
             0.8888888888888888,
             "#fdca26"
            ],
            [
             1,
             "#f0f921"
            ]
           ],
           "sequentialminus": [
            [
             0,
             "#0d0887"
            ],
            [
             0.1111111111111111,
             "#46039f"
            ],
            [
             0.2222222222222222,
             "#7201a8"
            ],
            [
             0.3333333333333333,
             "#9c179e"
            ],
            [
             0.4444444444444444,
             "#bd3786"
            ],
            [
             0.5555555555555556,
             "#d8576b"
            ],
            [
             0.6666666666666666,
             "#ed7953"
            ],
            [
             0.7777777777777778,
             "#fb9f3a"
            ],
            [
             0.8888888888888888,
             "#fdca26"
            ],
            [
             1,
             "#f0f921"
            ]
           ]
          },
          "colorway": [
           "#636efa",
           "#EF553B",
           "#00cc96",
           "#ab63fa",
           "#FFA15A",
           "#19d3f3",
           "#FF6692",
           "#B6E880",
           "#FF97FF",
           "#FECB52"
          ],
          "font": {
           "color": "#2a3f5f"
          },
          "geo": {
           "bgcolor": "white",
           "lakecolor": "white",
           "landcolor": "#E5ECF6",
           "showlakes": true,
           "showland": true,
           "subunitcolor": "white"
          },
          "hoverlabel": {
           "align": "left"
          },
          "hovermode": "closest",
          "mapbox": {
           "style": "light"
          },
          "paper_bgcolor": "white",
          "plot_bgcolor": "#E5ECF6",
          "polar": {
           "angularaxis": {
            "gridcolor": "white",
            "linecolor": "white",
            "ticks": ""
           },
           "bgcolor": "#E5ECF6",
           "radialaxis": {
            "gridcolor": "white",
            "linecolor": "white",
            "ticks": ""
           }
          },
          "scene": {
           "xaxis": {
            "backgroundcolor": "#E5ECF6",
            "gridcolor": "white",
            "gridwidth": 2,
            "linecolor": "white",
            "showbackground": true,
            "ticks": "",
            "zerolinecolor": "white"
           },
           "yaxis": {
            "backgroundcolor": "#E5ECF6",
            "gridcolor": "white",
            "gridwidth": 2,
            "linecolor": "white",
            "showbackground": true,
            "ticks": "",
            "zerolinecolor": "white"
           },
           "zaxis": {
            "backgroundcolor": "#E5ECF6",
            "gridcolor": "white",
            "gridwidth": 2,
            "linecolor": "white",
            "showbackground": true,
            "ticks": "",
            "zerolinecolor": "white"
           }
          },
          "shapedefaults": {
           "line": {
            "color": "#2a3f5f"
           }
          },
          "ternary": {
           "aaxis": {
            "gridcolor": "white",
            "linecolor": "white",
            "ticks": ""
           },
           "baxis": {
            "gridcolor": "white",
            "linecolor": "white",
            "ticks": ""
           },
           "bgcolor": "#E5ECF6",
           "caxis": {
            "gridcolor": "white",
            "linecolor": "white",
            "ticks": ""
           }
          },
          "title": {
           "x": 0.05
          },
          "xaxis": {
           "automargin": true,
           "gridcolor": "white",
           "linecolor": "white",
           "ticks": "",
           "title": {
            "standoff": 15
           },
           "zerolinecolor": "white",
           "zerolinewidth": 2
          },
          "yaxis": {
           "automargin": true,
           "gridcolor": "white",
           "linecolor": "white",
           "ticks": "",
           "title": {
            "standoff": 15
           },
           "zerolinecolor": "white",
           "zerolinewidth": 2
          }
         }
        },
        "title": {
         "text": "Distribution of Number of Sentences"
        },
        "xaxis": {
         "anchor": "y",
         "domain": [
          0,
          1
         ],
         "title": {
          "text": "Number of Sentences"
         }
        },
        "yaxis": {
         "anchor": "x",
         "domain": [
          0,
          1
         ],
         "title": {
          "text": "Frequency"
         }
        }
       }
      }
     },
     "metadata": {},
     "output_type": "display_data"
    }
   ],
   "source": [
    "fig2 = px.histogram(df, x='num_sentences', nbins=50, title='Distribution of Number of Sentences',\n",
    "                    color_discrete_sequence=['orange'], \n",
    "                    labels={'num_sentences': 'Number of Sentences', 'count': 'Frequency'})\n",
    "\n",
    "fig2.update_layout(xaxis_title='Number of Sentences', yaxis_title='Frequency')\n",
    "fig2.show()"
   ]
  },
  {
   "cell_type": "code",
   "execution_count": 30,
   "metadata": {},
   "outputs": [
    {
     "data": {
      "text/plain": [
       "13293    1260\n",
       "46660     430\n",
       "51396     374\n",
       "13294     300\n",
       "10834     237\n",
       "         ... \n",
       "38347       1\n",
       "38346       1\n",
       "38345       1\n",
       "38344       1\n",
       "0           1\n",
       "Name: num_sentences, Length: 52681, dtype: int64"
      ]
     },
     "execution_count": 30,
     "metadata": {},
     "output_type": "execute_result"
    }
   ],
   "source": [
    "df[\"num_sentences\"].sort_values(ascending=False)"
   ]
  },
  {
   "cell_type": "code",
   "execution_count": 34,
   "metadata": {},
   "outputs": [
    {
     "data": {
      "text/plain": [
       "13293    8820\n",
       "51396    6153\n",
       "10834    5612\n",
       "46660    5565\n",
       "39752    4239\n",
       "         ... \n",
       "5919        1\n",
       "1065        1\n",
       "5903        1\n",
       "4233        1\n",
       "39638       1\n",
       "Name: num_words, Length: 52681, dtype: int64"
      ]
     },
     "execution_count": 34,
     "metadata": {},
     "output_type": "execute_result"
    }
   ],
   "source": [
    "df['num_words'].sort_values(ascending=False)"
   ]
  },
  {
   "cell_type": "code",
   "execution_count": 35,
   "metadata": {},
   "outputs": [],
   "source": [
    "import re\n",
    "df_unicode = df.copy()"
   ]
  },
  {
   "cell_type": "code",
   "execution_count": 36,
   "metadata": {},
   "outputs": [
    {
     "data": {
      "text/html": [
       "<div>\n",
       "<style scoped>\n",
       "    .dataframe tbody tr th:only-of-type {\n",
       "        vertical-align: middle;\n",
       "    }\n",
       "\n",
       "    .dataframe tbody tr th {\n",
       "        vertical-align: top;\n",
       "    }\n",
       "\n",
       "    .dataframe thead th {\n",
       "        text-align: right;\n",
       "    }\n",
       "</style>\n",
       "<table border=\"1\" class=\"dataframe\">\n",
       "  <thead>\n",
       "    <tr style=\"text-align: right;\">\n",
       "      <th></th>\n",
       "      <th>statement</th>\n",
       "      <th>status</th>\n",
       "      <th>num_words</th>\n",
       "      <th>num_sentences</th>\n",
       "    </tr>\n",
       "  </thead>\n",
       "  <tbody>\n",
       "    <tr>\n",
       "      <th>0</th>\n",
       "      <td>oh my gosh</td>\n",
       "      <td>Anxiety</td>\n",
       "      <td>3</td>\n",
       "      <td>1</td>\n",
       "    </tr>\n",
       "    <tr>\n",
       "      <th>1</th>\n",
       "      <td>trouble sleeping, confused mind, restless hear...</td>\n",
       "      <td>Anxiety</td>\n",
       "      <td>13</td>\n",
       "      <td>2</td>\n",
       "    </tr>\n",
       "    <tr>\n",
       "      <th>2</th>\n",
       "      <td>All wrong, back off dear, forward doubt. Stay ...</td>\n",
       "      <td>Anxiety</td>\n",
       "      <td>17</td>\n",
       "      <td>2</td>\n",
       "    </tr>\n",
       "    <tr>\n",
       "      <th>3</th>\n",
       "      <td>I've shifted my focus to something else but I'...</td>\n",
       "      <td>Anxiety</td>\n",
       "      <td>13</td>\n",
       "      <td>1</td>\n",
       "    </tr>\n",
       "    <tr>\n",
       "      <th>4</th>\n",
       "      <td>I'm restless and restless, it's been a month n...</td>\n",
       "      <td>Anxiety</td>\n",
       "      <td>20</td>\n",
       "      <td>2</td>\n",
       "    </tr>\n",
       "    <tr>\n",
       "      <th>...</th>\n",
       "      <td>...</td>\n",
       "      <td>...</td>\n",
       "      <td>...</td>\n",
       "      <td>...</td>\n",
       "    </tr>\n",
       "    <tr>\n",
       "      <th>53038</th>\n",
       "      <td>Nobody takes me seriously I’ve (24M) dealt wit...</td>\n",
       "      <td>Anxiety</td>\n",
       "      <td>385</td>\n",
       "      <td>16</td>\n",
       "    </tr>\n",
       "    <tr>\n",
       "      <th>53039</th>\n",
       "      <td>selfishness  \"I don't feel very good, it's lik...</td>\n",
       "      <td>Anxiety</td>\n",
       "      <td>251</td>\n",
       "      <td>12</td>\n",
       "    </tr>\n",
       "    <tr>\n",
       "      <th>53040</th>\n",
       "      <td>Is there any way to sleep better? I can't slee...</td>\n",
       "      <td>Anxiety</td>\n",
       "      <td>22</td>\n",
       "      <td>2</td>\n",
       "    </tr>\n",
       "    <tr>\n",
       "      <th>53041</th>\n",
       "      <td>Public speaking tips? Hi, all. I have to give ...</td>\n",
       "      <td>Anxiety</td>\n",
       "      <td>94</td>\n",
       "      <td>6</td>\n",
       "    </tr>\n",
       "    <tr>\n",
       "      <th>53042</th>\n",
       "      <td>I have really bad door anxiety! It's not about...</td>\n",
       "      <td>Anxiety</td>\n",
       "      <td>90</td>\n",
       "      <td>3</td>\n",
       "    </tr>\n",
       "  </tbody>\n",
       "</table>\n",
       "<p>52681 rows × 4 columns</p>\n",
       "</div>"
      ],
      "text/plain": [
       "                                               statement   status  num_words  \\\n",
       "0                                             oh my gosh  Anxiety          3   \n",
       "1      trouble sleeping, confused mind, restless hear...  Anxiety         13   \n",
       "2      All wrong, back off dear, forward doubt. Stay ...  Anxiety         17   \n",
       "3      I've shifted my focus to something else but I'...  Anxiety         13   \n",
       "4      I'm restless and restless, it's been a month n...  Anxiety         20   \n",
       "...                                                  ...      ...        ...   \n",
       "53038  Nobody takes me seriously I’ve (24M) dealt wit...  Anxiety        385   \n",
       "53039  selfishness  \"I don't feel very good, it's lik...  Anxiety        251   \n",
       "53040  Is there any way to sleep better? I can't slee...  Anxiety         22   \n",
       "53041  Public speaking tips? Hi, all. I have to give ...  Anxiety         94   \n",
       "53042  I have really bad door anxiety! It's not about...  Anxiety         90   \n",
       "\n",
       "       num_sentences  \n",
       "0                  1  \n",
       "1                  2  \n",
       "2                  2  \n",
       "3                  1  \n",
       "4                  2  \n",
       "...              ...  \n",
       "53038             16  \n",
       "53039             12  \n",
       "53040              2  \n",
       "53041              6  \n",
       "53042              3  \n",
       "\n",
       "[52681 rows x 4 columns]"
      ]
     },
     "execution_count": 36,
     "metadata": {},
     "output_type": "execute_result"
    }
   ],
   "source": [
    "df_unicode"
   ]
  },
  {
   "cell_type": "code",
   "execution_count": 37,
   "metadata": {},
   "outputs": [
    {
     "data": {
      "text/plain": [
       "contains_unicode\n",
       "False    46826\n",
       "True      5855\n",
       "Name: count, dtype: int64"
      ]
     },
     "execution_count": 37,
     "metadata": {},
     "output_type": "execute_result"
    }
   ],
   "source": [
    "def contains_unicode(s):\n",
    "    if isinstance(s, str):\n",
    "        return bool(re.search(r'[^\\x00-\\x7F]', s))\n",
    "    return False \n",
    "\n",
    "df_unicode['contains_unicode'] = df_unicode['statement'].apply(contains_unicode)\n",
    "df_unicode[\"contains_unicode\"].value_counts()"
   ]
  },
  {
   "cell_type": "code",
   "execution_count": 38,
   "metadata": {},
   "outputs": [
    {
     "data": {
      "text/html": [
       "<div>\n",
       "<style scoped>\n",
       "    .dataframe tbody tr th:only-of-type {\n",
       "        vertical-align: middle;\n",
       "    }\n",
       "\n",
       "    .dataframe tbody tr th {\n",
       "        vertical-align: top;\n",
       "    }\n",
       "\n",
       "    .dataframe thead th {\n",
       "        text-align: right;\n",
       "    }\n",
       "</style>\n",
       "<table border=\"1\" class=\"dataframe\">\n",
       "  <thead>\n",
       "    <tr style=\"text-align: right;\">\n",
       "      <th></th>\n",
       "      <th>statement</th>\n",
       "      <th>status</th>\n",
       "      <th>num_words</th>\n",
       "      <th>num_sentences</th>\n",
       "      <th>contains_unicode</th>\n",
       "    </tr>\n",
       "  </thead>\n",
       "  <tbody>\n",
       "    <tr>\n",
       "      <th>0</th>\n",
       "      <td>oh my gosh</td>\n",
       "      <td>Anxiety</td>\n",
       "      <td>3</td>\n",
       "      <td>1</td>\n",
       "      <td>False</td>\n",
       "    </tr>\n",
       "    <tr>\n",
       "      <th>1</th>\n",
       "      <td>trouble sleeping, confused mind, restless hear...</td>\n",
       "      <td>Anxiety</td>\n",
       "      <td>13</td>\n",
       "      <td>2</td>\n",
       "      <td>False</td>\n",
       "    </tr>\n",
       "    <tr>\n",
       "      <th>2</th>\n",
       "      <td>All wrong, back off dear, forward doubt. Stay ...</td>\n",
       "      <td>Anxiety</td>\n",
       "      <td>17</td>\n",
       "      <td>2</td>\n",
       "      <td>False</td>\n",
       "    </tr>\n",
       "    <tr>\n",
       "      <th>3</th>\n",
       "      <td>I've shifted my focus to something else but I'...</td>\n",
       "      <td>Anxiety</td>\n",
       "      <td>13</td>\n",
       "      <td>1</td>\n",
       "      <td>False</td>\n",
       "    </tr>\n",
       "    <tr>\n",
       "      <th>4</th>\n",
       "      <td>I'm restless and restless, it's been a month n...</td>\n",
       "      <td>Anxiety</td>\n",
       "      <td>20</td>\n",
       "      <td>2</td>\n",
       "      <td>False</td>\n",
       "    </tr>\n",
       "    <tr>\n",
       "      <th>...</th>\n",
       "      <td>...</td>\n",
       "      <td>...</td>\n",
       "      <td>...</td>\n",
       "      <td>...</td>\n",
       "      <td>...</td>\n",
       "    </tr>\n",
       "    <tr>\n",
       "      <th>53038</th>\n",
       "      <td>Nobody takes me seriously I’ve (24M) dealt wit...</td>\n",
       "      <td>Anxiety</td>\n",
       "      <td>385</td>\n",
       "      <td>16</td>\n",
       "      <td>True</td>\n",
       "    </tr>\n",
       "    <tr>\n",
       "      <th>53039</th>\n",
       "      <td>selfishness  \"I don't feel very good, it's lik...</td>\n",
       "      <td>Anxiety</td>\n",
       "      <td>251</td>\n",
       "      <td>12</td>\n",
       "      <td>False</td>\n",
       "    </tr>\n",
       "    <tr>\n",
       "      <th>53040</th>\n",
       "      <td>Is there any way to sleep better? I can't slee...</td>\n",
       "      <td>Anxiety</td>\n",
       "      <td>22</td>\n",
       "      <td>2</td>\n",
       "      <td>False</td>\n",
       "    </tr>\n",
       "    <tr>\n",
       "      <th>53041</th>\n",
       "      <td>Public speaking tips? Hi, all. I have to give ...</td>\n",
       "      <td>Anxiety</td>\n",
       "      <td>94</td>\n",
       "      <td>6</td>\n",
       "      <td>True</td>\n",
       "    </tr>\n",
       "    <tr>\n",
       "      <th>53042</th>\n",
       "      <td>I have really bad door anxiety! It's not about...</td>\n",
       "      <td>Anxiety</td>\n",
       "      <td>90</td>\n",
       "      <td>3</td>\n",
       "      <td>False</td>\n",
       "    </tr>\n",
       "  </tbody>\n",
       "</table>\n",
       "<p>52681 rows × 5 columns</p>\n",
       "</div>"
      ],
      "text/plain": [
       "                                               statement   status  num_words  \\\n",
       "0                                             oh my gosh  Anxiety          3   \n",
       "1      trouble sleeping, confused mind, restless hear...  Anxiety         13   \n",
       "2      All wrong, back off dear, forward doubt. Stay ...  Anxiety         17   \n",
       "3      I've shifted my focus to something else but I'...  Anxiety         13   \n",
       "4      I'm restless and restless, it's been a month n...  Anxiety         20   \n",
       "...                                                  ...      ...        ...   \n",
       "53038  Nobody takes me seriously I’ve (24M) dealt wit...  Anxiety        385   \n",
       "53039  selfishness  \"I don't feel very good, it's lik...  Anxiety        251   \n",
       "53040  Is there any way to sleep better? I can't slee...  Anxiety         22   \n",
       "53041  Public speaking tips? Hi, all. I have to give ...  Anxiety         94   \n",
       "53042  I have really bad door anxiety! It's not about...  Anxiety         90   \n",
       "\n",
       "       num_sentences  contains_unicode  \n",
       "0                  1             False  \n",
       "1                  2             False  \n",
       "2                  2             False  \n",
       "3                  1             False  \n",
       "4                  2             False  \n",
       "...              ...               ...  \n",
       "53038             16              True  \n",
       "53039             12             False  \n",
       "53040              2             False  \n",
       "53041              6              True  \n",
       "53042              3             False  \n",
       "\n",
       "[52681 rows x 5 columns]"
      ]
     },
     "execution_count": 38,
     "metadata": {},
     "output_type": "execute_result"
    }
   ],
   "source": [
    "df_unicode"
   ]
  },
  {
   "cell_type": "code",
   "execution_count": 39,
   "metadata": {},
   "outputs": [
    {
     "name": "stdout",
     "output_type": "stream",
     "text": [
      "Messages with Unicode characters:\n"
     ]
    }
   ],
   "source": [
    "unicode_messages = df_unicode[df_unicode['contains_unicode']]\n",
    "\n",
    "print(\"Messages with Unicode characters:\")"
   ]
  },
  {
   "cell_type": "code",
   "execution_count": 41,
   "metadata": {},
   "outputs": [
    {
     "name": "stdout",
     "output_type": "stream",
     "text": [
      "Index 15: Every time I wake up, I'm definitely nervous and excited, until when are you going to try ™‚\n",
      "Index 42: Did you ever read it when you read it to RL, I mean the atmosphere, the taste. It's because I'm like this. when I read au, the topic was about mental illness ™ my days became restless....and now I'm scared.\n",
      "Index 45: Oh no I'm restless. The time will come. I walk with Jesus. Then my heart is calm.. Every time I sing a song I don't know, tomorrow in this section I always want to cry . Because I sing it but I don't do it . Sorry God I worry too much ️\n",
      "Index 51: Let's not be nervous, how about ™‚\n",
      "Index 59: feelings of restlessness have started to appear ±\n"
     ]
    }
   ],
   "source": [
    "cnt = 0\n",
    "for i, row in unicode_messages.iterrows():\n",
    "    cnt+=1\n",
    "    print(f\"Index {i}: {row['statement']}\")\n",
    "    if cnt==5:\n",
    "        break"
   ]
  },
  {
   "cell_type": "code",
   "execution_count": 42,
   "metadata": {},
   "outputs": [
    {
     "name": "stderr",
     "output_type": "stream",
     "text": [
      "/var/folders/xz/l46mlrsn47s9vsqd6zyhp5680000gn/T/ipykernel_7418/428437135.py:6: SettingWithCopyWarning:\n",
      "\n",
      "\n",
      "A value is trying to be set on a copy of a slice from a DataFrame.\n",
      "Try using .loc[row_indexer,col_indexer] = value instead\n",
      "\n",
      "See the caveats in the documentation: https://pandas.pydata.org/pandas-docs/stable/user_guide/indexing.html#returning-a-view-versus-a-copy\n",
      "\n"
     ]
    }
   ],
   "source": [
    "def remove_unicode(s):\n",
    "    if isinstance(s, str):\n",
    "        return re.sub(r'[^\\x00-\\x7F]+', '', s)\n",
    "    return s\n",
    "\n",
    "df['cleaned_statement'] = df['statement'].apply(remove_unicode)"
   ]
  },
  {
   "cell_type": "code",
   "execution_count": 43,
   "metadata": {},
   "outputs": [
    {
     "data": {
      "text/html": [
       "<div>\n",
       "<style scoped>\n",
       "    .dataframe tbody tr th:only-of-type {\n",
       "        vertical-align: middle;\n",
       "    }\n",
       "\n",
       "    .dataframe tbody tr th {\n",
       "        vertical-align: top;\n",
       "    }\n",
       "\n",
       "    .dataframe thead th {\n",
       "        text-align: right;\n",
       "    }\n",
       "</style>\n",
       "<table border=\"1\" class=\"dataframe\">\n",
       "  <thead>\n",
       "    <tr style=\"text-align: right;\">\n",
       "      <th></th>\n",
       "      <th>statement</th>\n",
       "      <th>status</th>\n",
       "      <th>num_words</th>\n",
       "      <th>num_sentences</th>\n",
       "      <th>cleaned_statement</th>\n",
       "    </tr>\n",
       "  </thead>\n",
       "  <tbody>\n",
       "    <tr>\n",
       "      <th>0</th>\n",
       "      <td>oh my gosh</td>\n",
       "      <td>Anxiety</td>\n",
       "      <td>3</td>\n",
       "      <td>1</td>\n",
       "      <td>oh my gosh</td>\n",
       "    </tr>\n",
       "    <tr>\n",
       "      <th>1</th>\n",
       "      <td>trouble sleeping, confused mind, restless hear...</td>\n",
       "      <td>Anxiety</td>\n",
       "      <td>13</td>\n",
       "      <td>2</td>\n",
       "      <td>trouble sleeping, confused mind, restless hear...</td>\n",
       "    </tr>\n",
       "    <tr>\n",
       "      <th>2</th>\n",
       "      <td>All wrong, back off dear, forward doubt. Stay ...</td>\n",
       "      <td>Anxiety</td>\n",
       "      <td>17</td>\n",
       "      <td>2</td>\n",
       "      <td>All wrong, back off dear, forward doubt. Stay ...</td>\n",
       "    </tr>\n",
       "    <tr>\n",
       "      <th>3</th>\n",
       "      <td>I've shifted my focus to something else but I'...</td>\n",
       "      <td>Anxiety</td>\n",
       "      <td>13</td>\n",
       "      <td>1</td>\n",
       "      <td>I've shifted my focus to something else but I'...</td>\n",
       "    </tr>\n",
       "    <tr>\n",
       "      <th>4</th>\n",
       "      <td>I'm restless and restless, it's been a month n...</td>\n",
       "      <td>Anxiety</td>\n",
       "      <td>20</td>\n",
       "      <td>2</td>\n",
       "      <td>I'm restless and restless, it's been a month n...</td>\n",
       "    </tr>\n",
       "    <tr>\n",
       "      <th>...</th>\n",
       "      <td>...</td>\n",
       "      <td>...</td>\n",
       "      <td>...</td>\n",
       "      <td>...</td>\n",
       "      <td>...</td>\n",
       "    </tr>\n",
       "    <tr>\n",
       "      <th>53038</th>\n",
       "      <td>Nobody takes me seriously I’ve (24M) dealt wit...</td>\n",
       "      <td>Anxiety</td>\n",
       "      <td>385</td>\n",
       "      <td>16</td>\n",
       "      <td>Nobody takes me seriously Ive (24M) dealt with...</td>\n",
       "    </tr>\n",
       "    <tr>\n",
       "      <th>53039</th>\n",
       "      <td>selfishness  \"I don't feel very good, it's lik...</td>\n",
       "      <td>Anxiety</td>\n",
       "      <td>251</td>\n",
       "      <td>12</td>\n",
       "      <td>selfishness  \"I don't feel very good, it's lik...</td>\n",
       "    </tr>\n",
       "    <tr>\n",
       "      <th>53040</th>\n",
       "      <td>Is there any way to sleep better? I can't slee...</td>\n",
       "      <td>Anxiety</td>\n",
       "      <td>22</td>\n",
       "      <td>2</td>\n",
       "      <td>Is there any way to sleep better? I can't slee...</td>\n",
       "    </tr>\n",
       "    <tr>\n",
       "      <th>53041</th>\n",
       "      <td>Public speaking tips? Hi, all. I have to give ...</td>\n",
       "      <td>Anxiety</td>\n",
       "      <td>94</td>\n",
       "      <td>6</td>\n",
       "      <td>Public speaking tips? Hi, all. I have to give ...</td>\n",
       "    </tr>\n",
       "    <tr>\n",
       "      <th>53042</th>\n",
       "      <td>I have really bad door anxiety! It's not about...</td>\n",
       "      <td>Anxiety</td>\n",
       "      <td>90</td>\n",
       "      <td>3</td>\n",
       "      <td>I have really bad door anxiety! It's not about...</td>\n",
       "    </tr>\n",
       "  </tbody>\n",
       "</table>\n",
       "<p>52681 rows × 5 columns</p>\n",
       "</div>"
      ],
      "text/plain": [
       "                                               statement   status  num_words  \\\n",
       "0                                             oh my gosh  Anxiety          3   \n",
       "1      trouble sleeping, confused mind, restless hear...  Anxiety         13   \n",
       "2      All wrong, back off dear, forward doubt. Stay ...  Anxiety         17   \n",
       "3      I've shifted my focus to something else but I'...  Anxiety         13   \n",
       "4      I'm restless and restless, it's been a month n...  Anxiety         20   \n",
       "...                                                  ...      ...        ...   \n",
       "53038  Nobody takes me seriously I’ve (24M) dealt wit...  Anxiety        385   \n",
       "53039  selfishness  \"I don't feel very good, it's lik...  Anxiety        251   \n",
       "53040  Is there any way to sleep better? I can't slee...  Anxiety         22   \n",
       "53041  Public speaking tips? Hi, all. I have to give ...  Anxiety         94   \n",
       "53042  I have really bad door anxiety! It's not about...  Anxiety         90   \n",
       "\n",
       "       num_sentences                                  cleaned_statement  \n",
       "0                  1                                         oh my gosh  \n",
       "1                  2  trouble sleeping, confused mind, restless hear...  \n",
       "2                  2  All wrong, back off dear, forward doubt. Stay ...  \n",
       "3                  1  I've shifted my focus to something else but I'...  \n",
       "4                  2  I'm restless and restless, it's been a month n...  \n",
       "...              ...                                                ...  \n",
       "53038             16  Nobody takes me seriously Ive (24M) dealt with...  \n",
       "53039             12  selfishness  \"I don't feel very good, it's lik...  \n",
       "53040              2  Is there any way to sleep better? I can't slee...  \n",
       "53041              6  Public speaking tips? Hi, all. I have to give ...  \n",
       "53042              3  I have really bad door anxiety! It's not about...  \n",
       "\n",
       "[52681 rows x 5 columns]"
      ]
     },
     "execution_count": 43,
     "metadata": {},
     "output_type": "execute_result"
    }
   ],
   "source": [
    "df"
   ]
  },
  {
   "cell_type": "code",
   "execution_count": 44,
   "metadata": {},
   "outputs": [
    {
     "data": {
      "text/plain": [
       "contains_unicode\n",
       "False    52681\n",
       "Name: count, dtype: int64"
      ]
     },
     "execution_count": 44,
     "metadata": {},
     "output_type": "execute_result"
    }
   ],
   "source": [
    "df_unicode = df.copy()\n",
    "df_unicode['contains_unicode'] = df_unicode['cleaned_statement'].apply(contains_unicode)\n",
    "df_unicode[\"contains_unicode\"].value_counts()"
   ]
  },
  {
   "cell_type": "code",
   "execution_count": 45,
   "metadata": {},
   "outputs": [
    {
     "name": "stderr",
     "output_type": "stream",
     "text": [
      "/var/folders/xz/l46mlrsn47s9vsqd6zyhp5680000gn/T/ipykernel_7418/1700918466.py:12: SettingWithCopyWarning:\n",
      "\n",
      "\n",
      "A value is trying to be set on a copy of a slice from a DataFrame.\n",
      "Try using .loc[row_indexer,col_indexer] = value instead\n",
      "\n",
      "See the caveats in the documentation: https://pandas.pydata.org/pandas-docs/stable/user_guide/indexing.html#returning-a-view-versus-a-copy\n",
      "\n"
     ]
    }
   ],
   "source": [
    "def clean_text(s):\n",
    "    \"\"\"Clean the input text by removing URLs, markdown links, mentions, and punctuation.\"\"\"\n",
    "    if isinstance(s, str):\n",
    "        s = re.sub(r\"http[s]?://\\S+\", \"\", s)\n",
    "        s = re.sub(r\"\\[.*?\\]\\(.*?\\)\", \"\", s)\n",
    "        s = re.sub(r\"@\\w+\", \"\", s)  \n",
    "        s = re.sub(r\"[^\\w\\s]\", \"\", s)\n",
    "        s = s.strip() \n",
    "        return s\n",
    "    return s\n",
    "\n",
    "df['cleaned_statement'] = df['cleaned_statement'].apply(clean_text)"
   ]
  },
  {
   "cell_type": "code",
   "execution_count": 46,
   "metadata": {},
   "outputs": [
    {
     "data": {
      "text/html": [
       "<div>\n",
       "<style scoped>\n",
       "    .dataframe tbody tr th:only-of-type {\n",
       "        vertical-align: middle;\n",
       "    }\n",
       "\n",
       "    .dataframe tbody tr th {\n",
       "        vertical-align: top;\n",
       "    }\n",
       "\n",
       "    .dataframe thead th {\n",
       "        text-align: right;\n",
       "    }\n",
       "</style>\n",
       "<table border=\"1\" class=\"dataframe\">\n",
       "  <thead>\n",
       "    <tr style=\"text-align: right;\">\n",
       "      <th></th>\n",
       "      <th>statement</th>\n",
       "      <th>status</th>\n",
       "      <th>num_words</th>\n",
       "      <th>num_sentences</th>\n",
       "      <th>cleaned_statement</th>\n",
       "    </tr>\n",
       "  </thead>\n",
       "  <tbody>\n",
       "    <tr>\n",
       "      <th>0</th>\n",
       "      <td>oh my gosh</td>\n",
       "      <td>Anxiety</td>\n",
       "      <td>3</td>\n",
       "      <td>1</td>\n",
       "      <td>oh my gosh</td>\n",
       "    </tr>\n",
       "    <tr>\n",
       "      <th>1</th>\n",
       "      <td>trouble sleeping, confused mind, restless hear...</td>\n",
       "      <td>Anxiety</td>\n",
       "      <td>13</td>\n",
       "      <td>2</td>\n",
       "      <td>trouble sleeping confused mind restless heart ...</td>\n",
       "    </tr>\n",
       "    <tr>\n",
       "      <th>2</th>\n",
       "      <td>All wrong, back off dear, forward doubt. Stay ...</td>\n",
       "      <td>Anxiety</td>\n",
       "      <td>17</td>\n",
       "      <td>2</td>\n",
       "      <td>All wrong back off dear forward doubt Stay in ...</td>\n",
       "    </tr>\n",
       "    <tr>\n",
       "      <th>3</th>\n",
       "      <td>I've shifted my focus to something else but I'...</td>\n",
       "      <td>Anxiety</td>\n",
       "      <td>13</td>\n",
       "      <td>1</td>\n",
       "      <td>Ive shifted my focus to something else but Im ...</td>\n",
       "    </tr>\n",
       "    <tr>\n",
       "      <th>4</th>\n",
       "      <td>I'm restless and restless, it's been a month n...</td>\n",
       "      <td>Anxiety</td>\n",
       "      <td>20</td>\n",
       "      <td>2</td>\n",
       "      <td>Im restless and restless its been a month now ...</td>\n",
       "    </tr>\n",
       "    <tr>\n",
       "      <th>...</th>\n",
       "      <td>...</td>\n",
       "      <td>...</td>\n",
       "      <td>...</td>\n",
       "      <td>...</td>\n",
       "      <td>...</td>\n",
       "    </tr>\n",
       "    <tr>\n",
       "      <th>53038</th>\n",
       "      <td>Nobody takes me seriously I’ve (24M) dealt wit...</td>\n",
       "      <td>Anxiety</td>\n",
       "      <td>385</td>\n",
       "      <td>16</td>\n",
       "      <td>Nobody takes me seriously Ive 24M dealt with d...</td>\n",
       "    </tr>\n",
       "    <tr>\n",
       "      <th>53039</th>\n",
       "      <td>selfishness  \"I don't feel very good, it's lik...</td>\n",
       "      <td>Anxiety</td>\n",
       "      <td>251</td>\n",
       "      <td>12</td>\n",
       "      <td>selfishness  I dont feel very good its like I ...</td>\n",
       "    </tr>\n",
       "    <tr>\n",
       "      <th>53040</th>\n",
       "      <td>Is there any way to sleep better? I can't slee...</td>\n",
       "      <td>Anxiety</td>\n",
       "      <td>22</td>\n",
       "      <td>2</td>\n",
       "      <td>Is there any way to sleep better I cant sleep ...</td>\n",
       "    </tr>\n",
       "    <tr>\n",
       "      <th>53041</th>\n",
       "      <td>Public speaking tips? Hi, all. I have to give ...</td>\n",
       "      <td>Anxiety</td>\n",
       "      <td>94</td>\n",
       "      <td>6</td>\n",
       "      <td>Public speaking tips Hi all I have to give a p...</td>\n",
       "    </tr>\n",
       "    <tr>\n",
       "      <th>53042</th>\n",
       "      <td>I have really bad door anxiety! It's not about...</td>\n",
       "      <td>Anxiety</td>\n",
       "      <td>90</td>\n",
       "      <td>3</td>\n",
       "      <td>I have really bad door anxiety Its not about b...</td>\n",
       "    </tr>\n",
       "  </tbody>\n",
       "</table>\n",
       "<p>52681 rows × 5 columns</p>\n",
       "</div>"
      ],
      "text/plain": [
       "                                               statement   status  num_words  \\\n",
       "0                                             oh my gosh  Anxiety          3   \n",
       "1      trouble sleeping, confused mind, restless hear...  Anxiety         13   \n",
       "2      All wrong, back off dear, forward doubt. Stay ...  Anxiety         17   \n",
       "3      I've shifted my focus to something else but I'...  Anxiety         13   \n",
       "4      I'm restless and restless, it's been a month n...  Anxiety         20   \n",
       "...                                                  ...      ...        ...   \n",
       "53038  Nobody takes me seriously I’ve (24M) dealt wit...  Anxiety        385   \n",
       "53039  selfishness  \"I don't feel very good, it's lik...  Anxiety        251   \n",
       "53040  Is there any way to sleep better? I can't slee...  Anxiety         22   \n",
       "53041  Public speaking tips? Hi, all. I have to give ...  Anxiety         94   \n",
       "53042  I have really bad door anxiety! It's not about...  Anxiety         90   \n",
       "\n",
       "       num_sentences                                  cleaned_statement  \n",
       "0                  1                                         oh my gosh  \n",
       "1                  2  trouble sleeping confused mind restless heart ...  \n",
       "2                  2  All wrong back off dear forward doubt Stay in ...  \n",
       "3                  1  Ive shifted my focus to something else but Im ...  \n",
       "4                  2  Im restless and restless its been a month now ...  \n",
       "...              ...                                                ...  \n",
       "53038             16  Nobody takes me seriously Ive 24M dealt with d...  \n",
       "53039             12  selfishness  I dont feel very good its like I ...  \n",
       "53040              2  Is there any way to sleep better I cant sleep ...  \n",
       "53041              6  Public speaking tips Hi all I have to give a p...  \n",
       "53042              3  I have really bad door anxiety Its not about b...  \n",
       "\n",
       "[52681 rows x 5 columns]"
      ]
     },
     "execution_count": 46,
     "metadata": {},
     "output_type": "execute_result"
    }
   ],
   "source": [
    "df"
   ]
  },
  {
   "cell_type": "code",
   "execution_count": 47,
   "metadata": {},
   "outputs": [
    {
     "name": "stderr",
     "output_type": "stream",
     "text": [
      "/var/folders/xz/l46mlrsn47s9vsqd6zyhp5680000gn/T/ipykernel_7418/3539809058.py:9: SettingWithCopyWarning:\n",
      "\n",
      "\n",
      "A value is trying to be set on a copy of a slice from a DataFrame.\n",
      "Try using .loc[row_indexer,col_indexer] = value instead\n",
      "\n",
      "See the caveats in the documentation: https://pandas.pydata.org/pandas-docs/stable/user_guide/indexing.html#returning-a-view-versus-a-copy\n",
      "\n"
     ]
    }
   ],
   "source": [
    "def remove_age_gender_pattern(statement):\n",
    "    \"\"\"Remove age and gender patterns (like '24M' or '30F') from the statement.\"\"\"\n",
    "    if not isinstance(statement, str):\n",
    "        return statement\n",
    "    pattern = r'\\b\\d{1,3}[MF]\\b'\n",
    "    cleaned_statement = re.sub(pattern, '', statement)\n",
    "    return cleaned_statement.strip()\n",
    "\n",
    "df['cleaned_statement'] = df['cleaned_statement'].apply(remove_age_gender_pattern)"
   ]
  },
  {
   "cell_type": "code",
   "execution_count": 48,
   "metadata": {},
   "outputs": [
    {
     "data": {
      "text/html": [
       "<div>\n",
       "<style scoped>\n",
       "    .dataframe tbody tr th:only-of-type {\n",
       "        vertical-align: middle;\n",
       "    }\n",
       "\n",
       "    .dataframe tbody tr th {\n",
       "        vertical-align: top;\n",
       "    }\n",
       "\n",
       "    .dataframe thead th {\n",
       "        text-align: right;\n",
       "    }\n",
       "</style>\n",
       "<table border=\"1\" class=\"dataframe\">\n",
       "  <thead>\n",
       "    <tr style=\"text-align: right;\">\n",
       "      <th></th>\n",
       "      <th>statement</th>\n",
       "      <th>status</th>\n",
       "      <th>num_words</th>\n",
       "      <th>num_sentences</th>\n",
       "      <th>cleaned_statement</th>\n",
       "    </tr>\n",
       "  </thead>\n",
       "  <tbody>\n",
       "    <tr>\n",
       "      <th>0</th>\n",
       "      <td>oh my gosh</td>\n",
       "      <td>Anxiety</td>\n",
       "      <td>3</td>\n",
       "      <td>1</td>\n",
       "      <td>oh my gosh</td>\n",
       "    </tr>\n",
       "    <tr>\n",
       "      <th>1</th>\n",
       "      <td>trouble sleeping, confused mind, restless hear...</td>\n",
       "      <td>Anxiety</td>\n",
       "      <td>13</td>\n",
       "      <td>2</td>\n",
       "      <td>trouble sleeping confused mind restless heart ...</td>\n",
       "    </tr>\n",
       "    <tr>\n",
       "      <th>2</th>\n",
       "      <td>All wrong, back off dear, forward doubt. Stay ...</td>\n",
       "      <td>Anxiety</td>\n",
       "      <td>17</td>\n",
       "      <td>2</td>\n",
       "      <td>All wrong back off dear forward doubt Stay in ...</td>\n",
       "    </tr>\n",
       "    <tr>\n",
       "      <th>3</th>\n",
       "      <td>I've shifted my focus to something else but I'...</td>\n",
       "      <td>Anxiety</td>\n",
       "      <td>13</td>\n",
       "      <td>1</td>\n",
       "      <td>Ive shifted my focus to something else but Im ...</td>\n",
       "    </tr>\n",
       "    <tr>\n",
       "      <th>4</th>\n",
       "      <td>I'm restless and restless, it's been a month n...</td>\n",
       "      <td>Anxiety</td>\n",
       "      <td>20</td>\n",
       "      <td>2</td>\n",
       "      <td>Im restless and restless its been a month now ...</td>\n",
       "    </tr>\n",
       "    <tr>\n",
       "      <th>...</th>\n",
       "      <td>...</td>\n",
       "      <td>...</td>\n",
       "      <td>...</td>\n",
       "      <td>...</td>\n",
       "      <td>...</td>\n",
       "    </tr>\n",
       "    <tr>\n",
       "      <th>53038</th>\n",
       "      <td>Nobody takes me seriously I’ve (24M) dealt wit...</td>\n",
       "      <td>Anxiety</td>\n",
       "      <td>385</td>\n",
       "      <td>16</td>\n",
       "      <td>Nobody takes me seriously Ive  dealt with depr...</td>\n",
       "    </tr>\n",
       "    <tr>\n",
       "      <th>53039</th>\n",
       "      <td>selfishness  \"I don't feel very good, it's lik...</td>\n",
       "      <td>Anxiety</td>\n",
       "      <td>251</td>\n",
       "      <td>12</td>\n",
       "      <td>selfishness  I dont feel very good its like I ...</td>\n",
       "    </tr>\n",
       "    <tr>\n",
       "      <th>53040</th>\n",
       "      <td>Is there any way to sleep better? I can't slee...</td>\n",
       "      <td>Anxiety</td>\n",
       "      <td>22</td>\n",
       "      <td>2</td>\n",
       "      <td>Is there any way to sleep better I cant sleep ...</td>\n",
       "    </tr>\n",
       "    <tr>\n",
       "      <th>53041</th>\n",
       "      <td>Public speaking tips? Hi, all. I have to give ...</td>\n",
       "      <td>Anxiety</td>\n",
       "      <td>94</td>\n",
       "      <td>6</td>\n",
       "      <td>Public speaking tips Hi all I have to give a p...</td>\n",
       "    </tr>\n",
       "    <tr>\n",
       "      <th>53042</th>\n",
       "      <td>I have really bad door anxiety! It's not about...</td>\n",
       "      <td>Anxiety</td>\n",
       "      <td>90</td>\n",
       "      <td>3</td>\n",
       "      <td>I have really bad door anxiety Its not about b...</td>\n",
       "    </tr>\n",
       "  </tbody>\n",
       "</table>\n",
       "<p>52681 rows × 5 columns</p>\n",
       "</div>"
      ],
      "text/plain": [
       "                                               statement   status  num_words  \\\n",
       "0                                             oh my gosh  Anxiety          3   \n",
       "1      trouble sleeping, confused mind, restless hear...  Anxiety         13   \n",
       "2      All wrong, back off dear, forward doubt. Stay ...  Anxiety         17   \n",
       "3      I've shifted my focus to something else but I'...  Anxiety         13   \n",
       "4      I'm restless and restless, it's been a month n...  Anxiety         20   \n",
       "...                                                  ...      ...        ...   \n",
       "53038  Nobody takes me seriously I’ve (24M) dealt wit...  Anxiety        385   \n",
       "53039  selfishness  \"I don't feel very good, it's lik...  Anxiety        251   \n",
       "53040  Is there any way to sleep better? I can't slee...  Anxiety         22   \n",
       "53041  Public speaking tips? Hi, all. I have to give ...  Anxiety         94   \n",
       "53042  I have really bad door anxiety! It's not about...  Anxiety         90   \n",
       "\n",
       "       num_sentences                                  cleaned_statement  \n",
       "0                  1                                         oh my gosh  \n",
       "1                  2  trouble sleeping confused mind restless heart ...  \n",
       "2                  2  All wrong back off dear forward doubt Stay in ...  \n",
       "3                  1  Ive shifted my focus to something else but Im ...  \n",
       "4                  2  Im restless and restless its been a month now ...  \n",
       "...              ...                                                ...  \n",
       "53038             16  Nobody takes me seriously Ive  dealt with depr...  \n",
       "53039             12  selfishness  I dont feel very good its like I ...  \n",
       "53040              2  Is there any way to sleep better I cant sleep ...  \n",
       "53041              6  Public speaking tips Hi all I have to give a p...  \n",
       "53042              3  I have really bad door anxiety Its not about b...  \n",
       "\n",
       "[52681 rows x 5 columns]"
      ]
     },
     "execution_count": 48,
     "metadata": {},
     "output_type": "execute_result"
    }
   ],
   "source": [
    "df"
   ]
  },
  {
   "cell_type": "code",
   "execution_count": 49,
   "metadata": {},
   "outputs": [
    {
     "name": "stdout",
     "output_type": "stream",
     "text": [
      "<class 'pandas.core.frame.DataFrame'>\n",
      "Index: 52681 entries, 0 to 53042\n",
      "Data columns (total 5 columns):\n",
      " #   Column             Non-Null Count  Dtype \n",
      "---  ------             --------------  ----- \n",
      " 0   statement          52681 non-null  object\n",
      " 1   status             52681 non-null  object\n",
      " 2   num_words          52681 non-null  int64 \n",
      " 3   num_sentences      52681 non-null  int64 \n",
      " 4   cleaned_statement  52681 non-null  object\n",
      "dtypes: int64(2), object(3)\n",
      "memory usage: 2.4+ MB\n"
     ]
    }
   ],
   "source": [
    "df.info()"
   ]
  },
  {
   "cell_type": "code",
   "execution_count": 50,
   "metadata": {},
   "outputs": [
    {
     "name": "stderr",
     "output_type": "stream",
     "text": [
      "/var/folders/xz/l46mlrsn47s9vsqd6zyhp5680000gn/T/ipykernel_7418/972530690.py:7: SettingWithCopyWarning:\n",
      "\n",
      "\n",
      "A value is trying to be set on a copy of a slice from a DataFrame.\n",
      "Try using .loc[row_indexer,col_indexer] = value instead\n",
      "\n",
      "See the caveats in the documentation: https://pandas.pydata.org/pandas-docs/stable/user_guide/indexing.html#returning-a-view-versus-a-copy\n",
      "\n"
     ]
    }
   ],
   "source": [
    "def limit_statement_length(statement, max_length=500):\n",
    "    if not isinstance(statement, str):\n",
    "        return statement\n",
    "    words = statement.split()\n",
    "    return ' '.join(words[:max_length])\n",
    "\n",
    "df['limited_statement'] = df['cleaned_statement'].apply(limit_statement_length)"
   ]
  },
  {
   "cell_type": "code",
   "execution_count": 51,
   "metadata": {},
   "outputs": [
    {
     "data": {
      "text/html": [
       "<div>\n",
       "<style scoped>\n",
       "    .dataframe tbody tr th:only-of-type {\n",
       "        vertical-align: middle;\n",
       "    }\n",
       "\n",
       "    .dataframe tbody tr th {\n",
       "        vertical-align: top;\n",
       "    }\n",
       "\n",
       "    .dataframe thead th {\n",
       "        text-align: right;\n",
       "    }\n",
       "</style>\n",
       "<table border=\"1\" class=\"dataframe\">\n",
       "  <thead>\n",
       "    <tr style=\"text-align: right;\">\n",
       "      <th></th>\n",
       "      <th>statement</th>\n",
       "      <th>status</th>\n",
       "      <th>num_words</th>\n",
       "      <th>num_sentences</th>\n",
       "      <th>cleaned_statement</th>\n",
       "      <th>limited_statement</th>\n",
       "    </tr>\n",
       "  </thead>\n",
       "  <tbody>\n",
       "    <tr>\n",
       "      <th>0</th>\n",
       "      <td>oh my gosh</td>\n",
       "      <td>Anxiety</td>\n",
       "      <td>3</td>\n",
       "      <td>1</td>\n",
       "      <td>oh my gosh</td>\n",
       "      <td>oh my gosh</td>\n",
       "    </tr>\n",
       "    <tr>\n",
       "      <th>1</th>\n",
       "      <td>trouble sleeping, confused mind, restless hear...</td>\n",
       "      <td>Anxiety</td>\n",
       "      <td>13</td>\n",
       "      <td>2</td>\n",
       "      <td>trouble sleeping confused mind restless heart ...</td>\n",
       "      <td>trouble sleeping confused mind restless heart ...</td>\n",
       "    </tr>\n",
       "    <tr>\n",
       "      <th>2</th>\n",
       "      <td>All wrong, back off dear, forward doubt. Stay ...</td>\n",
       "      <td>Anxiety</td>\n",
       "      <td>17</td>\n",
       "      <td>2</td>\n",
       "      <td>All wrong back off dear forward doubt Stay in ...</td>\n",
       "      <td>All wrong back off dear forward doubt Stay in ...</td>\n",
       "    </tr>\n",
       "    <tr>\n",
       "      <th>3</th>\n",
       "      <td>I've shifted my focus to something else but I'...</td>\n",
       "      <td>Anxiety</td>\n",
       "      <td>13</td>\n",
       "      <td>1</td>\n",
       "      <td>Ive shifted my focus to something else but Im ...</td>\n",
       "      <td>Ive shifted my focus to something else but Im ...</td>\n",
       "    </tr>\n",
       "    <tr>\n",
       "      <th>4</th>\n",
       "      <td>I'm restless and restless, it's been a month n...</td>\n",
       "      <td>Anxiety</td>\n",
       "      <td>20</td>\n",
       "      <td>2</td>\n",
       "      <td>Im restless and restless its been a month now ...</td>\n",
       "      <td>Im restless and restless its been a month now ...</td>\n",
       "    </tr>\n",
       "    <tr>\n",
       "      <th>...</th>\n",
       "      <td>...</td>\n",
       "      <td>...</td>\n",
       "      <td>...</td>\n",
       "      <td>...</td>\n",
       "      <td>...</td>\n",
       "      <td>...</td>\n",
       "    </tr>\n",
       "    <tr>\n",
       "      <th>53038</th>\n",
       "      <td>Nobody takes me seriously I’ve (24M) dealt wit...</td>\n",
       "      <td>Anxiety</td>\n",
       "      <td>385</td>\n",
       "      <td>16</td>\n",
       "      <td>Nobody takes me seriously Ive  dealt with depr...</td>\n",
       "      <td>Nobody takes me seriously Ive dealt with depre...</td>\n",
       "    </tr>\n",
       "    <tr>\n",
       "      <th>53039</th>\n",
       "      <td>selfishness  \"I don't feel very good, it's lik...</td>\n",
       "      <td>Anxiety</td>\n",
       "      <td>251</td>\n",
       "      <td>12</td>\n",
       "      <td>selfishness  I dont feel very good its like I ...</td>\n",
       "      <td>selfishness I dont feel very good its like I d...</td>\n",
       "    </tr>\n",
       "    <tr>\n",
       "      <th>53040</th>\n",
       "      <td>Is there any way to sleep better? I can't slee...</td>\n",
       "      <td>Anxiety</td>\n",
       "      <td>22</td>\n",
       "      <td>2</td>\n",
       "      <td>Is there any way to sleep better I cant sleep ...</td>\n",
       "      <td>Is there any way to sleep better I cant sleep ...</td>\n",
       "    </tr>\n",
       "    <tr>\n",
       "      <th>53041</th>\n",
       "      <td>Public speaking tips? Hi, all. I have to give ...</td>\n",
       "      <td>Anxiety</td>\n",
       "      <td>94</td>\n",
       "      <td>6</td>\n",
       "      <td>Public speaking tips Hi all I have to give a p...</td>\n",
       "      <td>Public speaking tips Hi all I have to give a p...</td>\n",
       "    </tr>\n",
       "    <tr>\n",
       "      <th>53042</th>\n",
       "      <td>I have really bad door anxiety! It's not about...</td>\n",
       "      <td>Anxiety</td>\n",
       "      <td>90</td>\n",
       "      <td>3</td>\n",
       "      <td>I have really bad door anxiety Its not about b...</td>\n",
       "      <td>I have really bad door anxiety Its not about b...</td>\n",
       "    </tr>\n",
       "  </tbody>\n",
       "</table>\n",
       "<p>52681 rows × 6 columns</p>\n",
       "</div>"
      ],
      "text/plain": [
       "                                               statement   status  num_words  \\\n",
       "0                                             oh my gosh  Anxiety          3   \n",
       "1      trouble sleeping, confused mind, restless hear...  Anxiety         13   \n",
       "2      All wrong, back off dear, forward doubt. Stay ...  Anxiety         17   \n",
       "3      I've shifted my focus to something else but I'...  Anxiety         13   \n",
       "4      I'm restless and restless, it's been a month n...  Anxiety         20   \n",
       "...                                                  ...      ...        ...   \n",
       "53038  Nobody takes me seriously I’ve (24M) dealt wit...  Anxiety        385   \n",
       "53039  selfishness  \"I don't feel very good, it's lik...  Anxiety        251   \n",
       "53040  Is there any way to sleep better? I can't slee...  Anxiety         22   \n",
       "53041  Public speaking tips? Hi, all. I have to give ...  Anxiety         94   \n",
       "53042  I have really bad door anxiety! It's not about...  Anxiety         90   \n",
       "\n",
       "       num_sentences                                  cleaned_statement  \\\n",
       "0                  1                                         oh my gosh   \n",
       "1                  2  trouble sleeping confused mind restless heart ...   \n",
       "2                  2  All wrong back off dear forward doubt Stay in ...   \n",
       "3                  1  Ive shifted my focus to something else but Im ...   \n",
       "4                  2  Im restless and restless its been a month now ...   \n",
       "...              ...                                                ...   \n",
       "53038             16  Nobody takes me seriously Ive  dealt with depr...   \n",
       "53039             12  selfishness  I dont feel very good its like I ...   \n",
       "53040              2  Is there any way to sleep better I cant sleep ...   \n",
       "53041              6  Public speaking tips Hi all I have to give a p...   \n",
       "53042              3  I have really bad door anxiety Its not about b...   \n",
       "\n",
       "                                       limited_statement  \n",
       "0                                             oh my gosh  \n",
       "1      trouble sleeping confused mind restless heart ...  \n",
       "2      All wrong back off dear forward doubt Stay in ...  \n",
       "3      Ive shifted my focus to something else but Im ...  \n",
       "4      Im restless and restless its been a month now ...  \n",
       "...                                                  ...  \n",
       "53038  Nobody takes me seriously Ive dealt with depre...  \n",
       "53039  selfishness I dont feel very good its like I d...  \n",
       "53040  Is there any way to sleep better I cant sleep ...  \n",
       "53041  Public speaking tips Hi all I have to give a p...  \n",
       "53042  I have really bad door anxiety Its not about b...  \n",
       "\n",
       "[52681 rows x 6 columns]"
      ]
     },
     "execution_count": 51,
     "metadata": {},
     "output_type": "execute_result"
    }
   ],
   "source": [
    "df"
   ]
  },
  {
   "cell_type": "code",
   "execution_count": 52,
   "metadata": {},
   "outputs": [],
   "source": [
    "df_test = df.copy()\n",
    "df_test['num_words'] = df_test['limited_statement'].apply(count_words)\n",
    "df_test['num_sentences'] = df_test['limited_statement'].apply(count_sentences)"
   ]
  },
  {
   "cell_type": "code",
   "execution_count": 53,
   "metadata": {},
   "outputs": [
    {
     "data": {
      "application/vnd.plotly.v1+json": {
       "config": {
        "plotlyServerURL": "https://plot.ly"
       },
       "data": [
        {
         "bingroup": "x",
         "hovertemplate": "Number of Words=%{x}<br>count=%{y}<extra></extra>",
         "legendgroup": "",
         "marker": {
          "color": "blue",
          "pattern": {
           "shape": ""
          }
         },
         "name": "",
         "nbinsx": 50,
         "orientation": "v",
         "showlegend": false,
         "type": "histogram",
         "x": {
          "bdata": "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",
          "dtype": "i2"
         },
         "xaxis": "x",
         "yaxis": "y"
        }
       ],
       "layout": {
        "barmode": "relative",
        "legend": {
         "tracegroupgap": 0
        },
        "template": {
         "data": {
          "bar": [
           {
            "error_x": {
             "color": "#2a3f5f"
            },
            "error_y": {
             "color": "#2a3f5f"
            },
            "marker": {
             "line": {
              "color": "#E5ECF6",
              "width": 0.5
             },
             "pattern": {
              "fillmode": "overlay",
              "size": 10,
              "solidity": 0.2
             }
            },
            "type": "bar"
           }
          ],
          "barpolar": [
           {
            "marker": {
             "line": {
              "color": "#E5ECF6",
              "width": 0.5
             },
             "pattern": {
              "fillmode": "overlay",
              "size": 10,
              "solidity": 0.2
             }
            },
            "type": "barpolar"
           }
          ],
          "carpet": [
           {
            "aaxis": {
             "endlinecolor": "#2a3f5f",
             "gridcolor": "white",
             "linecolor": "white",
             "minorgridcolor": "white",
             "startlinecolor": "#2a3f5f"
            },
            "baxis": {
             "endlinecolor": "#2a3f5f",
             "gridcolor": "white",
             "linecolor": "white",
             "minorgridcolor": "white",
             "startlinecolor": "#2a3f5f"
            },
            "type": "carpet"
           }
          ],
          "choropleth": [
           {
            "colorbar": {
             "outlinewidth": 0,
             "ticks": ""
            },
            "type": "choropleth"
           }
          ],
          "contour": [
           {
            "colorbar": {
             "outlinewidth": 0,
             "ticks": ""
            },
            "colorscale": [
             [
              0,
              "#0d0887"
             ],
             [
              0.1111111111111111,
              "#46039f"
             ],
             [
              0.2222222222222222,
              "#7201a8"
             ],
             [
              0.3333333333333333,
              "#9c179e"
             ],
             [
              0.4444444444444444,
              "#bd3786"
             ],
             [
              0.5555555555555556,
              "#d8576b"
             ],
             [
              0.6666666666666666,
              "#ed7953"
             ],
             [
              0.7777777777777778,
              "#fb9f3a"
             ],
             [
              0.8888888888888888,
              "#fdca26"
             ],
             [
              1,
              "#f0f921"
             ]
            ],
            "type": "contour"
           }
          ],
          "contourcarpet": [
           {
            "colorbar": {
             "outlinewidth": 0,
             "ticks": ""
            },
            "type": "contourcarpet"
           }
          ],
          "heatmap": [
           {
            "colorbar": {
             "outlinewidth": 0,
             "ticks": ""
            },
            "colorscale": [
             [
              0,
              "#0d0887"
             ],
             [
              0.1111111111111111,
              "#46039f"
             ],
             [
              0.2222222222222222,
              "#7201a8"
             ],
             [
              0.3333333333333333,
              "#9c179e"
             ],
             [
              0.4444444444444444,
              "#bd3786"
             ],
             [
              0.5555555555555556,
              "#d8576b"
             ],
             [
              0.6666666666666666,
              "#ed7953"
             ],
             [
              0.7777777777777778,
              "#fb9f3a"
             ],
             [
              0.8888888888888888,
              "#fdca26"
             ],
             [
              1,
              "#f0f921"
             ]
            ],
            "type": "heatmap"
           }
          ],
          "histogram": [
           {
            "marker": {
             "pattern": {
              "fillmode": "overlay",
              "size": 10,
              "solidity": 0.2
             }
            },
            "type": "histogram"
           }
          ],
          "histogram2d": [
           {
            "colorbar": {
             "outlinewidth": 0,
             "ticks": ""
            },
            "colorscale": [
             [
              0,
              "#0d0887"
             ],
             [
              0.1111111111111111,
              "#46039f"
             ],
             [
              0.2222222222222222,
              "#7201a8"
             ],
             [
              0.3333333333333333,
              "#9c179e"
             ],
             [
              0.4444444444444444,
              "#bd3786"
             ],
             [
              0.5555555555555556,
              "#d8576b"
             ],
             [
              0.6666666666666666,
              "#ed7953"
             ],
             [
              0.7777777777777778,
              "#fb9f3a"
             ],
             [
              0.8888888888888888,
              "#fdca26"
             ],
             [
              1,
              "#f0f921"
             ]
            ],
            "type": "histogram2d"
           }
          ],
          "histogram2dcontour": [
           {
            "colorbar": {
             "outlinewidth": 0,
             "ticks": ""
            },
            "colorscale": [
             [
              0,
              "#0d0887"
             ],
             [
              0.1111111111111111,
              "#46039f"
             ],
             [
              0.2222222222222222,
              "#7201a8"
             ],
             [
              0.3333333333333333,
              "#9c179e"
             ],
             [
              0.4444444444444444,
              "#bd3786"
             ],
             [
              0.5555555555555556,
              "#d8576b"
             ],
             [
              0.6666666666666666,
              "#ed7953"
             ],
             [
              0.7777777777777778,
              "#fb9f3a"
             ],
             [
              0.8888888888888888,
              "#fdca26"
             ],
             [
              1,
              "#f0f921"
             ]
            ],
            "type": "histogram2dcontour"
           }
          ],
          "mesh3d": [
           {
            "colorbar": {
             "outlinewidth": 0,
             "ticks": ""
            },
            "type": "mesh3d"
           }
          ],
          "parcoords": [
           {
            "line": {
             "colorbar": {
              "outlinewidth": 0,
              "ticks": ""
             }
            },
            "type": "parcoords"
           }
          ],
          "pie": [
           {
            "automargin": true,
            "type": "pie"
           }
          ],
          "scatter": [
           {
            "fillpattern": {
             "fillmode": "overlay",
             "size": 10,
             "solidity": 0.2
            },
            "type": "scatter"
           }
          ],
          "scatter3d": [
           {
            "line": {
             "colorbar": {
              "outlinewidth": 0,
              "ticks": ""
             }
            },
            "marker": {
             "colorbar": {
              "outlinewidth": 0,
              "ticks": ""
             }
            },
            "type": "scatter3d"
           }
          ],
          "scattercarpet": [
           {
            "marker": {
             "colorbar": {
              "outlinewidth": 0,
              "ticks": ""
             }
            },
            "type": "scattercarpet"
           }
          ],
          "scattergeo": [
           {
            "marker": {
             "colorbar": {
              "outlinewidth": 0,
              "ticks": ""
             }
            },
            "type": "scattergeo"
           }
          ],
          "scattergl": [
           {
            "marker": {
             "colorbar": {
              "outlinewidth": 0,
              "ticks": ""
             }
            },
            "type": "scattergl"
           }
          ],
          "scattermap": [
           {
            "marker": {
             "colorbar": {
              "outlinewidth": 0,
              "ticks": ""
             }
            },
            "type": "scattermap"
           }
          ],
          "scattermapbox": [
           {
            "marker": {
             "colorbar": {
              "outlinewidth": 0,
              "ticks": ""
             }
            },
            "type": "scattermapbox"
           }
          ],
          "scatterpolar": [
           {
            "marker": {
             "colorbar": {
              "outlinewidth": 0,
              "ticks": ""
             }
            },
            "type": "scatterpolar"
           }
          ],
          "scatterpolargl": [
           {
            "marker": {
             "colorbar": {
              "outlinewidth": 0,
              "ticks": ""
             }
            },
            "type": "scatterpolargl"
           }
          ],
          "scatterternary": [
           {
            "marker": {
             "colorbar": {
              "outlinewidth": 0,
              "ticks": ""
             }
            },
            "type": "scatterternary"
           }
          ],
          "surface": [
           {
            "colorbar": {
             "outlinewidth": 0,
             "ticks": ""
            },
            "colorscale": [
             [
              0,
              "#0d0887"
             ],
             [
              0.1111111111111111,
              "#46039f"
             ],
             [
              0.2222222222222222,
              "#7201a8"
             ],
             [
              0.3333333333333333,
              "#9c179e"
             ],
             [
              0.4444444444444444,
              "#bd3786"
             ],
             [
              0.5555555555555556,
              "#d8576b"
             ],
             [
              0.6666666666666666,
              "#ed7953"
             ],
             [
              0.7777777777777778,
              "#fb9f3a"
             ],
             [
              0.8888888888888888,
              "#fdca26"
             ],
             [
              1,
              "#f0f921"
             ]
            ],
            "type": "surface"
           }
          ],
          "table": [
           {
            "cells": {
             "fill": {
              "color": "#EBF0F8"
             },
             "line": {
              "color": "white"
             }
            },
            "header": {
             "fill": {
              "color": "#C8D4E3"
             },
             "line": {
              "color": "white"
             }
            },
            "type": "table"
           }
          ]
         },
         "layout": {
          "annotationdefaults": {
           "arrowcolor": "#2a3f5f",
           "arrowhead": 0,
           "arrowwidth": 1
          },
          "autotypenumbers": "strict",
          "coloraxis": {
           "colorbar": {
            "outlinewidth": 0,
            "ticks": ""
           }
          },
          "colorscale": {
           "diverging": [
            [
             0,
             "#8e0152"
            ],
            [
             0.1,
             "#c51b7d"
            ],
            [
             0.2,
             "#de77ae"
            ],
            [
             0.3,
             "#f1b6da"
            ],
            [
             0.4,
             "#fde0ef"
            ],
            [
             0.5,
             "#f7f7f7"
            ],
            [
             0.6,
             "#e6f5d0"
            ],
            [
             0.7,
             "#b8e186"
            ],
            [
             0.8,
             "#7fbc41"
            ],
            [
             0.9,
             "#4d9221"
            ],
            [
             1,
             "#276419"
            ]
           ],
           "sequential": [
            [
             0,
             "#0d0887"
            ],
            [
             0.1111111111111111,
             "#46039f"
            ],
            [
             0.2222222222222222,
             "#7201a8"
            ],
            [
             0.3333333333333333,
             "#9c179e"
            ],
            [
             0.4444444444444444,
             "#bd3786"
            ],
            [
             0.5555555555555556,
             "#d8576b"
            ],
            [
             0.6666666666666666,
             "#ed7953"
            ],
            [
             0.7777777777777778,
             "#fb9f3a"
            ],
            [
             0.8888888888888888,
             "#fdca26"
            ],
            [
             1,
             "#f0f921"
            ]
           ],
           "sequentialminus": [
            [
             0,
             "#0d0887"
            ],
            [
             0.1111111111111111,
             "#46039f"
            ],
            [
             0.2222222222222222,
             "#7201a8"
            ],
            [
             0.3333333333333333,
             "#9c179e"
            ],
            [
             0.4444444444444444,
             "#bd3786"
            ],
            [
             0.5555555555555556,
             "#d8576b"
            ],
            [
             0.6666666666666666,
             "#ed7953"
            ],
            [
             0.7777777777777778,
             "#fb9f3a"
            ],
            [
             0.8888888888888888,
             "#fdca26"
            ],
            [
             1,
             "#f0f921"
            ]
           ]
          },
          "colorway": [
           "#636efa",
           "#EF553B",
           "#00cc96",
           "#ab63fa",
           "#FFA15A",
           "#19d3f3",
           "#FF6692",
           "#B6E880",
           "#FF97FF",
           "#FECB52"
          ],
          "font": {
           "color": "#2a3f5f"
          },
          "geo": {
           "bgcolor": "white",
           "lakecolor": "white",
           "landcolor": "#E5ECF6",
           "showlakes": true,
           "showland": true,
           "subunitcolor": "white"
          },
          "hoverlabel": {
           "align": "left"
          },
          "hovermode": "closest",
          "mapbox": {
           "style": "light"
          },
          "paper_bgcolor": "white",
          "plot_bgcolor": "#E5ECF6",
          "polar": {
           "angularaxis": {
            "gridcolor": "white",
            "linecolor": "white",
            "ticks": ""
           },
           "bgcolor": "#E5ECF6",
           "radialaxis": {
            "gridcolor": "white",
            "linecolor": "white",
            "ticks": ""
           }
          },
          "scene": {
           "xaxis": {
            "backgroundcolor": "#E5ECF6",
            "gridcolor": "white",
            "gridwidth": 2,
            "linecolor": "white",
            "showbackground": true,
            "ticks": "",
            "zerolinecolor": "white"
           },
           "yaxis": {
            "backgroundcolor": "#E5ECF6",
            "gridcolor": "white",
            "gridwidth": 2,
            "linecolor": "white",
            "showbackground": true,
            "ticks": "",
            "zerolinecolor": "white"
           },
           "zaxis": {
            "backgroundcolor": "#E5ECF6",
            "gridcolor": "white",
            "gridwidth": 2,
            "linecolor": "white",
            "showbackground": true,
            "ticks": "",
            "zerolinecolor": "white"
           }
          },
          "shapedefaults": {
           "line": {
            "color": "#2a3f5f"
           }
          },
          "ternary": {
           "aaxis": {
            "gridcolor": "white",
            "linecolor": "white",
            "ticks": ""
           },
           "baxis": {
            "gridcolor": "white",
            "linecolor": "white",
            "ticks": ""
           },
           "bgcolor": "#E5ECF6",
           "caxis": {
            "gridcolor": "white",
            "linecolor": "white",
            "ticks": ""
           }
          },
          "title": {
           "x": 0.05
          },
          "xaxis": {
           "automargin": true,
           "gridcolor": "white",
           "linecolor": "white",
           "ticks": "",
           "title": {
            "standoff": 15
           },
           "zerolinecolor": "white",
           "zerolinewidth": 2
          },
          "yaxis": {
           "automargin": true,
           "gridcolor": "white",
           "linecolor": "white",
           "ticks": "",
           "title": {
            "standoff": 15
           },
           "zerolinecolor": "white",
           "zerolinewidth": 2
          }
         }
        },
        "title": {
         "text": "Distribution of Number of Words"
        },
        "xaxis": {
         "anchor": "y",
         "domain": [
          0,
          1
         ],
         "title": {
          "text": "Number of Words"
         }
        },
        "yaxis": {
         "anchor": "x",
         "domain": [
          0,
          1
         ],
         "title": {
          "text": "Frequency"
         }
        }
       }
      }
     },
     "metadata": {},
     "output_type": "display_data"
    }
   ],
   "source": [
    "import plotly.express as px\n",
    "# Create histograms using Plotly\n",
    "fig = px.histogram(df_test, x='num_words', nbins=50, title='Distribution of Number of Words', \n",
    "                   color_discrete_sequence=['blue'], \n",
    "                   labels={'num_words': 'Number of Words', 'count': 'Frequency'})\n",
    "\n",
    "fig.update_layout(xaxis_title='Number of Words', yaxis_title='Frequency')\n",
    "fig.show()"
   ]
  },
  {
   "cell_type": "code",
   "execution_count": 54,
   "metadata": {},
   "outputs": [
    {
     "name": "stderr",
     "output_type": "stream",
     "text": [
      "/var/folders/xz/l46mlrsn47s9vsqd6zyhp5680000gn/T/ipykernel_7418/2677268079.py:1: SettingWithCopyWarning:\n",
      "\n",
      "\n",
      "A value is trying to be set on a copy of a slice from a DataFrame.\n",
      "Try using .loc[row_indexer,col_indexer] = value instead\n",
      "\n",
      "See the caveats in the documentation: https://pandas.pydata.org/pandas-docs/stable/user_guide/indexing.html#returning-a-view-versus-a-copy\n",
      "\n"
     ]
    }
   ],
   "source": [
    "df[\"cleaned_statement\"] = df[\"cleaned_statement\"].str.lower()"
   ]
  },
  {
   "cell_type": "code",
   "execution_count": 55,
   "metadata": {},
   "outputs": [
    {
     "data": {
      "text/html": [
       "<div>\n",
       "<style scoped>\n",
       "    .dataframe tbody tr th:only-of-type {\n",
       "        vertical-align: middle;\n",
       "    }\n",
       "\n",
       "    .dataframe tbody tr th {\n",
       "        vertical-align: top;\n",
       "    }\n",
       "\n",
       "    .dataframe thead th {\n",
       "        text-align: right;\n",
       "    }\n",
       "</style>\n",
       "<table border=\"1\" class=\"dataframe\">\n",
       "  <thead>\n",
       "    <tr style=\"text-align: right;\">\n",
       "      <th></th>\n",
       "      <th>statement</th>\n",
       "      <th>status</th>\n",
       "      <th>num_words</th>\n",
       "      <th>num_sentences</th>\n",
       "      <th>cleaned_statement</th>\n",
       "      <th>limited_statement</th>\n",
       "    </tr>\n",
       "  </thead>\n",
       "  <tbody>\n",
       "    <tr>\n",
       "      <th>0</th>\n",
       "      <td>oh my gosh</td>\n",
       "      <td>Anxiety</td>\n",
       "      <td>3</td>\n",
       "      <td>1</td>\n",
       "      <td>oh my gosh</td>\n",
       "      <td>oh my gosh</td>\n",
       "    </tr>\n",
       "    <tr>\n",
       "      <th>1</th>\n",
       "      <td>trouble sleeping, confused mind, restless hear...</td>\n",
       "      <td>Anxiety</td>\n",
       "      <td>13</td>\n",
       "      <td>2</td>\n",
       "      <td>trouble sleeping confused mind restless heart ...</td>\n",
       "      <td>trouble sleeping confused mind restless heart ...</td>\n",
       "    </tr>\n",
       "    <tr>\n",
       "      <th>2</th>\n",
       "      <td>All wrong, back off dear, forward doubt. Stay ...</td>\n",
       "      <td>Anxiety</td>\n",
       "      <td>17</td>\n",
       "      <td>2</td>\n",
       "      <td>all wrong back off dear forward doubt stay in ...</td>\n",
       "      <td>All wrong back off dear forward doubt Stay in ...</td>\n",
       "    </tr>\n",
       "    <tr>\n",
       "      <th>3</th>\n",
       "      <td>I've shifted my focus to something else but I'...</td>\n",
       "      <td>Anxiety</td>\n",
       "      <td>13</td>\n",
       "      <td>1</td>\n",
       "      <td>ive shifted my focus to something else but im ...</td>\n",
       "      <td>Ive shifted my focus to something else but Im ...</td>\n",
       "    </tr>\n",
       "    <tr>\n",
       "      <th>4</th>\n",
       "      <td>I'm restless and restless, it's been a month n...</td>\n",
       "      <td>Anxiety</td>\n",
       "      <td>20</td>\n",
       "      <td>2</td>\n",
       "      <td>im restless and restless its been a month now ...</td>\n",
       "      <td>Im restless and restless its been a month now ...</td>\n",
       "    </tr>\n",
       "    <tr>\n",
       "      <th>...</th>\n",
       "      <td>...</td>\n",
       "      <td>...</td>\n",
       "      <td>...</td>\n",
       "      <td>...</td>\n",
       "      <td>...</td>\n",
       "      <td>...</td>\n",
       "    </tr>\n",
       "    <tr>\n",
       "      <th>53038</th>\n",
       "      <td>Nobody takes me seriously I’ve (24M) dealt wit...</td>\n",
       "      <td>Anxiety</td>\n",
       "      <td>385</td>\n",
       "      <td>16</td>\n",
       "      <td>nobody takes me seriously ive  dealt with depr...</td>\n",
       "      <td>Nobody takes me seriously Ive dealt with depre...</td>\n",
       "    </tr>\n",
       "    <tr>\n",
       "      <th>53039</th>\n",
       "      <td>selfishness  \"I don't feel very good, it's lik...</td>\n",
       "      <td>Anxiety</td>\n",
       "      <td>251</td>\n",
       "      <td>12</td>\n",
       "      <td>selfishness  i dont feel very good its like i ...</td>\n",
       "      <td>selfishness I dont feel very good its like I d...</td>\n",
       "    </tr>\n",
       "    <tr>\n",
       "      <th>53040</th>\n",
       "      <td>Is there any way to sleep better? I can't slee...</td>\n",
       "      <td>Anxiety</td>\n",
       "      <td>22</td>\n",
       "      <td>2</td>\n",
       "      <td>is there any way to sleep better i cant sleep ...</td>\n",
       "      <td>Is there any way to sleep better I cant sleep ...</td>\n",
       "    </tr>\n",
       "    <tr>\n",
       "      <th>53041</th>\n",
       "      <td>Public speaking tips? Hi, all. I have to give ...</td>\n",
       "      <td>Anxiety</td>\n",
       "      <td>94</td>\n",
       "      <td>6</td>\n",
       "      <td>public speaking tips hi all i have to give a p...</td>\n",
       "      <td>Public speaking tips Hi all I have to give a p...</td>\n",
       "    </tr>\n",
       "    <tr>\n",
       "      <th>53042</th>\n",
       "      <td>I have really bad door anxiety! It's not about...</td>\n",
       "      <td>Anxiety</td>\n",
       "      <td>90</td>\n",
       "      <td>3</td>\n",
       "      <td>i have really bad door anxiety its not about b...</td>\n",
       "      <td>I have really bad door anxiety Its not about b...</td>\n",
       "    </tr>\n",
       "  </tbody>\n",
       "</table>\n",
       "<p>52681 rows × 6 columns</p>\n",
       "</div>"
      ],
      "text/plain": [
       "                                               statement   status  num_words  \\\n",
       "0                                             oh my gosh  Anxiety          3   \n",
       "1      trouble sleeping, confused mind, restless hear...  Anxiety         13   \n",
       "2      All wrong, back off dear, forward doubt. Stay ...  Anxiety         17   \n",
       "3      I've shifted my focus to something else but I'...  Anxiety         13   \n",
       "4      I'm restless and restless, it's been a month n...  Anxiety         20   \n",
       "...                                                  ...      ...        ...   \n",
       "53038  Nobody takes me seriously I’ve (24M) dealt wit...  Anxiety        385   \n",
       "53039  selfishness  \"I don't feel very good, it's lik...  Anxiety        251   \n",
       "53040  Is there any way to sleep better? I can't slee...  Anxiety         22   \n",
       "53041  Public speaking tips? Hi, all. I have to give ...  Anxiety         94   \n",
       "53042  I have really bad door anxiety! It's not about...  Anxiety         90   \n",
       "\n",
       "       num_sentences                                  cleaned_statement  \\\n",
       "0                  1                                         oh my gosh   \n",
       "1                  2  trouble sleeping confused mind restless heart ...   \n",
       "2                  2  all wrong back off dear forward doubt stay in ...   \n",
       "3                  1  ive shifted my focus to something else but im ...   \n",
       "4                  2  im restless and restless its been a month now ...   \n",
       "...              ...                                                ...   \n",
       "53038             16  nobody takes me seriously ive  dealt with depr...   \n",
       "53039             12  selfishness  i dont feel very good its like i ...   \n",
       "53040              2  is there any way to sleep better i cant sleep ...   \n",
       "53041              6  public speaking tips hi all i have to give a p...   \n",
       "53042              3  i have really bad door anxiety its not about b...   \n",
       "\n",
       "                                       limited_statement  \n",
       "0                                             oh my gosh  \n",
       "1      trouble sleeping confused mind restless heart ...  \n",
       "2      All wrong back off dear forward doubt Stay in ...  \n",
       "3      Ive shifted my focus to something else but Im ...  \n",
       "4      Im restless and restless its been a month now ...  \n",
       "...                                                  ...  \n",
       "53038  Nobody takes me seriously Ive dealt with depre...  \n",
       "53039  selfishness I dont feel very good its like I d...  \n",
       "53040  Is there any way to sleep better I cant sleep ...  \n",
       "53041  Public speaking tips Hi all I have to give a p...  \n",
       "53042  I have really bad door anxiety Its not about b...  \n",
       "\n",
       "[52681 rows x 6 columns]"
      ]
     },
     "execution_count": 55,
     "metadata": {},
     "output_type": "execute_result"
    }
   ],
   "source": [
    "df"
   ]
  },
  {
   "cell_type": "code",
   "execution_count": 56,
   "metadata": {},
   "outputs": [
    {
     "name": "stderr",
     "output_type": "stream",
     "text": [
      "/var/folders/xz/l46mlrsn47s9vsqd6zyhp5680000gn/T/ipykernel_7418/2905632801.py:1: SettingWithCopyWarning:\n",
      "\n",
      "\n",
      "A value is trying to be set on a copy of a slice from a DataFrame.\n",
      "Try using .loc[row_indexer,col_indexer] = value instead\n",
      "\n",
      "See the caveats in the documentation: https://pandas.pydata.org/pandas-docs/stable/user_guide/indexing.html#returning-a-view-versus-a-copy\n",
      "\n"
     ]
    }
   ],
   "source": [
    "df[\"tokens\"] = df[\"cleaned_statement\"].apply(lambda x: word_tokenize(x) if isinstance(x, str) else [])"
   ]
  },
  {
   "cell_type": "code",
   "execution_count": 57,
   "metadata": {},
   "outputs": [
    {
     "data": {
      "text/html": [
       "<div>\n",
       "<style scoped>\n",
       "    .dataframe tbody tr th:only-of-type {\n",
       "        vertical-align: middle;\n",
       "    }\n",
       "\n",
       "    .dataframe tbody tr th {\n",
       "        vertical-align: top;\n",
       "    }\n",
       "\n",
       "    .dataframe thead th {\n",
       "        text-align: right;\n",
       "    }\n",
       "</style>\n",
       "<table border=\"1\" class=\"dataframe\">\n",
       "  <thead>\n",
       "    <tr style=\"text-align: right;\">\n",
       "      <th></th>\n",
       "      <th>statement</th>\n",
       "      <th>status</th>\n",
       "      <th>num_words</th>\n",
       "      <th>num_sentences</th>\n",
       "      <th>cleaned_statement</th>\n",
       "      <th>limited_statement</th>\n",
       "      <th>tokens</th>\n",
       "    </tr>\n",
       "  </thead>\n",
       "  <tbody>\n",
       "    <tr>\n",
       "      <th>0</th>\n",
       "      <td>oh my gosh</td>\n",
       "      <td>Anxiety</td>\n",
       "      <td>3</td>\n",
       "      <td>1</td>\n",
       "      <td>oh my gosh</td>\n",
       "      <td>oh my gosh</td>\n",
       "      <td>[oh, my, gosh]</td>\n",
       "    </tr>\n",
       "    <tr>\n",
       "      <th>1</th>\n",
       "      <td>trouble sleeping, confused mind, restless hear...</td>\n",
       "      <td>Anxiety</td>\n",
       "      <td>13</td>\n",
       "      <td>2</td>\n",
       "      <td>trouble sleeping confused mind restless heart ...</td>\n",
       "      <td>trouble sleeping confused mind restless heart ...</td>\n",
       "      <td>[trouble, sleeping, confused, mind, restless, ...</td>\n",
       "    </tr>\n",
       "    <tr>\n",
       "      <th>2</th>\n",
       "      <td>All wrong, back off dear, forward doubt. Stay ...</td>\n",
       "      <td>Anxiety</td>\n",
       "      <td>17</td>\n",
       "      <td>2</td>\n",
       "      <td>all wrong back off dear forward doubt stay in ...</td>\n",
       "      <td>All wrong back off dear forward doubt Stay in ...</td>\n",
       "      <td>[all, wrong, back, off, dear, forward, doubt, ...</td>\n",
       "    </tr>\n",
       "    <tr>\n",
       "      <th>3</th>\n",
       "      <td>I've shifted my focus to something else but I'...</td>\n",
       "      <td>Anxiety</td>\n",
       "      <td>13</td>\n",
       "      <td>1</td>\n",
       "      <td>ive shifted my focus to something else but im ...</td>\n",
       "      <td>Ive shifted my focus to something else but Im ...</td>\n",
       "      <td>[ive, shifted, my, focus, to, something, else,...</td>\n",
       "    </tr>\n",
       "    <tr>\n",
       "      <th>4</th>\n",
       "      <td>I'm restless and restless, it's been a month n...</td>\n",
       "      <td>Anxiety</td>\n",
       "      <td>20</td>\n",
       "      <td>2</td>\n",
       "      <td>im restless and restless its been a month now ...</td>\n",
       "      <td>Im restless and restless its been a month now ...</td>\n",
       "      <td>[im, restless, and, restless, its, been, a, mo...</td>\n",
       "    </tr>\n",
       "    <tr>\n",
       "      <th>...</th>\n",
       "      <td>...</td>\n",
       "      <td>...</td>\n",
       "      <td>...</td>\n",
       "      <td>...</td>\n",
       "      <td>...</td>\n",
       "      <td>...</td>\n",
       "      <td>...</td>\n",
       "    </tr>\n",
       "    <tr>\n",
       "      <th>53038</th>\n",
       "      <td>Nobody takes me seriously I’ve (24M) dealt wit...</td>\n",
       "      <td>Anxiety</td>\n",
       "      <td>385</td>\n",
       "      <td>16</td>\n",
       "      <td>nobody takes me seriously ive  dealt with depr...</td>\n",
       "      <td>Nobody takes me seriously Ive dealt with depre...</td>\n",
       "      <td>[nobody, takes, me, seriously, ive, dealt, wit...</td>\n",
       "    </tr>\n",
       "    <tr>\n",
       "      <th>53039</th>\n",
       "      <td>selfishness  \"I don't feel very good, it's lik...</td>\n",
       "      <td>Anxiety</td>\n",
       "      <td>251</td>\n",
       "      <td>12</td>\n",
       "      <td>selfishness  i dont feel very good its like i ...</td>\n",
       "      <td>selfishness I dont feel very good its like I d...</td>\n",
       "      <td>[selfishness, i, dont, feel, very, good, its, ...</td>\n",
       "    </tr>\n",
       "    <tr>\n",
       "      <th>53040</th>\n",
       "      <td>Is there any way to sleep better? I can't slee...</td>\n",
       "      <td>Anxiety</td>\n",
       "      <td>22</td>\n",
       "      <td>2</td>\n",
       "      <td>is there any way to sleep better i cant sleep ...</td>\n",
       "      <td>Is there any way to sleep better I cant sleep ...</td>\n",
       "      <td>[is, there, any, way, to, sleep, better, i, ca...</td>\n",
       "    </tr>\n",
       "    <tr>\n",
       "      <th>53041</th>\n",
       "      <td>Public speaking tips? Hi, all. I have to give ...</td>\n",
       "      <td>Anxiety</td>\n",
       "      <td>94</td>\n",
       "      <td>6</td>\n",
       "      <td>public speaking tips hi all i have to give a p...</td>\n",
       "      <td>Public speaking tips Hi all I have to give a p...</td>\n",
       "      <td>[public, speaking, tips, hi, all, i, have, to,...</td>\n",
       "    </tr>\n",
       "    <tr>\n",
       "      <th>53042</th>\n",
       "      <td>I have really bad door anxiety! It's not about...</td>\n",
       "      <td>Anxiety</td>\n",
       "      <td>90</td>\n",
       "      <td>3</td>\n",
       "      <td>i have really bad door anxiety its not about b...</td>\n",
       "      <td>I have really bad door anxiety Its not about b...</td>\n",
       "      <td>[i, have, really, bad, door, anxiety, its, not...</td>\n",
       "    </tr>\n",
       "  </tbody>\n",
       "</table>\n",
       "<p>52681 rows × 7 columns</p>\n",
       "</div>"
      ],
      "text/plain": [
       "                                               statement   status  num_words  \\\n",
       "0                                             oh my gosh  Anxiety          3   \n",
       "1      trouble sleeping, confused mind, restless hear...  Anxiety         13   \n",
       "2      All wrong, back off dear, forward doubt. Stay ...  Anxiety         17   \n",
       "3      I've shifted my focus to something else but I'...  Anxiety         13   \n",
       "4      I'm restless and restless, it's been a month n...  Anxiety         20   \n",
       "...                                                  ...      ...        ...   \n",
       "53038  Nobody takes me seriously I’ve (24M) dealt wit...  Anxiety        385   \n",
       "53039  selfishness  \"I don't feel very good, it's lik...  Anxiety        251   \n",
       "53040  Is there any way to sleep better? I can't slee...  Anxiety         22   \n",
       "53041  Public speaking tips? Hi, all. I have to give ...  Anxiety         94   \n",
       "53042  I have really bad door anxiety! It's not about...  Anxiety         90   \n",
       "\n",
       "       num_sentences                                  cleaned_statement  \\\n",
       "0                  1                                         oh my gosh   \n",
       "1                  2  trouble sleeping confused mind restless heart ...   \n",
       "2                  2  all wrong back off dear forward doubt stay in ...   \n",
       "3                  1  ive shifted my focus to something else but im ...   \n",
       "4                  2  im restless and restless its been a month now ...   \n",
       "...              ...                                                ...   \n",
       "53038             16  nobody takes me seriously ive  dealt with depr...   \n",
       "53039             12  selfishness  i dont feel very good its like i ...   \n",
       "53040              2  is there any way to sleep better i cant sleep ...   \n",
       "53041              6  public speaking tips hi all i have to give a p...   \n",
       "53042              3  i have really bad door anxiety its not about b...   \n",
       "\n",
       "                                       limited_statement  \\\n",
       "0                                             oh my gosh   \n",
       "1      trouble sleeping confused mind restless heart ...   \n",
       "2      All wrong back off dear forward doubt Stay in ...   \n",
       "3      Ive shifted my focus to something else but Im ...   \n",
       "4      Im restless and restless its been a month now ...   \n",
       "...                                                  ...   \n",
       "53038  Nobody takes me seriously Ive dealt with depre...   \n",
       "53039  selfishness I dont feel very good its like I d...   \n",
       "53040  Is there any way to sleep better I cant sleep ...   \n",
       "53041  Public speaking tips Hi all I have to give a p...   \n",
       "53042  I have really bad door anxiety Its not about b...   \n",
       "\n",
       "                                                  tokens  \n",
       "0                                         [oh, my, gosh]  \n",
       "1      [trouble, sleeping, confused, mind, restless, ...  \n",
       "2      [all, wrong, back, off, dear, forward, doubt, ...  \n",
       "3      [ive, shifted, my, focus, to, something, else,...  \n",
       "4      [im, restless, and, restless, its, been, a, mo...  \n",
       "...                                                  ...  \n",
       "53038  [nobody, takes, me, seriously, ive, dealt, wit...  \n",
       "53039  [selfishness, i, dont, feel, very, good, its, ...  \n",
       "53040  [is, there, any, way, to, sleep, better, i, ca...  \n",
       "53041  [public, speaking, tips, hi, all, i, have, to,...  \n",
       "53042  [i, have, really, bad, door, anxiety, its, not...  \n",
       "\n",
       "[52681 rows x 7 columns]"
      ]
     },
     "execution_count": 57,
     "metadata": {},
     "output_type": "execute_result"
    }
   ],
   "source": [
    "df"
   ]
  },
  {
   "cell_type": "code",
   "execution_count": 58,
   "metadata": {},
   "outputs": [
    {
     "data": {
      "text/plain": [
       "statement            0\n",
       "status               0\n",
       "num_words            0\n",
       "num_sentences        0\n",
       "cleaned_statement    0\n",
       "limited_statement    0\n",
       "tokens               0\n",
       "dtype: int64"
      ]
     },
     "execution_count": 58,
     "metadata": {},
     "output_type": "execute_result"
    }
   ],
   "source": [
    "df.isna().sum()"
   ]
  },
  {
   "cell_type": "code",
   "execution_count": 59,
   "metadata": {},
   "outputs": [
    {
     "name": "stderr",
     "output_type": "stream",
     "text": [
      "/var/folders/xz/l46mlrsn47s9vsqd6zyhp5680000gn/T/ipykernel_7418/2039288846.py:8: SettingWithCopyWarning:\n",
      "\n",
      "\n",
      "A value is trying to be set on a copy of a slice from a DataFrame.\n",
      "Try using .loc[row_indexer,col_indexer] = value instead\n",
      "\n",
      "See the caveats in the documentation: https://pandas.pydata.org/pandas-docs/stable/user_guide/indexing.html#returning-a-view-versus-a-copy\n",
      "\n"
     ]
    },
    {
     "data": {
      "text/html": [
       "<div>\n",
       "<style scoped>\n",
       "    .dataframe tbody tr th:only-of-type {\n",
       "        vertical-align: middle;\n",
       "    }\n",
       "\n",
       "    .dataframe tbody tr th {\n",
       "        vertical-align: top;\n",
       "    }\n",
       "\n",
       "    .dataframe thead th {\n",
       "        text-align: right;\n",
       "    }\n",
       "</style>\n",
       "<table border=\"1\" class=\"dataframe\">\n",
       "  <thead>\n",
       "    <tr style=\"text-align: right;\">\n",
       "      <th></th>\n",
       "      <th>statement</th>\n",
       "      <th>status</th>\n",
       "      <th>num_words</th>\n",
       "      <th>num_sentences</th>\n",
       "      <th>cleaned_statement</th>\n",
       "      <th>limited_statement</th>\n",
       "      <th>tokens</th>\n",
       "      <th>tokens_stemmed</th>\n",
       "    </tr>\n",
       "  </thead>\n",
       "  <tbody>\n",
       "    <tr>\n",
       "      <th>0</th>\n",
       "      <td>oh my gosh</td>\n",
       "      <td>Anxiety</td>\n",
       "      <td>3</td>\n",
       "      <td>1</td>\n",
       "      <td>oh my gosh</td>\n",
       "      <td>oh my gosh</td>\n",
       "      <td>[oh, my, gosh]</td>\n",
       "      <td>oh my gosh</td>\n",
       "    </tr>\n",
       "    <tr>\n",
       "      <th>1</th>\n",
       "      <td>trouble sleeping, confused mind, restless hear...</td>\n",
       "      <td>Anxiety</td>\n",
       "      <td>13</td>\n",
       "      <td>2</td>\n",
       "      <td>trouble sleeping confused mind restless heart ...</td>\n",
       "      <td>trouble sleeping confused mind restless heart ...</td>\n",
       "      <td>[trouble, sleeping, confused, mind, restless, ...</td>\n",
       "      <td>troubl sleep confus mind restless heart all ou...</td>\n",
       "    </tr>\n",
       "    <tr>\n",
       "      <th>2</th>\n",
       "      <td>All wrong, back off dear, forward doubt. Stay ...</td>\n",
       "      <td>Anxiety</td>\n",
       "      <td>17</td>\n",
       "      <td>2</td>\n",
       "      <td>all wrong back off dear forward doubt stay in ...</td>\n",
       "      <td>All wrong back off dear forward doubt Stay in ...</td>\n",
       "      <td>[all, wrong, back, off, dear, forward, doubt, ...</td>\n",
       "      <td>all wrong back off dear forward doubt stay in ...</td>\n",
       "    </tr>\n",
       "    <tr>\n",
       "      <th>3</th>\n",
       "      <td>I've shifted my focus to something else but I'...</td>\n",
       "      <td>Anxiety</td>\n",
       "      <td>13</td>\n",
       "      <td>1</td>\n",
       "      <td>ive shifted my focus to something else but im ...</td>\n",
       "      <td>Ive shifted my focus to something else but Im ...</td>\n",
       "      <td>[ive, shifted, my, focus, to, something, else,...</td>\n",
       "      <td>ive shift my focu to someth els but im still w...</td>\n",
       "    </tr>\n",
       "    <tr>\n",
       "      <th>4</th>\n",
       "      <td>I'm restless and restless, it's been a month n...</td>\n",
       "      <td>Anxiety</td>\n",
       "      <td>20</td>\n",
       "      <td>2</td>\n",
       "      <td>im restless and restless its been a month now ...</td>\n",
       "      <td>Im restless and restless its been a month now ...</td>\n",
       "      <td>[im, restless, and, restless, its, been, a, mo...</td>\n",
       "      <td>im restless and restless it been a month now b...</td>\n",
       "    </tr>\n",
       "  </tbody>\n",
       "</table>\n",
       "</div>"
      ],
      "text/plain": [
       "                                           statement   status  num_words  \\\n",
       "0                                         oh my gosh  Anxiety          3   \n",
       "1  trouble sleeping, confused mind, restless hear...  Anxiety         13   \n",
       "2  All wrong, back off dear, forward doubt. Stay ...  Anxiety         17   \n",
       "3  I've shifted my focus to something else but I'...  Anxiety         13   \n",
       "4  I'm restless and restless, it's been a month n...  Anxiety         20   \n",
       "\n",
       "   num_sentences                                  cleaned_statement  \\\n",
       "0              1                                         oh my gosh   \n",
       "1              2  trouble sleeping confused mind restless heart ...   \n",
       "2              2  all wrong back off dear forward doubt stay in ...   \n",
       "3              1  ive shifted my focus to something else but im ...   \n",
       "4              2  im restless and restless its been a month now ...   \n",
       "\n",
       "                                   limited_statement  \\\n",
       "0                                         oh my gosh   \n",
       "1  trouble sleeping confused mind restless heart ...   \n",
       "2  All wrong back off dear forward doubt Stay in ...   \n",
       "3  Ive shifted my focus to something else but Im ...   \n",
       "4  Im restless and restless its been a month now ...   \n",
       "\n",
       "                                              tokens  \\\n",
       "0                                     [oh, my, gosh]   \n",
       "1  [trouble, sleeping, confused, mind, restless, ...   \n",
       "2  [all, wrong, back, off, dear, forward, doubt, ...   \n",
       "3  [ive, shifted, my, focus, to, something, else,...   \n",
       "4  [im, restless, and, restless, its, been, a, mo...   \n",
       "\n",
       "                                      tokens_stemmed  \n",
       "0                                         oh my gosh  \n",
       "1  troubl sleep confus mind restless heart all ou...  \n",
       "2  all wrong back off dear forward doubt stay in ...  \n",
       "3  ive shift my focu to someth els but im still w...  \n",
       "4  im restless and restless it been a month now b...  "
      ]
     },
     "execution_count": 59,
     "metadata": {},
     "output_type": "execute_result"
    }
   ],
   "source": [
    "\n",
    "from nltk.stem import PorterStemmer\n",
    "\n",
    "stemmer = PorterStemmer()\n",
    "\n",
    "def stemming(tokens):\n",
    "    return \" \".join(stemmer.stem(str(token)) for token in tokens)\n",
    "\n",
    "df[\"tokens_stemmed\"] = df[\"tokens\"].apply(stemming)\n",
    "df.head()"
   ]
  },
  {
   "cell_type": "code",
   "execution_count": 60,
   "metadata": {},
   "outputs": [
    {
     "name": "stderr",
     "output_type": "stream",
     "text": [
      "/var/folders/xz/l46mlrsn47s9vsqd6zyhp5680000gn/T/ipykernel_7418/655068815.py:7: SettingWithCopyWarning:\n",
      "\n",
      "\n",
      "A value is trying to be set on a copy of a slice from a DataFrame.\n",
      "Try using .loc[row_indexer,col_indexer] = value instead\n",
      "\n",
      "See the caveats in the documentation: https://pandas.pydata.org/pandas-docs/stable/user_guide/indexing.html#returning-a-view-versus-a-copy\n",
      "\n"
     ]
    }
   ],
   "source": [
    "from nltk.corpus import stopwords\n",
    "stop_words = set(stopwords.words('english'))\n",
    "\n",
    "def remove_stopwords(tokens):\n",
    "    return [token for token in tokens if token.lower() not in stop_words]\n",
    "\n",
    "df[\"tokens_stemmed\"] = df[\"tokens\"].apply(remove_stopwords)"
   ]
  },
  {
   "cell_type": "code",
   "execution_count": 61,
   "metadata": {},
   "outputs": [
    {
     "data": {
      "text/html": [
       "<div>\n",
       "<style scoped>\n",
       "    .dataframe tbody tr th:only-of-type {\n",
       "        vertical-align: middle;\n",
       "    }\n",
       "\n",
       "    .dataframe tbody tr th {\n",
       "        vertical-align: top;\n",
       "    }\n",
       "\n",
       "    .dataframe thead th {\n",
       "        text-align: right;\n",
       "    }\n",
       "</style>\n",
       "<table border=\"1\" class=\"dataframe\">\n",
       "  <thead>\n",
       "    <tr style=\"text-align: right;\">\n",
       "      <th></th>\n",
       "      <th>statement</th>\n",
       "      <th>status</th>\n",
       "      <th>num_words</th>\n",
       "      <th>num_sentences</th>\n",
       "      <th>cleaned_statement</th>\n",
       "      <th>limited_statement</th>\n",
       "      <th>tokens</th>\n",
       "      <th>tokens_stemmed</th>\n",
       "    </tr>\n",
       "  </thead>\n",
       "  <tbody>\n",
       "    <tr>\n",
       "      <th>0</th>\n",
       "      <td>oh my gosh</td>\n",
       "      <td>Anxiety</td>\n",
       "      <td>3</td>\n",
       "      <td>1</td>\n",
       "      <td>oh my gosh</td>\n",
       "      <td>oh my gosh</td>\n",
       "      <td>[oh, my, gosh]</td>\n",
       "      <td>[oh, gosh]</td>\n",
       "    </tr>\n",
       "    <tr>\n",
       "      <th>1</th>\n",
       "      <td>trouble sleeping, confused mind, restless hear...</td>\n",
       "      <td>Anxiety</td>\n",
       "      <td>13</td>\n",
       "      <td>2</td>\n",
       "      <td>trouble sleeping confused mind restless heart ...</td>\n",
       "      <td>trouble sleeping confused mind restless heart ...</td>\n",
       "      <td>[trouble, sleeping, confused, mind, restless, ...</td>\n",
       "      <td>[trouble, sleeping, confused, mind, restless, ...</td>\n",
       "    </tr>\n",
       "    <tr>\n",
       "      <th>2</th>\n",
       "      <td>All wrong, back off dear, forward doubt. Stay ...</td>\n",
       "      <td>Anxiety</td>\n",
       "      <td>17</td>\n",
       "      <td>2</td>\n",
       "      <td>all wrong back off dear forward doubt stay in ...</td>\n",
       "      <td>All wrong back off dear forward doubt Stay in ...</td>\n",
       "      <td>[all, wrong, back, off, dear, forward, doubt, ...</td>\n",
       "      <td>[wrong, back, dear, forward, doubt, stay, rest...</td>\n",
       "    </tr>\n",
       "    <tr>\n",
       "      <th>3</th>\n",
       "      <td>I've shifted my focus to something else but I'...</td>\n",
       "      <td>Anxiety</td>\n",
       "      <td>13</td>\n",
       "      <td>1</td>\n",
       "      <td>ive shifted my focus to something else but im ...</td>\n",
       "      <td>Ive shifted my focus to something else but Im ...</td>\n",
       "      <td>[ive, shifted, my, focus, to, something, else,...</td>\n",
       "      <td>[ive, shifted, focus, something, else, im, sti...</td>\n",
       "    </tr>\n",
       "    <tr>\n",
       "      <th>4</th>\n",
       "      <td>I'm restless and restless, it's been a month n...</td>\n",
       "      <td>Anxiety</td>\n",
       "      <td>20</td>\n",
       "      <td>2</td>\n",
       "      <td>im restless and restless its been a month now ...</td>\n",
       "      <td>Im restless and restless its been a month now ...</td>\n",
       "      <td>[im, restless, and, restless, its, been, a, mo...</td>\n",
       "      <td>[im, restless, restless, month, boy, mean]</td>\n",
       "    </tr>\n",
       "    <tr>\n",
       "      <th>...</th>\n",
       "      <td>...</td>\n",
       "      <td>...</td>\n",
       "      <td>...</td>\n",
       "      <td>...</td>\n",
       "      <td>...</td>\n",
       "      <td>...</td>\n",
       "      <td>...</td>\n",
       "      <td>...</td>\n",
       "    </tr>\n",
       "    <tr>\n",
       "      <th>53038</th>\n",
       "      <td>Nobody takes me seriously I’ve (24M) dealt wit...</td>\n",
       "      <td>Anxiety</td>\n",
       "      <td>385</td>\n",
       "      <td>16</td>\n",
       "      <td>nobody takes me seriously ive  dealt with depr...</td>\n",
       "      <td>Nobody takes me seriously Ive dealt with depre...</td>\n",
       "      <td>[nobody, takes, me, seriously, ive, dealt, wit...</td>\n",
       "      <td>[nobody, takes, seriously, ive, dealt, depress...</td>\n",
       "    </tr>\n",
       "    <tr>\n",
       "      <th>53039</th>\n",
       "      <td>selfishness  \"I don't feel very good, it's lik...</td>\n",
       "      <td>Anxiety</td>\n",
       "      <td>251</td>\n",
       "      <td>12</td>\n",
       "      <td>selfishness  i dont feel very good its like i ...</td>\n",
       "      <td>selfishness I dont feel very good its like I d...</td>\n",
       "      <td>[selfishness, i, dont, feel, very, good, its, ...</td>\n",
       "      <td>[selfishness, dont, feel, good, like, dont, be...</td>\n",
       "    </tr>\n",
       "    <tr>\n",
       "      <th>53040</th>\n",
       "      <td>Is there any way to sleep better? I can't slee...</td>\n",
       "      <td>Anxiety</td>\n",
       "      <td>22</td>\n",
       "      <td>2</td>\n",
       "      <td>is there any way to sleep better i cant sleep ...</td>\n",
       "      <td>Is there any way to sleep better I cant sleep ...</td>\n",
       "      <td>[is, there, any, way, to, sleep, better, i, ca...</td>\n",
       "      <td>[way, sleep, better, cant, sleep, nights, meds...</td>\n",
       "    </tr>\n",
       "    <tr>\n",
       "      <th>53041</th>\n",
       "      <td>Public speaking tips? Hi, all. I have to give ...</td>\n",
       "      <td>Anxiety</td>\n",
       "      <td>94</td>\n",
       "      <td>6</td>\n",
       "      <td>public speaking tips hi all i have to give a p...</td>\n",
       "      <td>Public speaking tips Hi all I have to give a p...</td>\n",
       "      <td>[public, speaking, tips, hi, all, i, have, to,...</td>\n",
       "      <td>[public, speaking, tips, hi, give, presentatio...</td>\n",
       "    </tr>\n",
       "    <tr>\n",
       "      <th>53042</th>\n",
       "      <td>I have really bad door anxiety! It's not about...</td>\n",
       "      <td>Anxiety</td>\n",
       "      <td>90</td>\n",
       "      <td>3</td>\n",
       "      <td>i have really bad door anxiety its not about b...</td>\n",
       "      <td>I have really bad door anxiety Its not about b...</td>\n",
       "      <td>[i, have, really, bad, door, anxiety, its, not...</td>\n",
       "      <td>[really, bad, door, anxiety, scared, didnt, lo...</td>\n",
       "    </tr>\n",
       "  </tbody>\n",
       "</table>\n",
       "<p>52681 rows × 8 columns</p>\n",
       "</div>"
      ],
      "text/plain": [
       "                                               statement   status  num_words  \\\n",
       "0                                             oh my gosh  Anxiety          3   \n",
       "1      trouble sleeping, confused mind, restless hear...  Anxiety         13   \n",
       "2      All wrong, back off dear, forward doubt. Stay ...  Anxiety         17   \n",
       "3      I've shifted my focus to something else but I'...  Anxiety         13   \n",
       "4      I'm restless and restless, it's been a month n...  Anxiety         20   \n",
       "...                                                  ...      ...        ...   \n",
       "53038  Nobody takes me seriously I’ve (24M) dealt wit...  Anxiety        385   \n",
       "53039  selfishness  \"I don't feel very good, it's lik...  Anxiety        251   \n",
       "53040  Is there any way to sleep better? I can't slee...  Anxiety         22   \n",
       "53041  Public speaking tips? Hi, all. I have to give ...  Anxiety         94   \n",
       "53042  I have really bad door anxiety! It's not about...  Anxiety         90   \n",
       "\n",
       "       num_sentences                                  cleaned_statement  \\\n",
       "0                  1                                         oh my gosh   \n",
       "1                  2  trouble sleeping confused mind restless heart ...   \n",
       "2                  2  all wrong back off dear forward doubt stay in ...   \n",
       "3                  1  ive shifted my focus to something else but im ...   \n",
       "4                  2  im restless and restless its been a month now ...   \n",
       "...              ...                                                ...   \n",
       "53038             16  nobody takes me seriously ive  dealt with depr...   \n",
       "53039             12  selfishness  i dont feel very good its like i ...   \n",
       "53040              2  is there any way to sleep better i cant sleep ...   \n",
       "53041              6  public speaking tips hi all i have to give a p...   \n",
       "53042              3  i have really bad door anxiety its not about b...   \n",
       "\n",
       "                                       limited_statement  \\\n",
       "0                                             oh my gosh   \n",
       "1      trouble sleeping confused mind restless heart ...   \n",
       "2      All wrong back off dear forward doubt Stay in ...   \n",
       "3      Ive shifted my focus to something else but Im ...   \n",
       "4      Im restless and restless its been a month now ...   \n",
       "...                                                  ...   \n",
       "53038  Nobody takes me seriously Ive dealt with depre...   \n",
       "53039  selfishness I dont feel very good its like I d...   \n",
       "53040  Is there any way to sleep better I cant sleep ...   \n",
       "53041  Public speaking tips Hi all I have to give a p...   \n",
       "53042  I have really bad door anxiety Its not about b...   \n",
       "\n",
       "                                                  tokens  \\\n",
       "0                                         [oh, my, gosh]   \n",
       "1      [trouble, sleeping, confused, mind, restless, ...   \n",
       "2      [all, wrong, back, off, dear, forward, doubt, ...   \n",
       "3      [ive, shifted, my, focus, to, something, else,...   \n",
       "4      [im, restless, and, restless, its, been, a, mo...   \n",
       "...                                                  ...   \n",
       "53038  [nobody, takes, me, seriously, ive, dealt, wit...   \n",
       "53039  [selfishness, i, dont, feel, very, good, its, ...   \n",
       "53040  [is, there, any, way, to, sleep, better, i, ca...   \n",
       "53041  [public, speaking, tips, hi, all, i, have, to,...   \n",
       "53042  [i, have, really, bad, door, anxiety, its, not...   \n",
       "\n",
       "                                          tokens_stemmed  \n",
       "0                                             [oh, gosh]  \n",
       "1      [trouble, sleeping, confused, mind, restless, ...  \n",
       "2      [wrong, back, dear, forward, doubt, stay, rest...  \n",
       "3      [ive, shifted, focus, something, else, im, sti...  \n",
       "4             [im, restless, restless, month, boy, mean]  \n",
       "...                                                  ...  \n",
       "53038  [nobody, takes, seriously, ive, dealt, depress...  \n",
       "53039  [selfishness, dont, feel, good, like, dont, be...  \n",
       "53040  [way, sleep, better, cant, sleep, nights, meds...  \n",
       "53041  [public, speaking, tips, hi, give, presentatio...  \n",
       "53042  [really, bad, door, anxiety, scared, didnt, lo...  \n",
       "\n",
       "[52681 rows x 8 columns]"
      ]
     },
     "execution_count": 61,
     "metadata": {},
     "output_type": "execute_result"
    }
   ],
   "source": [
    "df"
   ]
  },
  {
   "cell_type": "code",
   "execution_count": 62,
   "metadata": {},
   "outputs": [
    {
     "name": "stderr",
     "output_type": "stream",
     "text": [
      "/var/folders/xz/l46mlrsn47s9vsqd6zyhp5680000gn/T/ipykernel_7418/233414954.py:1: SettingWithCopyWarning:\n",
      "\n",
      "\n",
      "A value is trying to be set on a copy of a slice from a DataFrame.\n",
      "Try using .loc[row_indexer,col_indexer] = value instead\n",
      "\n",
      "See the caveats in the documentation: https://pandas.pydata.org/pandas-docs/stable/user_guide/indexing.html#returning-a-view-versus-a-copy\n",
      "\n"
     ]
    }
   ],
   "source": [
    "df['tokens_stemmed'] = [' '.join(tokens) for tokens in df['tokens_stemmed']]"
   ]
  },
  {
   "cell_type": "code",
   "execution_count": 63,
   "metadata": {},
   "outputs": [
    {
     "data": {
      "text/html": [
       "<div>\n",
       "<style scoped>\n",
       "    .dataframe tbody tr th:only-of-type {\n",
       "        vertical-align: middle;\n",
       "    }\n",
       "\n",
       "    .dataframe tbody tr th {\n",
       "        vertical-align: top;\n",
       "    }\n",
       "\n",
       "    .dataframe thead th {\n",
       "        text-align: right;\n",
       "    }\n",
       "</style>\n",
       "<table border=\"1\" class=\"dataframe\">\n",
       "  <thead>\n",
       "    <tr style=\"text-align: right;\">\n",
       "      <th></th>\n",
       "      <th>statement</th>\n",
       "      <th>status</th>\n",
       "      <th>num_words</th>\n",
       "      <th>num_sentences</th>\n",
       "      <th>cleaned_statement</th>\n",
       "      <th>limited_statement</th>\n",
       "      <th>tokens</th>\n",
       "      <th>tokens_stemmed</th>\n",
       "    </tr>\n",
       "  </thead>\n",
       "  <tbody>\n",
       "    <tr>\n",
       "      <th>0</th>\n",
       "      <td>oh my gosh</td>\n",
       "      <td>Anxiety</td>\n",
       "      <td>3</td>\n",
       "      <td>1</td>\n",
       "      <td>oh my gosh</td>\n",
       "      <td>oh my gosh</td>\n",
       "      <td>[oh, my, gosh]</td>\n",
       "      <td>oh gosh</td>\n",
       "    </tr>\n",
       "    <tr>\n",
       "      <th>1</th>\n",
       "      <td>trouble sleeping, confused mind, restless hear...</td>\n",
       "      <td>Anxiety</td>\n",
       "      <td>13</td>\n",
       "      <td>2</td>\n",
       "      <td>trouble sleeping confused mind restless heart ...</td>\n",
       "      <td>trouble sleeping confused mind restless heart ...</td>\n",
       "      <td>[trouble, sleeping, confused, mind, restless, ...</td>\n",
       "      <td>trouble sleeping confused mind restless heart ...</td>\n",
       "    </tr>\n",
       "    <tr>\n",
       "      <th>2</th>\n",
       "      <td>All wrong, back off dear, forward doubt. Stay ...</td>\n",
       "      <td>Anxiety</td>\n",
       "      <td>17</td>\n",
       "      <td>2</td>\n",
       "      <td>all wrong back off dear forward doubt stay in ...</td>\n",
       "      <td>All wrong back off dear forward doubt Stay in ...</td>\n",
       "      <td>[all, wrong, back, off, dear, forward, doubt, ...</td>\n",
       "      <td>wrong back dear forward doubt stay restless re...</td>\n",
       "    </tr>\n",
       "    <tr>\n",
       "      <th>3</th>\n",
       "      <td>I've shifted my focus to something else but I'...</td>\n",
       "      <td>Anxiety</td>\n",
       "      <td>13</td>\n",
       "      <td>1</td>\n",
       "      <td>ive shifted my focus to something else but im ...</td>\n",
       "      <td>Ive shifted my focus to something else but Im ...</td>\n",
       "      <td>[ive, shifted, my, focus, to, something, else,...</td>\n",
       "      <td>ive shifted focus something else im still worried</td>\n",
       "    </tr>\n",
       "    <tr>\n",
       "      <th>4</th>\n",
       "      <td>I'm restless and restless, it's been a month n...</td>\n",
       "      <td>Anxiety</td>\n",
       "      <td>20</td>\n",
       "      <td>2</td>\n",
       "      <td>im restless and restless its been a month now ...</td>\n",
       "      <td>Im restless and restless its been a month now ...</td>\n",
       "      <td>[im, restless, and, restless, its, been, a, mo...</td>\n",
       "      <td>im restless restless month boy mean</td>\n",
       "    </tr>\n",
       "    <tr>\n",
       "      <th>...</th>\n",
       "      <td>...</td>\n",
       "      <td>...</td>\n",
       "      <td>...</td>\n",
       "      <td>...</td>\n",
       "      <td>...</td>\n",
       "      <td>...</td>\n",
       "      <td>...</td>\n",
       "      <td>...</td>\n",
       "    </tr>\n",
       "    <tr>\n",
       "      <th>53038</th>\n",
       "      <td>Nobody takes me seriously I’ve (24M) dealt wit...</td>\n",
       "      <td>Anxiety</td>\n",
       "      <td>385</td>\n",
       "      <td>16</td>\n",
       "      <td>nobody takes me seriously ive  dealt with depr...</td>\n",
       "      <td>Nobody takes me seriously Ive dealt with depre...</td>\n",
       "      <td>[nobody, takes, me, seriously, ive, dealt, wit...</td>\n",
       "      <td>nobody takes seriously ive dealt depressionanx...</td>\n",
       "    </tr>\n",
       "    <tr>\n",
       "      <th>53039</th>\n",
       "      <td>selfishness  \"I don't feel very good, it's lik...</td>\n",
       "      <td>Anxiety</td>\n",
       "      <td>251</td>\n",
       "      <td>12</td>\n",
       "      <td>selfishness  i dont feel very good its like i ...</td>\n",
       "      <td>selfishness I dont feel very good its like I d...</td>\n",
       "      <td>[selfishness, i, dont, feel, very, good, its, ...</td>\n",
       "      <td>selfishness dont feel good like dont belong wo...</td>\n",
       "    </tr>\n",
       "    <tr>\n",
       "      <th>53040</th>\n",
       "      <td>Is there any way to sleep better? I can't slee...</td>\n",
       "      <td>Anxiety</td>\n",
       "      <td>22</td>\n",
       "      <td>2</td>\n",
       "      <td>is there any way to sleep better i cant sleep ...</td>\n",
       "      <td>Is there any way to sleep better I cant sleep ...</td>\n",
       "      <td>[is, there, any, way, to, sleep, better, i, ca...</td>\n",
       "      <td>way sleep better cant sleep nights meds didnt ...</td>\n",
       "    </tr>\n",
       "    <tr>\n",
       "      <th>53041</th>\n",
       "      <td>Public speaking tips? Hi, all. I have to give ...</td>\n",
       "      <td>Anxiety</td>\n",
       "      <td>94</td>\n",
       "      <td>6</td>\n",
       "      <td>public speaking tips hi all i have to give a p...</td>\n",
       "      <td>Public speaking tips Hi all I have to give a p...</td>\n",
       "      <td>[public, speaking, tips, hi, all, i, have, to,...</td>\n",
       "      <td>public speaking tips hi give presentation work...</td>\n",
       "    </tr>\n",
       "    <tr>\n",
       "      <th>53042</th>\n",
       "      <td>I have really bad door anxiety! It's not about...</td>\n",
       "      <td>Anxiety</td>\n",
       "      <td>90</td>\n",
       "      <td>3</td>\n",
       "      <td>i have really bad door anxiety its not about b...</td>\n",
       "      <td>I have really bad door anxiety Its not about b...</td>\n",
       "      <td>[i, have, really, bad, door, anxiety, its, not...</td>\n",
       "      <td>really bad door anxiety scared didnt lock door...</td>\n",
       "    </tr>\n",
       "  </tbody>\n",
       "</table>\n",
       "<p>52681 rows × 8 columns</p>\n",
       "</div>"
      ],
      "text/plain": [
       "                                               statement   status  num_words  \\\n",
       "0                                             oh my gosh  Anxiety          3   \n",
       "1      trouble sleeping, confused mind, restless hear...  Anxiety         13   \n",
       "2      All wrong, back off dear, forward doubt. Stay ...  Anxiety         17   \n",
       "3      I've shifted my focus to something else but I'...  Anxiety         13   \n",
       "4      I'm restless and restless, it's been a month n...  Anxiety         20   \n",
       "...                                                  ...      ...        ...   \n",
       "53038  Nobody takes me seriously I’ve (24M) dealt wit...  Anxiety        385   \n",
       "53039  selfishness  \"I don't feel very good, it's lik...  Anxiety        251   \n",
       "53040  Is there any way to sleep better? I can't slee...  Anxiety         22   \n",
       "53041  Public speaking tips? Hi, all. I have to give ...  Anxiety         94   \n",
       "53042  I have really bad door anxiety! It's not about...  Anxiety         90   \n",
       "\n",
       "       num_sentences                                  cleaned_statement  \\\n",
       "0                  1                                         oh my gosh   \n",
       "1                  2  trouble sleeping confused mind restless heart ...   \n",
       "2                  2  all wrong back off dear forward doubt stay in ...   \n",
       "3                  1  ive shifted my focus to something else but im ...   \n",
       "4                  2  im restless and restless its been a month now ...   \n",
       "...              ...                                                ...   \n",
       "53038             16  nobody takes me seriously ive  dealt with depr...   \n",
       "53039             12  selfishness  i dont feel very good its like i ...   \n",
       "53040              2  is there any way to sleep better i cant sleep ...   \n",
       "53041              6  public speaking tips hi all i have to give a p...   \n",
       "53042              3  i have really bad door anxiety its not about b...   \n",
       "\n",
       "                                       limited_statement  \\\n",
       "0                                             oh my gosh   \n",
       "1      trouble sleeping confused mind restless heart ...   \n",
       "2      All wrong back off dear forward doubt Stay in ...   \n",
       "3      Ive shifted my focus to something else but Im ...   \n",
       "4      Im restless and restless its been a month now ...   \n",
       "...                                                  ...   \n",
       "53038  Nobody takes me seriously Ive dealt with depre...   \n",
       "53039  selfishness I dont feel very good its like I d...   \n",
       "53040  Is there any way to sleep better I cant sleep ...   \n",
       "53041  Public speaking tips Hi all I have to give a p...   \n",
       "53042  I have really bad door anxiety Its not about b...   \n",
       "\n",
       "                                                  tokens  \\\n",
       "0                                         [oh, my, gosh]   \n",
       "1      [trouble, sleeping, confused, mind, restless, ...   \n",
       "2      [all, wrong, back, off, dear, forward, doubt, ...   \n",
       "3      [ive, shifted, my, focus, to, something, else,...   \n",
       "4      [im, restless, and, restless, its, been, a, mo...   \n",
       "...                                                  ...   \n",
       "53038  [nobody, takes, me, seriously, ive, dealt, wit...   \n",
       "53039  [selfishness, i, dont, feel, very, good, its, ...   \n",
       "53040  [is, there, any, way, to, sleep, better, i, ca...   \n",
       "53041  [public, speaking, tips, hi, all, i, have, to,...   \n",
       "53042  [i, have, really, bad, door, anxiety, its, not...   \n",
       "\n",
       "                                          tokens_stemmed  \n",
       "0                                                oh gosh  \n",
       "1      trouble sleeping confused mind restless heart ...  \n",
       "2      wrong back dear forward doubt stay restless re...  \n",
       "3      ive shifted focus something else im still worried  \n",
       "4                    im restless restless month boy mean  \n",
       "...                                                  ...  \n",
       "53038  nobody takes seriously ive dealt depressionanx...  \n",
       "53039  selfishness dont feel good like dont belong wo...  \n",
       "53040  way sleep better cant sleep nights meds didnt ...  \n",
       "53041  public speaking tips hi give presentation work...  \n",
       "53042  really bad door anxiety scared didnt lock door...  \n",
       "\n",
       "[52681 rows x 8 columns]"
      ]
     },
     "execution_count": 63,
     "metadata": {},
     "output_type": "execute_result"
    }
   ],
   "source": [
    "df"
   ]
  },
  {
   "cell_type": "code",
   "execution_count": 65,
   "metadata": {},
   "outputs": [],
   "source": [
    "from sklearn.model_selection import train_test_split"
   ]
  },
  {
   "cell_type": "code",
   "execution_count": 66,
   "metadata": {},
   "outputs": [],
   "source": [
    "X = df['tokens_stemmed']\n",
    "y = df['status']\n",
    "X_train, X_test, y_train, y_test = train_test_split(X, y, test_size=0.2, random_state=42)\n",
    "\n",
    "# One hot encode categorical labels\n",
    "y_train_encoded = pd.get_dummies(y_train).values\n",
    "y_test_encoded = pd.get_dummies(y_test).values"
   ]
  },
  {
   "cell_type": "code",
   "execution_count": 75,
   "metadata": {},
   "outputs": [
    {
     "data": {
      "text/plain": [
       "array([[False, False, False, ..., False, False,  True],\n",
       "       [False, False,  True, ..., False, False, False],\n",
       "       [False, False, False, ...,  True, False, False],\n",
       "       ...,\n",
       "       [False, False,  True, ..., False, False, False],\n",
       "       [False, False, False, ..., False, False, False],\n",
       "       [False, False,  True, ..., False, False, False]])"
      ]
     },
     "execution_count": 75,
     "metadata": {},
     "output_type": "execute_result"
    }
   ],
   "source": [
    "y_train_encoded"
   ]
  },
  {
   "cell_type": "code",
   "execution_count": 67,
   "metadata": {},
   "outputs": [],
   "source": [
    "from tensorflow.keras.layers import TextVectorization\n",
    "vectorizer = TextVectorization(max_tokens=20000, output_sequence_length=200)\n",
    "\n",
    "vectorizer.adapt(X_train.values)\n",
    "\n",
    "X_train_vectorized = vectorizer(X_train.values)\n",
    "X_test_vectorized = vectorizer(X_test.values)\n",
    "\n",
    "from sklearn.utils.class_weight import compute_class_weight\n",
    "class_weights = compute_class_weight(class_weight='balanced', classes=np.unique(y_train), y=y_train)\n",
    "class_weight_dict = dict(enumerate(class_weights))"
   ]
  },
  {
   "cell_type": "code",
   "execution_count": 68,
   "metadata": {},
   "outputs": [
    {
     "data": {
      "text/plain": [
       "{0: np.float64(1.9509304694009815),\n",
       " 1: np.float64(2.675809523809524),\n",
       " 2: np.float64(0.4860002767655335),\n",
       " 3: np.float64(0.46187736314318595),\n",
       " 4: np.float64(7.16734693877551),\n",
       " 5: np.float64(2.9354321933551577),\n",
       " 6: np.float64(0.7088028524336506)}"
      ]
     },
     "execution_count": 68,
     "metadata": {},
     "output_type": "execute_result"
    }
   ],
   "source": [
    "class_weight_dict"
   ]
  },
  {
   "cell_type": "code",
   "execution_count": 78,
   "metadata": {},
   "outputs": [
    {
     "data": {
      "text/plain": [
       "<tf.Tensor: shape=(42144, 200), dtype=int64, numpy=\n",
       "array([[   5,  192,    2, ...,    0,    0,    0],\n",
       "       [  46,  144,  915, ...,    0,    0,    0],\n",
       "       [  63,  692, 1345, ...,    0,    0,    0],\n",
       "       ...,\n",
       "       [  46,   10,   16, ...,    0,    0,    0],\n",
       "       [ 920,  349,    0, ...,    0,    0,    0],\n",
       "       [  69,   82, 1956, ...,    0,    0,    0]])>"
      ]
     },
     "execution_count": 78,
     "metadata": {},
     "output_type": "execute_result"
    }
   ],
   "source": [
    "X_train_vectorized"
   ]
  },
  {
   "cell_type": "code",
   "execution_count": 71,
   "metadata": {},
   "outputs": [],
   "source": [
    "from tensorflow.keras.models import Sequential\n",
    "from tensorflow.keras.layers import Embedding, LSTM, Dense, Bidirectional, Dropout, Conv1D, MaxPooling1D, GlobalMaxPooling1D\n",
    "from tensorflow.keras.optimizers import Adam\n",
    "from tensorflow.keras.callbacks import EarlyStopping\n",
    "\n",
    "# Metrics for evaluation\n",
    "from sklearn.metrics import accuracy_score, classification_report, confusion_matrix"
   ]
  },
  {
   "cell_type": "code",
   "execution_count": 72,
   "metadata": {},
   "outputs": [
    {
     "data": {
      "text/html": [
       "<pre style=\"white-space:pre;overflow-x:auto;line-height:normal;font-family:Menlo,'DejaVu Sans Mono',consolas,'Courier New',monospace\"><span style=\"font-weight: bold\">Model: \"sequential\"</span>\n",
       "</pre>\n"
      ],
      "text/plain": [
       "\u001b[1mModel: \"sequential\"\u001b[0m\n"
      ]
     },
     "metadata": {},
     "output_type": "display_data"
    },
    {
     "data": {
      "text/html": [
       "<pre style=\"white-space:pre;overflow-x:auto;line-height:normal;font-family:Menlo,'DejaVu Sans Mono',consolas,'Courier New',monospace\">┏━━━━━━━━━━━━━━━━━━━━━━━━━━━━━━━━━┳━━━━━━━━━━━━━━━━━━━━━━━━┳━━━━━━━━━━━━━━━┓\n",
       "┃<span style=\"font-weight: bold\"> Layer (type)                    </span>┃<span style=\"font-weight: bold\"> Output Shape           </span>┃<span style=\"font-weight: bold\">       Param # </span>┃\n",
       "┡━━━━━━━━━━━━━━━━━━━━━━━━━━━━━━━━━╇━━━━━━━━━━━━━━━━━━━━━━━━╇━━━━━━━━━━━━━━━┩\n",
       "│ embedding (<span style=\"color: #0087ff; text-decoration-color: #0087ff\">Embedding</span>)           │ (<span style=\"color: #00d7ff; text-decoration-color: #00d7ff\">None</span>, <span style=\"color: #00af00; text-decoration-color: #00af00\">200</span>, <span style=\"color: #00af00; text-decoration-color: #00af00\">128</span>)       │     <span style=\"color: #00af00; text-decoration-color: #00af00\">2,560,000</span> │\n",
       "├─────────────────────────────────┼────────────────────────┼───────────────┤\n",
       "│ lstm (<span style=\"color: #0087ff; text-decoration-color: #0087ff\">LSTM</span>)                     │ (<span style=\"color: #00d7ff; text-decoration-color: #00d7ff\">None</span>, <span style=\"color: #00af00; text-decoration-color: #00af00\">64</span>)             │        <span style=\"color: #00af00; text-decoration-color: #00af00\">49,408</span> │\n",
       "├─────────────────────────────────┼────────────────────────┼───────────────┤\n",
       "│ dropout (<span style=\"color: #0087ff; text-decoration-color: #0087ff\">Dropout</span>)               │ (<span style=\"color: #00d7ff; text-decoration-color: #00d7ff\">None</span>, <span style=\"color: #00af00; text-decoration-color: #00af00\">64</span>)             │             <span style=\"color: #00af00; text-decoration-color: #00af00\">0</span> │\n",
       "├─────────────────────────────────┼────────────────────────┼───────────────┤\n",
       "│ dense (<span style=\"color: #0087ff; text-decoration-color: #0087ff\">Dense</span>)                   │ (<span style=\"color: #00d7ff; text-decoration-color: #00d7ff\">None</span>, <span style=\"color: #00af00; text-decoration-color: #00af00\">7</span>)              │           <span style=\"color: #00af00; text-decoration-color: #00af00\">455</span> │\n",
       "└─────────────────────────────────┴────────────────────────┴───────────────┘\n",
       "</pre>\n"
      ],
      "text/plain": [
       "┏━━━━━━━━━━━━━━━━━━━━━━━━━━━━━━━━━┳━━━━━━━━━━━━━━━━━━━━━━━━┳━━━━━━━━━━━━━━━┓\n",
       "┃\u001b[1m \u001b[0m\u001b[1mLayer (type)                   \u001b[0m\u001b[1m \u001b[0m┃\u001b[1m \u001b[0m\u001b[1mOutput Shape          \u001b[0m\u001b[1m \u001b[0m┃\u001b[1m \u001b[0m\u001b[1m      Param #\u001b[0m\u001b[1m \u001b[0m┃\n",
       "┡━━━━━━━━━━━━━━━━━━━━━━━━━━━━━━━━━╇━━━━━━━━━━━━━━━━━━━━━━━━╇━━━━━━━━━━━━━━━┩\n",
       "│ embedding (\u001b[38;5;33mEmbedding\u001b[0m)           │ (\u001b[38;5;45mNone\u001b[0m, \u001b[38;5;34m200\u001b[0m, \u001b[38;5;34m128\u001b[0m)       │     \u001b[38;5;34m2,560,000\u001b[0m │\n",
       "├─────────────────────────────────┼────────────────────────┼───────────────┤\n",
       "│ lstm (\u001b[38;5;33mLSTM\u001b[0m)                     │ (\u001b[38;5;45mNone\u001b[0m, \u001b[38;5;34m64\u001b[0m)             │        \u001b[38;5;34m49,408\u001b[0m │\n",
       "├─────────────────────────────────┼────────────────────────┼───────────────┤\n",
       "│ dropout (\u001b[38;5;33mDropout\u001b[0m)               │ (\u001b[38;5;45mNone\u001b[0m, \u001b[38;5;34m64\u001b[0m)             │             \u001b[38;5;34m0\u001b[0m │\n",
       "├─────────────────────────────────┼────────────────────────┼───────────────┤\n",
       "│ dense (\u001b[38;5;33mDense\u001b[0m)                   │ (\u001b[38;5;45mNone\u001b[0m, \u001b[38;5;34m7\u001b[0m)              │           \u001b[38;5;34m455\u001b[0m │\n",
       "└─────────────────────────────────┴────────────────────────┴───────────────┘\n"
      ]
     },
     "metadata": {},
     "output_type": "display_data"
    },
    {
     "data": {
      "text/html": [
       "<pre style=\"white-space:pre;overflow-x:auto;line-height:normal;font-family:Menlo,'DejaVu Sans Mono',consolas,'Courier New',monospace\"><span style=\"font-weight: bold\"> Total params: </span><span style=\"color: #00af00; text-decoration-color: #00af00\">2,609,863</span> (9.96 MB)\n",
       "</pre>\n"
      ],
      "text/plain": [
       "\u001b[1m Total params: \u001b[0m\u001b[38;5;34m2,609,863\u001b[0m (9.96 MB)\n"
      ]
     },
     "metadata": {},
     "output_type": "display_data"
    },
    {
     "data": {
      "text/html": [
       "<pre style=\"white-space:pre;overflow-x:auto;line-height:normal;font-family:Menlo,'DejaVu Sans Mono',consolas,'Courier New',monospace\"><span style=\"font-weight: bold\"> Trainable params: </span><span style=\"color: #00af00; text-decoration-color: #00af00\">2,609,863</span> (9.96 MB)\n",
       "</pre>\n"
      ],
      "text/plain": [
       "\u001b[1m Trainable params: \u001b[0m\u001b[38;5;34m2,609,863\u001b[0m (9.96 MB)\n"
      ]
     },
     "metadata": {},
     "output_type": "display_data"
    },
    {
     "data": {
      "text/html": [
       "<pre style=\"white-space:pre;overflow-x:auto;line-height:normal;font-family:Menlo,'DejaVu Sans Mono',consolas,'Courier New',monospace\"><span style=\"font-weight: bold\"> Non-trainable params: </span><span style=\"color: #00af00; text-decoration-color: #00af00\">0</span> (0.00 B)\n",
       "</pre>\n"
      ],
      "text/plain": [
       "\u001b[1m Non-trainable params: \u001b[0m\u001b[38;5;34m0\u001b[0m (0.00 B)\n"
      ]
     },
     "metadata": {},
     "output_type": "display_data"
    }
   ],
   "source": [
    "import tensorflow as tf\n",
    "vocab_size = 20000\n",
    "embedding_dim = 128\n",
    "num_classes = y_train_encoded.shape[1]\n",
    "\n",
    "model_base = Sequential([\n",
    "    tf.keras.Input(shape=(200,)),\n",
    "    Embedding(input_dim=20000, output_dim=128),\n",
    "    LSTM(units=64),\n",
    "    Dropout(0.3),\n",
    "    Dense(num_classes, activation='softmax')\n",
    "])\n",
    "\n",
    "# Compile the model\n",
    "model_base.compile(optimizer='adam', loss='categorical_crossentropy', metrics=['accuracy'])\n",
    "model_base.summary()"
   ]
  },
  {
   "cell_type": "code",
   "execution_count": 73,
   "metadata": {},
   "outputs": [
    {
     "name": "stdout",
     "output_type": "stream",
     "text": [
      "Epoch 1/50\n",
      "\u001b[1m659/659\u001b[0m \u001b[32m━━━━━━━━━━━━━━━━━━━━\u001b[0m\u001b[37m\u001b[0m \u001b[1m71s\u001b[0m 105ms/step - accuracy: 0.1615 - loss: 1.9528 - val_accuracy: 0.0225 - val_loss: 1.9530\n",
      "Epoch 2/50\n",
      "\u001b[1m659/659\u001b[0m \u001b[32m━━━━━━━━━━━━━━━━━━━━\u001b[0m\u001b[37m\u001b[0m \u001b[1m68s\u001b[0m 103ms/step - accuracy: 0.1687 - loss: 1.9231 - val_accuracy: 0.3155 - val_loss: 1.9297\n",
      "Epoch 3/50\n",
      "\u001b[1m659/659\u001b[0m \u001b[32m━━━━━━━━━━━━━━━━━━━━\u001b[0m\u001b[37m\u001b[0m \u001b[1m66s\u001b[0m 101ms/step - accuracy: 0.2218 - loss: 1.9237 - val_accuracy: 0.3456 - val_loss: 1.6927\n",
      "Epoch 4/50\n",
      "\u001b[1m659/659\u001b[0m \u001b[32m━━━━━━━━━━━━━━━━━━━━\u001b[0m\u001b[37m\u001b[0m \u001b[1m68s\u001b[0m 104ms/step - accuracy: 0.4140 - loss: 1.6367 - val_accuracy: 0.5488 - val_loss: 0.9689\n",
      "Epoch 5/50\n",
      "\u001b[1m659/659\u001b[0m \u001b[32m━━━━━━━━━━━━━━━━━━━━\u001b[0m\u001b[37m\u001b[0m \u001b[1m72s\u001b[0m 109ms/step - accuracy: 0.5698 - loss: 1.1966 - val_accuracy: 0.5870 - val_loss: 0.9060\n",
      "Epoch 6/50\n",
      "\u001b[1m659/659\u001b[0m \u001b[32m━━━━━━━━━━━━━━━━━━━━\u001b[0m\u001b[37m\u001b[0m \u001b[1m80s\u001b[0m 122ms/step - accuracy: 0.6386 - loss: 1.0023 - val_accuracy: 0.6785 - val_loss: 0.8487\n",
      "Epoch 7/50\n",
      "\u001b[1m659/659\u001b[0m \u001b[32m━━━━━━━━━━━━━━━━━━━━\u001b[0m\u001b[37m\u001b[0m \u001b[1m76s\u001b[0m 115ms/step - accuracy: 0.7246 - loss: 0.7504 - val_accuracy: 0.7228 - val_loss: 0.7633\n",
      "Epoch 8/50\n",
      "\u001b[1m659/659\u001b[0m \u001b[32m━━━━━━━━━━━━━━━━━━━━\u001b[0m\u001b[37m\u001b[0m \u001b[1m70s\u001b[0m 106ms/step - accuracy: 0.7988 - loss: 0.5190 - val_accuracy: 0.7372 - val_loss: 0.7666\n",
      "Epoch 9/50\n",
      "\u001b[1m659/659\u001b[0m \u001b[32m━━━━━━━━━━━━━━━━━━━━\u001b[0m\u001b[37m\u001b[0m \u001b[1m67s\u001b[0m 102ms/step - accuracy: 0.8400 - loss: 0.3866 - val_accuracy: 0.7430 - val_loss: 0.7353\n",
      "Epoch 10/50\n",
      "\u001b[1m659/659\u001b[0m \u001b[32m━━━━━━━━━━━━━━━━━━━━\u001b[0m\u001b[37m\u001b[0m \u001b[1m70s\u001b[0m 106ms/step - accuracy: 0.8711 - loss: 0.2892 - val_accuracy: 0.7439 - val_loss: 0.7695\n",
      "Epoch 11/50\n",
      "\u001b[1m659/659\u001b[0m \u001b[32m━━━━━━━━━━━━━━━━━━━━\u001b[0m\u001b[37m\u001b[0m \u001b[1m75s\u001b[0m 114ms/step - accuracy: 0.8946 - loss: 0.2365 - val_accuracy: 0.7472 - val_loss: 0.8210\n",
      "Epoch 12/50\n",
      "\u001b[1m659/659\u001b[0m \u001b[32m━━━━━━━━━━━━━━━━━━━━\u001b[0m\u001b[37m\u001b[0m \u001b[1m83s\u001b[0m 126ms/step - accuracy: 0.9126 - loss: 0.1854 - val_accuracy: 0.7439 - val_loss: 0.8593\n",
      "Epoch 13/50\n",
      "\u001b[1m659/659\u001b[0m \u001b[32m━━━━━━━━━━━━━━━━━━━━\u001b[0m\u001b[37m\u001b[0m \u001b[1m79s\u001b[0m 119ms/step - accuracy: 0.9249 - loss: 0.1637 - val_accuracy: 0.7361 - val_loss: 0.8743\n",
      "Epoch 14/50\n",
      "\u001b[1m659/659\u001b[0m \u001b[32m━━━━━━━━━━━━━━━━━━━━\u001b[0m\u001b[37m\u001b[0m \u001b[1m79s\u001b[0m 119ms/step - accuracy: 0.9255 - loss: 0.1661 - val_accuracy: 0.7273 - val_loss: 0.9426\n",
      "Epoch 15/50\n",
      "\u001b[1m659/659\u001b[0m \u001b[32m━━━━━━━━━━━━━━━━━━━━\u001b[0m\u001b[37m\u001b[0m \u001b[1m70s\u001b[0m 106ms/step - accuracy: 0.9385 - loss: 0.1336 - val_accuracy: 0.7381 - val_loss: 0.9796\n",
      "Epoch 16/50\n",
      "\u001b[1m659/659\u001b[0m \u001b[32m━━━━━━━━━━━━━━━━━━━━\u001b[0m\u001b[37m\u001b[0m \u001b[1m75s\u001b[0m 114ms/step - accuracy: 0.9481 - loss: 0.1232 - val_accuracy: 0.7327 - val_loss: 0.9976\n",
      "Epoch 17/50\n",
      "\u001b[1m659/659\u001b[0m \u001b[32m━━━━━━━━━━━━━━━━━━━━\u001b[0m\u001b[37m\u001b[0m \u001b[1m77s\u001b[0m 117ms/step - accuracy: 0.9555 - loss: 0.1036 - val_accuracy: 0.7342 - val_loss: 1.0550\n",
      "Epoch 18/50\n",
      "\u001b[1m659/659\u001b[0m \u001b[32m━━━━━━━━━━━━━━━━━━━━\u001b[0m\u001b[37m\u001b[0m \u001b[1m70s\u001b[0m 106ms/step - accuracy: 0.9586 - loss: 0.0890 - val_accuracy: 0.7291 - val_loss: 1.0303\n",
      "Epoch 19/50\n",
      "\u001b[1m659/659\u001b[0m \u001b[32m━━━━━━━━━━━━━━━━━━━━\u001b[0m\u001b[37m\u001b[0m \u001b[1m68s\u001b[0m 103ms/step - accuracy: 0.9602 - loss: 0.0901 - val_accuracy: 0.7236 - val_loss: 1.1949\n",
      "Epoch 20/50\n",
      "\u001b[1m659/659\u001b[0m \u001b[32m━━━━━━━━━━━━━━━━━━━━\u001b[0m\u001b[37m\u001b[0m \u001b[1m77s\u001b[0m 117ms/step - accuracy: 0.9649 - loss: 0.0822 - val_accuracy: 0.7171 - val_loss: 1.2133\n",
      "Epoch 21/50\n",
      "\u001b[1m659/659\u001b[0m \u001b[32m━━━━━━━━━━━━━━━━━━━━\u001b[0m\u001b[37m\u001b[0m \u001b[1m71s\u001b[0m 108ms/step - accuracy: 0.9661 - loss: 0.0880 - val_accuracy: 0.7304 - val_loss: 1.2769\n",
      "Epoch 22/50\n",
      "\u001b[1m659/659\u001b[0m \u001b[32m━━━━━━━━━━━━━━━━━━━━\u001b[0m\u001b[37m\u001b[0m \u001b[1m71s\u001b[0m 108ms/step - accuracy: 0.9708 - loss: 0.0710 - val_accuracy: 0.7248 - val_loss: 1.2668\n",
      "Epoch 23/50\n",
      "\u001b[1m659/659\u001b[0m \u001b[32m━━━━━━━━━━━━━━━━━━━━\u001b[0m\u001b[37m\u001b[0m \u001b[1m71s\u001b[0m 108ms/step - accuracy: 0.9695 - loss: 0.0702 - val_accuracy: 0.7273 - val_loss: 1.2706\n",
      "Epoch 24/50\n",
      "\u001b[1m659/659\u001b[0m \u001b[32m━━━━━━━━━━━━━━━━━━━━\u001b[0m\u001b[37m\u001b[0m \u001b[1m63s\u001b[0m 96ms/step - accuracy: 0.9755 - loss: 0.0558 - val_accuracy: 0.7259 - val_loss: 1.3856\n",
      "Epoch 25/50\n",
      "\u001b[1m659/659\u001b[0m \u001b[32m━━━━━━━━━━━━━━━━━━━━\u001b[0m\u001b[37m\u001b[0m \u001b[1m70s\u001b[0m 106ms/step - accuracy: 0.9761 - loss: 0.0604 - val_accuracy: 0.7282 - val_loss: 1.3820\n",
      "Epoch 26/50\n",
      "\u001b[1m659/659\u001b[0m \u001b[32m━━━━━━━━━━━━━━━━━━━━\u001b[0m\u001b[37m\u001b[0m \u001b[1m67s\u001b[0m 101ms/step - accuracy: 0.9785 - loss: 0.0482 - val_accuracy: 0.7235 - val_loss: 1.3037\n",
      "Epoch 27/50\n",
      "\u001b[1m659/659\u001b[0m \u001b[32m━━━━━━━━━━━━━━━━━━━━\u001b[0m\u001b[37m\u001b[0m \u001b[1m72s\u001b[0m 109ms/step - accuracy: 0.9799 - loss: 0.0487 - val_accuracy: 0.7220 - val_loss: 1.3619\n",
      "Epoch 28/50\n",
      "\u001b[1m659/659\u001b[0m \u001b[32m━━━━━━━━━━━━━━━━━━━━\u001b[0m\u001b[37m\u001b[0m \u001b[1m69s\u001b[0m 105ms/step - accuracy: 0.9738 - loss: 0.0662 - val_accuracy: 0.7229 - val_loss: 1.4585\n",
      "Epoch 29/50\n",
      "\u001b[1m659/659\u001b[0m \u001b[32m━━━━━━━━━━━━━━━━━━━━\u001b[0m\u001b[37m\u001b[0m \u001b[1m68s\u001b[0m 104ms/step - accuracy: 0.9798 - loss: 0.0456 - val_accuracy: 0.7160 - val_loss: 1.5546\n",
      "Epoch 30/50\n",
      "\u001b[1m659/659\u001b[0m \u001b[32m━━━━━━━━━━━━━━━━━━━━\u001b[0m\u001b[37m\u001b[0m \u001b[1m70s\u001b[0m 106ms/step - accuracy: 0.9849 - loss: 0.0349 - val_accuracy: 0.7247 - val_loss: 1.5163\n",
      "Epoch 31/50\n",
      "\u001b[1m659/659\u001b[0m \u001b[32m━━━━━━━━━━━━━━━━━━━━\u001b[0m\u001b[37m\u001b[0m \u001b[1m74s\u001b[0m 112ms/step - accuracy: 0.9846 - loss: 0.0374 - val_accuracy: 0.7230 - val_loss: 1.5004\n",
      "Epoch 32/50\n",
      "\u001b[1m659/659\u001b[0m \u001b[32m━━━━━━━━━━━━━━━━━━━━\u001b[0m\u001b[37m\u001b[0m \u001b[1m68s\u001b[0m 104ms/step - accuracy: 0.9810 - loss: 0.0466 - val_accuracy: 0.7218 - val_loss: 1.6074\n",
      "Epoch 33/50\n",
      "\u001b[1m659/659\u001b[0m \u001b[32m━━━━━━━━━━━━━━━━━━━━\u001b[0m\u001b[37m\u001b[0m \u001b[1m77s\u001b[0m 116ms/step - accuracy: 0.9870 - loss: 0.0315 - val_accuracy: 0.7224 - val_loss: 1.4898\n",
      "Epoch 34/50\n",
      "\u001b[1m659/659\u001b[0m \u001b[32m━━━━━━━━━━━━━━━━━━━━\u001b[0m\u001b[37m\u001b[0m \u001b[1m79s\u001b[0m 120ms/step - accuracy: 0.9876 - loss: 0.0302 - val_accuracy: 0.7132 - val_loss: 1.6585\n",
      "Epoch 35/50\n",
      "\u001b[1m659/659\u001b[0m \u001b[32m━━━━━━━━━━━━━━━━━━━━\u001b[0m\u001b[37m\u001b[0m \u001b[1m75s\u001b[0m 114ms/step - accuracy: 0.9856 - loss: 0.0446 - val_accuracy: 0.7208 - val_loss: 1.4969\n",
      "Epoch 36/50\n",
      "\u001b[1m659/659\u001b[0m \u001b[32m━━━━━━━━━━━━━━━━━━━━\u001b[0m\u001b[37m\u001b[0m \u001b[1m75s\u001b[0m 114ms/step - accuracy: 0.9870 - loss: 0.0394 - val_accuracy: 0.7190 - val_loss: 1.7045\n",
      "Epoch 37/50\n",
      "\u001b[1m659/659\u001b[0m \u001b[32m━━━━━━━━━━━━━━━━━━━━\u001b[0m\u001b[37m\u001b[0m \u001b[1m75s\u001b[0m 114ms/step - accuracy: 0.9814 - loss: 0.0556 - val_accuracy: 0.7008 - val_loss: 1.3671\n",
      "Epoch 38/50\n",
      "\u001b[1m659/659\u001b[0m \u001b[32m━━━━━━━━━━━━━━━━━━━━\u001b[0m\u001b[37m\u001b[0m \u001b[1m74s\u001b[0m 112ms/step - accuracy: 0.9683 - loss: 0.1095 - val_accuracy: 0.7152 - val_loss: 1.3725\n",
      "Epoch 39/50\n",
      "\u001b[1m659/659\u001b[0m \u001b[32m━━━━━━━━━━━━━━━━━━━━\u001b[0m\u001b[37m\u001b[0m \u001b[1m73s\u001b[0m 111ms/step - accuracy: 0.9823 - loss: 0.0540 - val_accuracy: 0.7156 - val_loss: 1.6281\n",
      "Epoch 40/50\n",
      "\u001b[1m659/659\u001b[0m \u001b[32m━━━━━━━━━━━━━━━━━━━━\u001b[0m\u001b[37m\u001b[0m \u001b[1m73s\u001b[0m 111ms/step - accuracy: 0.9546 - loss: 0.1119 - val_accuracy: 0.7142 - val_loss: 1.5171\n",
      "Epoch 41/50\n",
      "\u001b[1m659/659\u001b[0m \u001b[32m━━━━━━━━━━━━━━━━━━━━\u001b[0m\u001b[37m\u001b[0m \u001b[1m72s\u001b[0m 109ms/step - accuracy: 0.9868 - loss: 0.0343 - val_accuracy: 0.7145 - val_loss: 1.7362\n",
      "Epoch 42/50\n",
      "\u001b[1m659/659\u001b[0m \u001b[32m━━━━━━━━━━━━━━━━━━━━\u001b[0m\u001b[37m\u001b[0m \u001b[1m76s\u001b[0m 115ms/step - accuracy: 0.9894 - loss: 0.0278 - val_accuracy: 0.7134 - val_loss: 1.8214\n",
      "Epoch 43/50\n",
      "\u001b[1m659/659\u001b[0m \u001b[32m━━━━━━━━━━━━━━━━━━━━\u001b[0m\u001b[37m\u001b[0m \u001b[1m73s\u001b[0m 111ms/step - accuracy: 0.9896 - loss: 0.0292 - val_accuracy: 0.7139 - val_loss: 1.8223\n",
      "Epoch 44/50\n",
      "\u001b[1m659/659\u001b[0m \u001b[32m━━━━━━━━━━━━━━━━━━━━\u001b[0m\u001b[37m\u001b[0m \u001b[1m74s\u001b[0m 112ms/step - accuracy: 0.9899 - loss: 0.0247 - val_accuracy: 0.7167 - val_loss: 1.7861\n",
      "Epoch 45/50\n",
      "\u001b[1m659/659\u001b[0m \u001b[32m━━━━━━━━━━━━━━━━━━━━\u001b[0m\u001b[37m\u001b[0m \u001b[1m71s\u001b[0m 108ms/step - accuracy: 0.9921 - loss: 0.0212 - val_accuracy: 0.7104 - val_loss: 1.9588\n",
      "Epoch 46/50\n",
      "\u001b[1m659/659\u001b[0m \u001b[32m━━━━━━━━━━━━━━━━━━━━\u001b[0m\u001b[37m\u001b[0m \u001b[1m74s\u001b[0m 112ms/step - accuracy: 0.9893 - loss: 0.0386 - val_accuracy: 0.7118 - val_loss: 1.7246\n",
      "Epoch 47/50\n",
      "\u001b[1m659/659\u001b[0m \u001b[32m━━━━━━━━━━━━━━━━━━━━\u001b[0m\u001b[37m\u001b[0m \u001b[1m69s\u001b[0m 105ms/step - accuracy: 0.9883 - loss: 0.0323 - val_accuracy: 0.7079 - val_loss: 1.8494\n",
      "Epoch 48/50\n",
      "\u001b[1m659/659\u001b[0m \u001b[32m━━━━━━━━━━━━━━━━━━━━\u001b[0m\u001b[37m\u001b[0m \u001b[1m74s\u001b[0m 112ms/step - accuracy: 0.9918 - loss: 0.0212 - val_accuracy: 0.7023 - val_loss: 1.8188\n",
      "Epoch 49/50\n",
      "\u001b[1m659/659\u001b[0m \u001b[32m━━━━━━━━━━━━━━━━━━━━\u001b[0m\u001b[37m\u001b[0m \u001b[1m75s\u001b[0m 114ms/step - accuracy: 0.9923 - loss: 0.0178 - val_accuracy: 0.7114 - val_loss: 1.9954\n",
      "Epoch 50/50\n",
      "\u001b[1m659/659\u001b[0m \u001b[32m━━━━━━━━━━━━━━━━━━━━\u001b[0m\u001b[37m\u001b[0m \u001b[1m74s\u001b[0m 112ms/step - accuracy: 0.9915 - loss: 0.0207 - val_accuracy: 0.7140 - val_loss: 1.8203\n"
     ]
    }
   ],
   "source": [
    "early_stopping = EarlyStopping(monitor='val_loss', patience=3, restore_best_weights=True)\n",
    "\n",
    "history = model_base.fit(\n",
    "    X_train_vectorized, y_train_encoded, \n",
    "    validation_data=(X_test_vectorized, y_test_encoded), \n",
    "    epochs=50, batch_size=64, \n",
    "    class_weight=class_weight_dict)"
   ]
  },
  {
   "cell_type": "code",
   "execution_count": 74,
   "metadata": {},
   "outputs": [
    {
     "name": "stdout",
     "output_type": "stream",
     "text": [
      "\u001b[1m330/330\u001b[0m \u001b[32m━━━━━━━━━━━━━━━━━━━━\u001b[0m\u001b[37m\u001b[0m \u001b[1m6s\u001b[0m 17ms/step\n",
      "              precision    recall  f1-score   support\n",
      "\n",
      "           0       0.71      0.77      0.74       755\n",
      "           1       0.76      0.76      0.76       527\n",
      "           2       0.66      0.63      0.64      3016\n",
      "           3       0.88      0.88      0.88      3308\n",
      "           4       0.57      0.62      0.60       237\n",
      "           5       0.59      0.53      0.56       536\n",
      "           6       0.58      0.60      0.59      2158\n",
      "\n",
      "    accuracy                           0.71     10537\n",
      "   macro avg       0.68      0.68      0.68     10537\n",
      "weighted avg       0.71      0.71      0.71     10537\n",
      "\n"
     ]
    }
   ],
   "source": [
    "from sklearn.metrics import classification_report\n",
    "y_pred = model_base.predict(X_test_vectorized)\n",
    "y_pred = np.argmax(y_pred, axis=1)\n",
    "y_test = np.argmax(y_test_encoded, axis=1)\n",
    "print(classification_report(y_test, y_pred))"
   ]
  },
  {
   "cell_type": "code",
   "execution_count": 79,
   "metadata": {},
   "outputs": [
    {
     "data": {
      "text/html": [
       "<pre style=\"white-space:pre;overflow-x:auto;line-height:normal;font-family:Menlo,'DejaVu Sans Mono',consolas,'Courier New',monospace\"><span style=\"font-weight: bold\">Model: \"sequential_1\"</span>\n",
       "</pre>\n"
      ],
      "text/plain": [
       "\u001b[1mModel: \"sequential_1\"\u001b[0m\n"
      ]
     },
     "metadata": {},
     "output_type": "display_data"
    },
    {
     "data": {
      "text/html": [
       "<pre style=\"white-space:pre;overflow-x:auto;line-height:normal;font-family:Menlo,'DejaVu Sans Mono',consolas,'Courier New',monospace\">┏━━━━━━━━━━━━━━━━━━━━━━━━━━━━━━━━━┳━━━━━━━━━━━━━━━━━━━━━━━━┳━━━━━━━━━━━━━━━┓\n",
       "┃<span style=\"font-weight: bold\"> Layer (type)                    </span>┃<span style=\"font-weight: bold\"> Output Shape           </span>┃<span style=\"font-weight: bold\">       Param # </span>┃\n",
       "┡━━━━━━━━━━━━━━━━━━━━━━━━━━━━━━━━━╇━━━━━━━━━━━━━━━━━━━━━━━━╇━━━━━━━━━━━━━━━┩\n",
       "│ embedding_1 (<span style=\"color: #0087ff; text-decoration-color: #0087ff\">Embedding</span>)         │ (<span style=\"color: #00d7ff; text-decoration-color: #00d7ff\">None</span>, <span style=\"color: #00af00; text-decoration-color: #00af00\">200</span>, <span style=\"color: #00af00; text-decoration-color: #00af00\">128</span>)       │     <span style=\"color: #00af00; text-decoration-color: #00af00\">2,560,000</span> │\n",
       "├─────────────────────────────────┼────────────────────────┼───────────────┤\n",
       "│ bidirectional (<span style=\"color: #0087ff; text-decoration-color: #0087ff\">Bidirectional</span>)   │ (<span style=\"color: #00d7ff; text-decoration-color: #00d7ff\">None</span>, <span style=\"color: #00af00; text-decoration-color: #00af00\">200</span>, <span style=\"color: #00af00; text-decoration-color: #00af00\">128</span>)       │        <span style=\"color: #00af00; text-decoration-color: #00af00\">98,816</span> │\n",
       "├─────────────────────────────────┼────────────────────────┼───────────────┤\n",
       "│ dropout_1 (<span style=\"color: #0087ff; text-decoration-color: #0087ff\">Dropout</span>)             │ (<span style=\"color: #00d7ff; text-decoration-color: #00d7ff\">None</span>, <span style=\"color: #00af00; text-decoration-color: #00af00\">200</span>, <span style=\"color: #00af00; text-decoration-color: #00af00\">128</span>)       │             <span style=\"color: #00af00; text-decoration-color: #00af00\">0</span> │\n",
       "├─────────────────────────────────┼────────────────────────┼───────────────┤\n",
       "│ batch_normalization             │ (<span style=\"color: #00d7ff; text-decoration-color: #00d7ff\">None</span>, <span style=\"color: #00af00; text-decoration-color: #00af00\">200</span>, <span style=\"color: #00af00; text-decoration-color: #00af00\">128</span>)       │           <span style=\"color: #00af00; text-decoration-color: #00af00\">512</span> │\n",
       "│ (<span style=\"color: #0087ff; text-decoration-color: #0087ff\">BatchNormalization</span>)            │                        │               │\n",
       "├─────────────────────────────────┼────────────────────────┼───────────────┤\n",
       "│ lstm_2 (<span style=\"color: #0087ff; text-decoration-color: #0087ff\">LSTM</span>)                   │ (<span style=\"color: #00d7ff; text-decoration-color: #00d7ff\">None</span>, <span style=\"color: #00af00; text-decoration-color: #00af00\">32</span>)             │        <span style=\"color: #00af00; text-decoration-color: #00af00\">20,608</span> │\n",
       "├─────────────────────────────────┼────────────────────────┼───────────────┤\n",
       "│ dropout_2 (<span style=\"color: #0087ff; text-decoration-color: #0087ff\">Dropout</span>)             │ (<span style=\"color: #00d7ff; text-decoration-color: #00d7ff\">None</span>, <span style=\"color: #00af00; text-decoration-color: #00af00\">32</span>)             │             <span style=\"color: #00af00; text-decoration-color: #00af00\">0</span> │\n",
       "├─────────────────────────────────┼────────────────────────┼───────────────┤\n",
       "│ dense_1 (<span style=\"color: #0087ff; text-decoration-color: #0087ff\">Dense</span>)                 │ (<span style=\"color: #00d7ff; text-decoration-color: #00d7ff\">None</span>, <span style=\"color: #00af00; text-decoration-color: #00af00\">7</span>)              │           <span style=\"color: #00af00; text-decoration-color: #00af00\">231</span> │\n",
       "└─────────────────────────────────┴────────────────────────┴───────────────┘\n",
       "</pre>\n"
      ],
      "text/plain": [
       "┏━━━━━━━━━━━━━━━━━━━━━━━━━━━━━━━━━┳━━━━━━━━━━━━━━━━━━━━━━━━┳━━━━━━━━━━━━━━━┓\n",
       "┃\u001b[1m \u001b[0m\u001b[1mLayer (type)                   \u001b[0m\u001b[1m \u001b[0m┃\u001b[1m \u001b[0m\u001b[1mOutput Shape          \u001b[0m\u001b[1m \u001b[0m┃\u001b[1m \u001b[0m\u001b[1m      Param #\u001b[0m\u001b[1m \u001b[0m┃\n",
       "┡━━━━━━━━━━━━━━━━━━━━━━━━━━━━━━━━━╇━━━━━━━━━━━━━━━━━━━━━━━━╇━━━━━━━━━━━━━━━┩\n",
       "│ embedding_1 (\u001b[38;5;33mEmbedding\u001b[0m)         │ (\u001b[38;5;45mNone\u001b[0m, \u001b[38;5;34m200\u001b[0m, \u001b[38;5;34m128\u001b[0m)       │     \u001b[38;5;34m2,560,000\u001b[0m │\n",
       "├─────────────────────────────────┼────────────────────────┼───────────────┤\n",
       "│ bidirectional (\u001b[38;5;33mBidirectional\u001b[0m)   │ (\u001b[38;5;45mNone\u001b[0m, \u001b[38;5;34m200\u001b[0m, \u001b[38;5;34m128\u001b[0m)       │        \u001b[38;5;34m98,816\u001b[0m │\n",
       "├─────────────────────────────────┼────────────────────────┼───────────────┤\n",
       "│ dropout_1 (\u001b[38;5;33mDropout\u001b[0m)             │ (\u001b[38;5;45mNone\u001b[0m, \u001b[38;5;34m200\u001b[0m, \u001b[38;5;34m128\u001b[0m)       │             \u001b[38;5;34m0\u001b[0m │\n",
       "├─────────────────────────────────┼────────────────────────┼───────────────┤\n",
       "│ batch_normalization             │ (\u001b[38;5;45mNone\u001b[0m, \u001b[38;5;34m200\u001b[0m, \u001b[38;5;34m128\u001b[0m)       │           \u001b[38;5;34m512\u001b[0m │\n",
       "│ (\u001b[38;5;33mBatchNormalization\u001b[0m)            │                        │               │\n",
       "├─────────────────────────────────┼────────────────────────┼───────────────┤\n",
       "│ lstm_2 (\u001b[38;5;33mLSTM\u001b[0m)                   │ (\u001b[38;5;45mNone\u001b[0m, \u001b[38;5;34m32\u001b[0m)             │        \u001b[38;5;34m20,608\u001b[0m │\n",
       "├─────────────────────────────────┼────────────────────────┼───────────────┤\n",
       "│ dropout_2 (\u001b[38;5;33mDropout\u001b[0m)             │ (\u001b[38;5;45mNone\u001b[0m, \u001b[38;5;34m32\u001b[0m)             │             \u001b[38;5;34m0\u001b[0m │\n",
       "├─────────────────────────────────┼────────────────────────┼───────────────┤\n",
       "│ dense_1 (\u001b[38;5;33mDense\u001b[0m)                 │ (\u001b[38;5;45mNone\u001b[0m, \u001b[38;5;34m7\u001b[0m)              │           \u001b[38;5;34m231\u001b[0m │\n",
       "└─────────────────────────────────┴────────────────────────┴───────────────┘\n"
      ]
     },
     "metadata": {},
     "output_type": "display_data"
    },
    {
     "data": {
      "text/html": [
       "<pre style=\"white-space:pre;overflow-x:auto;line-height:normal;font-family:Menlo,'DejaVu Sans Mono',consolas,'Courier New',monospace\"><span style=\"font-weight: bold\"> Total params: </span><span style=\"color: #00af00; text-decoration-color: #00af00\">2,680,167</span> (10.22 MB)\n",
       "</pre>\n"
      ],
      "text/plain": [
       "\u001b[1m Total params: \u001b[0m\u001b[38;5;34m2,680,167\u001b[0m (10.22 MB)\n"
      ]
     },
     "metadata": {},
     "output_type": "display_data"
    },
    {
     "data": {
      "text/html": [
       "<pre style=\"white-space:pre;overflow-x:auto;line-height:normal;font-family:Menlo,'DejaVu Sans Mono',consolas,'Courier New',monospace\"><span style=\"font-weight: bold\"> Trainable params: </span><span style=\"color: #00af00; text-decoration-color: #00af00\">2,679,911</span> (10.22 MB)\n",
       "</pre>\n"
      ],
      "text/plain": [
       "\u001b[1m Trainable params: \u001b[0m\u001b[38;5;34m2,679,911\u001b[0m (10.22 MB)\n"
      ]
     },
     "metadata": {},
     "output_type": "display_data"
    },
    {
     "data": {
      "text/html": [
       "<pre style=\"white-space:pre;overflow-x:auto;line-height:normal;font-family:Menlo,'DejaVu Sans Mono',consolas,'Courier New',monospace\"><span style=\"font-weight: bold\"> Non-trainable params: </span><span style=\"color: #00af00; text-decoration-color: #00af00\">256</span> (1.00 KB)\n",
       "</pre>\n"
      ],
      "text/plain": [
       "\u001b[1m Non-trainable params: \u001b[0m\u001b[38;5;34m256\u001b[0m (1.00 KB)\n"
      ]
     },
     "metadata": {},
     "output_type": "display_data"
    },
    {
     "name": "stdout",
     "output_type": "stream",
     "text": [
      "Epoch 1/30\n",
      "\u001b[1m1317/1317\u001b[0m \u001b[32m━━━━━━━━━━━━━━━━━━━━\u001b[0m\u001b[37m\u001b[0m \u001b[1m199s\u001b[0m 149ms/step - accuracy: 0.3037 - loss: 1.7415 - val_accuracy: 0.3334 - val_loss: 1.5860\n",
      "Epoch 2/30\n",
      "\u001b[1m1317/1317\u001b[0m \u001b[32m━━━━━━━━━━━━━━━━━━━━\u001b[0m\u001b[37m\u001b[0m \u001b[1m200s\u001b[0m 152ms/step - accuracy: 0.4982 - loss: 1.4423 - val_accuracy: 0.4985 - val_loss: 1.4101\n",
      "Epoch 3/30\n",
      "\u001b[1m1317/1317\u001b[0m \u001b[32m━━━━━━━━━━━━━━━━━━━━\u001b[0m\u001b[37m\u001b[0m \u001b[1m207s\u001b[0m 157ms/step - accuracy: 0.4996 - loss: 1.4116 - val_accuracy: 0.5422 - val_loss: 1.2613\n",
      "Epoch 4/30\n",
      "\u001b[1m1317/1317\u001b[0m \u001b[32m━━━━━━━━━━━━━━━━━━━━\u001b[0m\u001b[37m\u001b[0m \u001b[1m197s\u001b[0m 149ms/step - accuracy: 0.5569 - loss: 1.2373 - val_accuracy: 0.4900 - val_loss: 1.4226\n",
      "Epoch 5/30\n",
      "\u001b[1m1317/1317\u001b[0m \u001b[32m━━━━━━━━━━━━━━━━━━━━\u001b[0m\u001b[37m\u001b[0m \u001b[1m193s\u001b[0m 147ms/step - accuracy: 0.5465 - loss: 1.2486 - val_accuracy: 0.5606 - val_loss: 1.1657\n",
      "Epoch 6/30\n",
      "\u001b[1m1317/1317\u001b[0m \u001b[32m━━━━━━━━━━━━━━━━━━━━\u001b[0m\u001b[37m\u001b[0m \u001b[1m203s\u001b[0m 154ms/step - accuracy: 0.5810 - loss: 1.1204 - val_accuracy: 0.5746 - val_loss: 1.0265\n",
      "Epoch 7/30\n",
      "\u001b[1m1317/1317\u001b[0m \u001b[32m━━━━━━━━━━━━━━━━━━━━\u001b[0m\u001b[37m\u001b[0m \u001b[1m202s\u001b[0m 154ms/step - accuracy: 0.5997 - loss: 0.9819 - val_accuracy: 0.5919 - val_loss: 0.9847\n",
      "Epoch 8/30\n",
      "\u001b[1m1317/1317\u001b[0m \u001b[32m━━━━━━━━━━━━━━━━━━━━\u001b[0m\u001b[37m\u001b[0m \u001b[1m197s\u001b[0m 150ms/step - accuracy: 0.6090 - loss: 0.9276 - val_accuracy: 0.6005 - val_loss: 0.9545\n",
      "Epoch 9/30\n",
      "\u001b[1m1317/1317\u001b[0m \u001b[32m━━━━━━━━━━━━━━━━━━━━\u001b[0m\u001b[37m\u001b[0m \u001b[1m1143s\u001b[0m 868ms/step - accuracy: 0.6222 - loss: 0.8803 - val_accuracy: 0.5621 - val_loss: 1.0233\n",
      "Epoch 10/30\n",
      "\u001b[1m1317/1317\u001b[0m \u001b[32m━━━━━━━━━━━━━━━━━━━━\u001b[0m\u001b[37m\u001b[0m \u001b[1m1064s\u001b[0m 808ms/step - accuracy: 0.6248 - loss: 0.8630 - val_accuracy: 0.6240 - val_loss: 0.8909\n",
      "Epoch 11/30\n",
      "\u001b[1m1317/1317\u001b[0m \u001b[32m━━━━━━━━━━━━━━━━━━━━\u001b[0m\u001b[37m\u001b[0m \u001b[1m204s\u001b[0m 155ms/step - accuracy: 0.6746 - loss: 0.7974 - val_accuracy: 0.6939 - val_loss: 0.8501\n",
      "Epoch 12/30\n",
      "\u001b[1m1317/1317\u001b[0m \u001b[32m━━━━━━━━━━━━━━━━━━━━\u001b[0m\u001b[37m\u001b[0m \u001b[1m209s\u001b[0m 159ms/step - accuracy: 0.7121 - loss: 0.7568 - val_accuracy: 0.7027 - val_loss: 0.8511\n",
      "Epoch 13/30\n",
      "\u001b[1m1317/1317\u001b[0m \u001b[32m━━━━━━━━━━━━━━━━━━━━\u001b[0m\u001b[37m\u001b[0m \u001b[1m205s\u001b[0m 156ms/step - accuracy: 0.7430 - loss: 0.7164 - val_accuracy: 0.7078 - val_loss: 0.8340\n",
      "Epoch 14/30\n",
      "\u001b[1m1317/1317\u001b[0m \u001b[32m━━━━━━━━━━━━━━━━━━━━\u001b[0m\u001b[37m\u001b[0m \u001b[1m202s\u001b[0m 153ms/step - accuracy: 0.7722 - loss: 0.6672 - val_accuracy: 0.7161 - val_loss: 0.8298\n",
      "Epoch 15/30\n",
      "\u001b[1m1317/1317\u001b[0m \u001b[32m━━━━━━━━━━━━━━━━━━━━\u001b[0m\u001b[37m\u001b[0m \u001b[1m198s\u001b[0m 150ms/step - accuracy: 0.7996 - loss: 0.6304 - val_accuracy: 0.7236 - val_loss: 0.8228\n",
      "Epoch 16/30\n",
      "\u001b[1m1317/1317\u001b[0m \u001b[32m━━━━━━━━━━━━━━━━━━━━\u001b[0m\u001b[37m\u001b[0m \u001b[1m190s\u001b[0m 145ms/step - accuracy: 0.8120 - loss: 0.6089 - val_accuracy: 0.7184 - val_loss: 0.8528\n",
      "Epoch 17/30\n",
      "\u001b[1m1317/1317\u001b[0m \u001b[32m━━━━━━━━━━━━━━━━━━━━\u001b[0m\u001b[37m\u001b[0m \u001b[1m194s\u001b[0m 147ms/step - accuracy: 0.8290 - loss: 0.5770 - val_accuracy: 0.7212 - val_loss: 0.8564\n",
      "Epoch 18/30\n",
      "\u001b[1m1317/1317\u001b[0m \u001b[32m━━━━━━━━━━━━━━━━━━━━\u001b[0m\u001b[37m\u001b[0m \u001b[1m193s\u001b[0m 147ms/step - accuracy: 0.8455 - loss: 0.5478 - val_accuracy: 0.7181 - val_loss: 0.8569\n"
     ]
    }
   ],
   "source": [
    "from tensorflow.keras.layers import Embedding, LSTM, Dropout, Dense, Bidirectional, BatchNormalization\n",
    "\n",
    "model_tuned = Sequential([\n",
    "    tf.keras.Input(shape=(200,)),\n",
    "    Embedding(input_dim=vocab_size, output_dim=embedding_dim),\n",
    "    Bidirectional(LSTM(units=64, return_sequences=True)),\n",
    "    Dropout(0.5),\n",
    "    BatchNormalization(),\n",
    "    LSTM(units=32),\n",
    "    Dropout(0.5),\n",
    "    Dense(num_classes, activation='softmax', kernel_regularizer=tf.keras.regularizers.l2(0.01))  # L2 Regularization\n",
    "])\n",
    "\n",
    "model_tuned.compile(optimizer='adam', loss='categorical_crossentropy', metrics=['accuracy'])\n",
    "model_tuned.summary()\n",
    "\n",
    "\n",
    "history = model_tuned.fit(\n",
    "    X_train_vectorized,\n",
    "    y_train_encoded,\n",
    "    validation_data=(X_test_vectorized, y_test_encoded),\n",
    "    epochs=30,\n",
    "    batch_size=32,\n",
    "    callbacks=[early_stopping])"
   ]
  },
  {
   "cell_type": "code",
   "execution_count": 81,
   "metadata": {},
   "outputs": [
    {
     "name": "stdout",
     "output_type": "stream",
     "text": [
      "\u001b[1m330/330\u001b[0m \u001b[32m━━━━━━━━━━━━━━━━━━━━\u001b[0m\u001b[37m\u001b[0m \u001b[1m13s\u001b[0m 34ms/step\n",
      "              precision    recall  f1-score   support\n",
      "\n",
      "           0       0.50      0.69      0.58       755\n",
      "           1       0.77      0.69      0.73       527\n",
      "           2       0.71      0.69      0.70      3016\n",
      "           3       0.90      0.91      0.91      3308\n",
      "           4       0.00      0.00      0.00       237\n",
      "           5       0.37      0.43      0.40       536\n",
      "           6       0.67      0.66      0.66      2158\n",
      "\n",
      "    accuracy                           0.72     10537\n",
      "   macro avg       0.56      0.58      0.57     10537\n",
      "weighted avg       0.72      0.72      0.72     10537\n",
      "\n"
     ]
    },
    {
     "name": "stderr",
     "output_type": "stream",
     "text": [
      "/Library/Frameworks/Python.framework/Versions/3.9/lib/python3.9/site-packages/sklearn/metrics/_classification.py:1565: UndefinedMetricWarning:\n",
      "\n",
      "Precision is ill-defined and being set to 0.0 in labels with no predicted samples. Use `zero_division` parameter to control this behavior.\n",
      "\n",
      "/Library/Frameworks/Python.framework/Versions/3.9/lib/python3.9/site-packages/sklearn/metrics/_classification.py:1565: UndefinedMetricWarning:\n",
      "\n",
      "Precision is ill-defined and being set to 0.0 in labels with no predicted samples. Use `zero_division` parameter to control this behavior.\n",
      "\n",
      "/Library/Frameworks/Python.framework/Versions/3.9/lib/python3.9/site-packages/sklearn/metrics/_classification.py:1565: UndefinedMetricWarning:\n",
      "\n",
      "Precision is ill-defined and being set to 0.0 in labels with no predicted samples. Use `zero_division` parameter to control this behavior.\n",
      "\n"
     ]
    }
   ],
   "source": [
    "from sklearn.metrics import classification_report\n",
    "y_pred = model_tuned.predict(X_test_vectorized)\n",
    "y_pred = np.argmax(y_pred, axis=1)\n",
    "y_test = np.argmax(y_test_encoded, axis=1)\n",
    "print(classification_report(y_test, y_pred))"
   ]
  },
  {
   "cell_type": "code",
   "execution_count": null,
   "metadata": {},
   "outputs": [],
   "source": []
  }
 ],
 "metadata": {
  "kernelspec": {
   "display_name": "Python 3",
   "language": "python",
   "name": "python3"
  },
  "language_info": {
   "codemirror_mode": {
    "name": "ipython",
    "version": 3
   },
   "file_extension": ".py",
   "mimetype": "text/x-python",
   "name": "python",
   "nbconvert_exporter": "python",
   "pygments_lexer": "ipython3",
   "version": "3.9.12"
  }
 },
 "nbformat": 4,
 "nbformat_minor": 2
}
